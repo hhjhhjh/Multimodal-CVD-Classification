{
 "cells": [
  {
   "cell_type": "markdown",
   "metadata": {
    "id": "YYvGSAuai7km"
   },
   "source": [
    "### [1] 패키지 불러오기"
   ]
  },
  {
   "cell_type": "code",
   "execution_count": null,
   "metadata": {
    "id": "An7SVPOAeTkI"
   },
   "outputs": [],
   "source": [
    "import os\n",
    "import json\n",
    "import torch\n",
    "import torch.nn as nn\n",
    "import torch.nn.functional as F\n",
    "import timm\n",
    "from torch.utils.data import DataLoader, Dataset\n",
    "from torchvision import transforms\n",
    "import torch.optim as optim\n",
    "from torch.optim import lr_scheduler\n",
    "from PIL import Image\n",
    "import torchvision.transforms as transforms\n",
    "from PIL import Image"
   ]
  },
  {
   "cell_type": "markdown",
   "metadata": {
    "id": "1DKojTLYi879"
   },
   "source": [
    "### [2] Data transform 정의"
   ]
  },
  {
   "cell_type": "code",
   "execution_count": null,
   "metadata": {
    "id": "qEVeSstZg1Uz"
   },
   "outputs": [],
   "source": [
    "import torchvision.transforms as transforms\n",
    "\n",
    "# 사이즈 설정\n",
    "size = [230, 230]\n",
    "center_size = [224, 224]\n",
    "\n",
    "# 학습용 Transform\n",
    "TrainTransform = transforms.Compose([\n",
    "    transforms.Resize(size),\n",
    "    transforms.CenterCrop(center_size),\n",
    "    transforms.RandomRotation(20),\n",
    "    transforms.RandomHorizontalFlip(),\n",
    "    transforms.RandomVerticalFlip(),\n",
    "    transforms.ColorJitter(brightness=0.25, contrast=0.25, saturation=0.25, hue=0.02),\n",
    "    transforms.ToTensor(),\n",
    "    transforms.Normalize(mean=[0.485, 0.456, 0.406], std=[0.229, 0.224, 0.225])\n",
    "])\n",
    "\n",
    "# 검증/테스트용 Transform\n",
    "ValidTransform = transforms.Compose([\n",
    "    transforms.Resize(size),\n",
    "    transforms.CenterCrop(center_size),\n",
    "    transforms.ToTensor(),\n",
    "    transforms.Normalize(mean=[0.485, 0.456, 0.406], std=[0.229, 0.224, 0.225])\n",
    "])\n"
   ]
  },
  {
   "cell_type": "markdown",
   "metadata": {
    "id": "2KMpLf9vjDTN"
   },
   "source": [
    "### [3] 수정된 Eye dataset 클래스 (thickness 추가)"
   ]
  },
  {
   "cell_type": "code",
   "execution_count": null,
   "metadata": {
    "id": "AOypzBPdhru1"
   },
   "outputs": [],
   "source": [
    "import os\n",
    "import json\n",
    "from PIL import Image\n",
    "import torch\n",
    "from torch.utils.data import Dataset\n",
    "\n",
    "class SingleModalEyeDataset(Dataset):\n",
    "    thickness_min = None\n",
    "    thickness_max = None\n",
    "\n",
    "    def __init__(self, data, image_path, transform=None):\n",
    "        self.data = data\n",
    "        self.image_path = image_path\n",
    "        self.transform = transform\n",
    "\n",
    "    def __len__(self):\n",
    "        return len(self.data)\n",
    "\n",
    "    def __getitem__(self, idx):\n",
    "        item = self.data[idx]\n",
    "\n",
    "        left_img = Image.open(os.path.join(self.image_path, item['left_eye'])).convert('RGB')\n",
    "        right_img = Image.open(os.path.join(self.image_path, item['right_eye'])).convert('RGB')\n",
    "\n",
    "        if self.transform:\n",
    "            left_img = self.transform(left_img)\n",
    "            right_img = self.transform(right_img)\n",
    "\n",
    "        label = torch.tensor(item['label'], dtype=torch.long)\n",
    "\n",
    "        # 정규화된 thickness 계산\n",
    "        thickness = item['thickness']\n",
    "        norm_thickness = (thickness - self.thickness_min) / (self.thickness_max - self.thickness_min)\n",
    "        thickness_tensor = torch.tensor(norm_thickness, dtype=torch.float32)\n",
    "\n",
    "        return left_img, right_img, label, thickness_tensor\n",
    "\n",
    "    @classmethod\n",
    "    def from_json(cls, json_file, image_path, group_value=1, include_0_9mm=True, transform=None):\n",
    "        with open(json_file, 'r') as f:\n",
    "            raw_data = json.load(f)\n",
    "\n",
    "        usable_data = [\n",
    "            item for item in raw_data.values()\n",
    "            if item['group'] == group_value and (include_0_9mm or item['thickness'] != 0.9)\n",
    "        ]\n",
    "\n",
    "        # thickness min/max 저장\n",
    "        if cls.thickness_min is None:\n",
    "          thicknesses = [item[\"thickness\"] for item in usable_data]\n",
    "          cls.thickness_min = min(thicknesses)\n",
    "          cls.thickness_max = max(thicknesses)\n",
    "          print(f\"기준 thickness 범위 저장: {cls.thickness_min:.3f} ~ {cls.thickness_max:.3f}\")\n",
    "        else:\n",
    "            print(f\"이전 기준 사용: {cls.thickness_min:.3f} ~ {cls.thickness_max:.3f}\")\n",
    "\n",
    "        print(f\"usable samples for group {group_value}: {len(usable_data)}\")\n",
    "        print(f\"thickness range: {cls.thickness_min:.3f} ~ {cls.thickness_max:.3f}\")\n",
    "        return cls(usable_data, image_path, transform)\n"
   ]
  },
  {
   "cell_type": "markdown",
   "metadata": {
    "id": "BHqKaRqjjO74"
   },
   "source": [
    "### [4] 구글 드라이브 연동"
   ]
  },
  {
   "cell_type": "code",
   "execution_count": null,
   "metadata": {
    "colab": {
     "base_uri": "https://localhost:8080/"
    },
    "id": "Vj4xNGkuhwlc",
    "outputId": "3b00c09b-fadd-4434-db24-7852559048b6"
   },
   "outputs": [],
   "source": [
    "from google.colab import drive\n",
    "drive.mount('/content/drive')"
   ]
  },
  {
   "cell_type": "markdown",
   "metadata": {
    "id": "xl950mwljSY4"
   },
   "source": [
    "### [5] train_loader, val_loader, test_loader 구성"
   ]
  },
  {
   "cell_type": "code",
   "execution_count": null,
   "metadata": {
    "colab": {
     "base_uri": "https://localhost:8080/"
    },
    "id": "8zgXE3BAh0Fc",
    "outputId": "3bebcba2-5c3d-45cd-9ebe-cc918f0c9fe7"
   },
   "outputs": [],
   "source": [
    "from torch.utils.data import DataLoader\n",
    "\n",
    "# 경로 설정\n",
    "json_path = '/content/drive/MyDrive/cv_project/dataset/data_info.json'\n",
    "image_path = '/content/drive/MyDrive/cv_project/dataset/train_images/Fundus_CIMT_2903 Dataset'\n",
    "\n",
    "# 데이터셋 생성\n",
    "train_dataset = SingleModalEyeDataset.from_json(json_file=json_path, image_path=image_path, group_value=1, transform=TrainTransform)\n",
    "val_dataset = SingleModalEyeDataset.from_json(json_file=json_path, image_path=image_path, group_value=2, transform=ValidTransform)\n",
    "test_dataset = SingleModalEyeDataset.from_json(json_file=json_path, image_path=image_path, group_value=3, transform=ValidTransform)\n",
    "\n",
    "# 최적화된 데이터로더\n",
    "train_loader = DataLoader(train_dataset, batch_size=16, shuffle=True, num_workers=2, pin_memory=True)\n",
    "val_loader = DataLoader(val_dataset, batch_size=16, shuffle=False, num_workers=2, pin_memory=True)\n",
    "test_loader = DataLoader(test_dataset, batch_size=16, shuffle=False, num_workers=2, pin_memory=True)\n"
   ]
  },
  {
   "cell_type": "markdown",
   "metadata": {
    "id": "xICGU_dIjXqG"
   },
   "source": [
    "### [6] SiameseSeResNeXtdropout 모델 정의"
   ]
  },
  {
   "cell_type": "code",
   "execution_count": null,
   "metadata": {
    "id": "p_NdUgn_iQid"
   },
   "outputs": [],
   "source": [
    "import torch.nn as nn\n",
    "import timm\n",
    "import torch\n",
    "\n",
    "class SiameseSeResNeXtdropoutMultiTask(nn.Module):\n",
    "    def __init__(self, dropout_p=0.3):\n",
    "        super(SiameseSeResNeXtdropoutMultiTask, self).__init__()\n",
    "        self.backbone = timm.create_model('seresnext50_32x4d.racm_in1k', pretrained=True, num_classes=0)\n",
    "        self.dropout = nn.Dropout(dropout_p)\n",
    "\n",
    "        # 분류 헤드\n",
    "        self.classifier = nn.Sequential(\n",
    "            nn.Linear(2048 * 2, 512),\n",
    "            nn.ReLU(),\n",
    "            nn.Dropout(dropout_p),\n",
    "            nn.Linear(512, 2)  # 클래스 2개\n",
    "        )\n",
    "\n",
    "        # 회귀 헤드 (확장)\n",
    "        self.regressor = nn.Sequential(\n",
    "            nn.Linear(2048 * 2, 512),\n",
    "            nn.ReLU(),\n",
    "            nn.Dropout(dropout_p),\n",
    "            nn.Linear(512, 256),\n",
    "            nn.ReLU(),\n",
    "            nn.Dropout(dropout_p),\n",
    "            nn.Linear(256, 1)  # 연속값 예측\n",
    "        )\n",
    "\n",
    "    def forward(self, left, right):\n",
    "        left_feat = self.backbone(left)\n",
    "        right_feat = self.backbone(right)\n",
    "        combined_feat = torch.cat([left_feat, right_feat], dim=1)\n",
    "        combined_feat = self.dropout(combined_feat)\n",
    "\n",
    "        class_out = self.classifier(combined_feat)\n",
    "        thickness_out = self.regressor(combined_feat)\n",
    "        return class_out, thickness_out\n"
   ]
  },
  {
   "cell_type": "markdown",
   "metadata": {
    "id": "umxc3bWdjlFm"
   },
   "source": [
    "### [7] FocalLoss 클래스 정의"
   ]
  },
  {
   "cell_type": "code",
   "execution_count": null,
   "metadata": {
    "id": "Ii1Ogeg3jgDv"
   },
   "outputs": [],
   "source": [
    "import torch\n",
    "import torch.nn as nn\n",
    "import torch.nn.functional as F\n",
    "\n",
    "class FocalLoss(nn.Module):\n",
    "    def __init__(self, alpha=1, gamma=2, reduction='mean'):\n",
    "        super(FocalLoss, self).__init__()\n",
    "        self.alpha = alpha\n",
    "        self.gamma = gamma\n",
    "        self.reduction = reduction\n",
    "\n",
    "    def forward(self, inputs, targets):\n",
    "        CE_loss = F.cross_entropy(inputs, targets, reduction='none')\n",
    "        pt = torch.exp(-CE_loss)\n",
    "        focal_loss = self.alpha * (1 - pt) ** self.gamma * CE_loss\n",
    "\n",
    "        if self.reduction == 'mean':\n",
    "            return focal_loss.mean()\n",
    "        elif self.reduction == 'sum':\n",
    "            return focal_loss.sum()\n",
    "        else:\n",
    "            return focal_loss"
   ]
  },
  {
   "cell_type": "markdown",
   "metadata": {
    "id": "sygTd385j3v5"
   },
   "source": [
    "### [8] 학습 루프"
   ]
  },
  {
   "cell_type": "code",
   "execution_count": null,
   "metadata": {
    "colab": {
     "base_uri": "https://localhost:8080/",
     "height": 632,
     "referenced_widgets": [
      "4f20341736874392aee048a568982474",
      "7d206ea2efef46ac8137059a878408c7",
      "c94b86efcde4433cbf83d361f58641cb",
      "95e5b532798c4f559d64c25fc472b9d9",
      "96c40df8087d44ef8a18c2bdbf5a691f",
      "ea13bd9ad76c4647839e60bf3b9e4e13",
      "dd3b23b7e93f409f87075337c5465da1",
      "6c51b882e4224685951b2031fa320c30",
      "601666e6994b4742bfbdbc4f0b85f6c4",
      "53fc133e165942b89d9a698cfbf27487",
      "a07b55eb10bd40c7b3a72acc2738d00c"
     ]
    },
    "id": "kodGR1vV26bX",
    "outputId": "9acfc971-bc79-4135-8a2e-b372f3e6f88c"
   },
   "outputs": [],
   "source": [
    "import torch.nn.functional as F\n",
    "from torch import nn\n",
    "import json\n",
    "\n",
    "# 디바이스 설정\n",
    "device = torch.device(\"cuda\" if torch.cuda.is_available() else \"cpu\")\n",
    "\n",
    "# 손실 함수 정의\n",
    "criterion_cls = FocalLoss()\n",
    "criterion_reg = nn.SmoothL1Loss()  # MSE → SmoothL1Loss\n",
    "lambda_reg = 10  # 회귀 손실의 가중치\n",
    "\n",
    "# 모델 초기화\n",
    "model = SiameseSeResNeXtdropoutMultiTask().to(device)\n",
    "\n",
    "# 옵티마이저 (AdamW)\n",
    "optimizer = optim.AdamW(model.parameters(), lr=2.5e-3, weight_decay=1e-4)\n",
    "\n",
    "# 학습률 스케줄러\n",
    "scheduler = lr_scheduler.StepLR(optimizer, step_size=20, gamma=0.1)\n",
    "\n",
    "# 에폭 및 손실 초기화\n",
    "epochs = 20\n",
    "best_val_loss = float('inf')\n",
    "\n",
    "# 손실 기록 리스트\n",
    "train_cls_losses = []\n",
    "train_reg_losses = []\n",
    "train_total_losses = []\n",
    "val_cls_losses = []\n",
    "val_reg_losses = []\n",
    "val_total_losses = []\n",
    "\n",
    "# 학습 루프\n",
    "for epoch in range(epochs):\n",
    "    model.train()\n",
    "    running_cls_loss = 0.0\n",
    "    running_reg_loss = 0.0\n",
    "    running_total_loss = 0.0\n",
    "\n",
    "    for left, right, labels, thicknesses in train_loader:\n",
    "        left, right = left.to(device), right.to(device)\n",
    "        labels = labels.to(device)\n",
    "        thicknesses = thicknesses.to(device)\n",
    "\n",
    "        optimizer.zero_grad()\n",
    "        outputs_cls, outputs_reg = model(left, right)\n",
    "\n",
    "        loss_cls = criterion_cls(outputs_cls, labels)\n",
    "        loss_reg = criterion_reg(outputs_reg.squeeze(), thicknesses)\n",
    "        loss = loss_cls + lambda_reg * loss_reg\n",
    "\n",
    "        loss.backward()\n",
    "        optimizer.step()\n",
    "\n",
    "        running_cls_loss += loss_cls.item()\n",
    "        running_reg_loss += loss_reg.item()\n",
    "        running_total_loss += loss.item()\n",
    "\n",
    "    # 평균 손실 저장\n",
    "    avg_train_cls = running_cls_loss / len(train_loader)\n",
    "    avg_train_reg = running_reg_loss / len(train_loader)\n",
    "    avg_train_total = running_total_loss / len(train_loader)\n",
    "\n",
    "    train_cls_losses.append(avg_train_cls)\n",
    "    train_reg_losses.append(avg_train_reg)\n",
    "    train_total_losses.append(avg_train_total)\n",
    "\n",
    "    # Validation\n",
    "    model.eval()\n",
    "    val_cls_loss = 0.0\n",
    "    val_reg_loss = 0.0\n",
    "    val_total_loss = 0.0\n",
    "    correct = 0\n",
    "    total = 0\n",
    "\n",
    "    with torch.no_grad():\n",
    "        for left, right, labels, thicknesses in val_loader:\n",
    "            left, right = left.to(device), right.to(device)\n",
    "            labels = labels.to(device)\n",
    "            thicknesses = thicknesses.to(device)\n",
    "\n",
    "            outputs_cls, outputs_reg = model(left, right)\n",
    "\n",
    "            loss_cls = criterion_cls(outputs_cls, labels)\n",
    "            loss_reg = criterion_reg(outputs_reg.squeeze(), thicknesses)\n",
    "            loss = loss_cls + lambda_reg * loss_reg\n",
    "\n",
    "            val_cls_loss += loss_cls.item()\n",
    "            val_reg_loss += loss_reg.item()\n",
    "            val_total_loss += loss.item()\n",
    "\n",
    "            preds = torch.argmax(outputs_cls, dim=1)\n",
    "            correct += (preds == labels).sum().item()\n",
    "            total += labels.size(0)\n",
    "\n",
    "    avg_val_cls = val_cls_loss / len(val_loader)\n",
    "    avg_val_reg = val_reg_loss / len(val_loader)\n",
    "    avg_val_total = val_total_loss / len(val_loader)\n",
    "    val_accuracy = correct / total\n",
    "\n",
    "    val_cls_losses.append(avg_val_cls)\n",
    "    val_reg_losses.append(avg_val_reg)\n",
    "    val_total_losses.append(avg_val_total)\n",
    "\n",
    "    # 스케줄러 업데이트\n",
    "    scheduler.step()\n",
    "\n",
    "    # Best 모델 저장 (총 손실 기준)\n",
    "    if avg_val_total < best_val_loss:\n",
    "        best_val_loss = avg_val_total\n",
    "        torch.save(model.state_dict(), '/content/drive/MyDrive/cv_project/01unimodal/best_multitask_수정_2.5e-3.pth')\n",
    "        print(f\"Best model updated at epoch {epoch+1} (Val Total Loss: {best_val_loss:.4f})\")\n",
    "\n",
    "    # 로그 출력\n",
    "    print(f\"Epoch {epoch+1}/{epochs} | Train: [Cls: {avg_train_cls:.4f} | Reg: {avg_train_reg:.4f} | Total: {avg_train_total:.4f}] \"\n",
    "          f\"| Val: [Cls: {avg_val_cls:.4f} | Reg: {avg_val_reg:.4f} | Total: {avg_val_total:.4f}] \"\n",
    "          f\"| Val Acc: {val_accuracy:.4f} | LR: {scheduler.get_last_lr()[0]:.6f}\")\n"
   ]
  },
  {
   "cell_type": "markdown",
   "metadata": {
    "id": "XEKIhLhxtlxb"
   },
   "source": [
    "### [9] 손실 json 파일 저장"
   ]
  },
  {
   "cell_type": "code",
   "execution_count": null,
   "metadata": {
    "colab": {
     "base_uri": "https://localhost:8080/"
    },
    "id": "71-kmNlknnrR",
    "outputId": "de1aac96-adcb-4b16-b344-dacd7a7ba555"
   },
   "outputs": [],
   "source": [
    "import json\n",
    "\n",
    "# 저장할 경로\n",
    "save_path = '/content/drive/MyDrive/cv_project/01unimodal/loss_history_multitask_update_2.5e-3.json'\n",
    "\n",
    "# 저장할 손실 딕셔너리\n",
    "loss_history = {\n",
    "    'train_cls_loss': train_cls_losses,\n",
    "    'train_reg_loss': train_reg_losses,\n",
    "    'train_total_loss': train_total_losses,\n",
    "    'val_cls_loss': val_cls_losses,\n",
    "    'val_reg_loss': val_reg_losses,\n",
    "    'val_total_loss': val_total_losses\n",
    "}\n",
    "\n",
    "# JSON 저장\n",
    "with open(save_path, 'w') as f:\n",
    "    json.dump(loss_history, f, indent=2)\n",
    "\n",
    "print(\"loss_history_multitask.json 저장 완료!\")\n"
   ]
  },
  {
   "cell_type": "markdown",
   "metadata": {
    "id": "RkvtQTFht6Ej"
   },
   "source": [
    "### [10] loss 그래프"
   ]
  },
  {
   "cell_type": "code",
   "execution_count": null,
   "metadata": {
    "colab": {
     "base_uri": "https://localhost:8080/",
     "height": 337
    },
    "id": "3upX2SPttX6B",
    "outputId": "0e59b352-268d-4b18-e859-d7d4d8ae9b13"
   },
   "outputs": [],
   "source": [
    "import json\n",
    "import matplotlib.pyplot as plt\n",
    "\n",
    "# JSON 불러오기\n",
    "load_path = '/content/drive/MyDrive/cv_project/01unimodal/loss_history_multitask_update_2.5e-3.json'\n",
    "\n",
    "with open(load_path, 'r') as f:\n",
    "    loss_history = json.load(f)\n",
    "\n",
    "# 리스트로 추출\n",
    "train_cls_losses = loss_history['train_cls_loss']\n",
    "train_reg_losses = loss_history['train_reg_loss']\n",
    "train_total_losses = loss_history['train_total_loss']\n",
    "val_cls_losses = loss_history['val_cls_loss']\n",
    "val_reg_losses = loss_history['val_reg_loss']\n",
    "val_total_losses = loss_history['val_total_loss']\n",
    "\n",
    "# 그래프 시각화\n",
    "plt.figure(figsize=(12, 6))\n",
    "plt.plot(train_cls_losses, label='Train Classification Loss', linestyle='--')\n",
    "plt.plot(train_reg_losses, label='Train Regression Loss', linestyle='--')\n",
    "plt.plot(train_total_losses, label='Train Total Loss', linestyle='--')\n",
    "\n",
    "plt.plot(val_cls_losses, label='Val Classification Loss')\n",
    "plt.plot(val_reg_losses, label='Val Regression Loss')\n",
    "plt.plot(val_total_losses, label='Val Total Loss')\n",
    "\n",
    "plt.xlabel('Epoch')\n",
    "plt.ylabel('Loss')\n",
    "plt.title('Multi-task Loss Trends')\n",
    "plt.legend()\n",
    "plt.grid(True)\n",
    "plt.tight_layout()\n",
    "plt.show()\n"
   ]
  },
  {
   "cell_type": "markdown",
   "metadata": {
    "id": "g_q8067CwqDr"
   },
   "source": [
    "### [11] 예측 수행"
   ]
  },
  {
   "cell_type": "code",
   "execution_count": null,
   "metadata": {
    "colab": {
     "base_uri": "https://localhost:8080/"
    },
    "id": "zsGOxtLZtdk3",
    "outputId": "e640fca0-acf4-47d9-e6dd-64f58ac8fd08"
   },
   "outputs": [],
   "source": [
    "from tqdm import tqdm\n",
    "import json\n",
    "import torch\n",
    "\n",
    "# 모델 로드\n",
    "model = SiameseSeResNeXtdropoutMultiTask().to(device)\n",
    "model.load_state_dict(torch.load('/content/drive/MyDrive/cv_project/01unimodal/best_multitask_수정_2.5e-3.pth'))\n",
    "model.eval()\n",
    "\n",
    "# 예측 수행\n",
    "results = []\n",
    "\n",
    "with torch.no_grad():\n",
    "    for left, right, labels, thicknesses in tqdm(test_loader, desc=\"Predicting\"):\n",
    "        left, right = left.to(device), right.to(device)\n",
    "\n",
    "        # 분류 + 회귀 예측\n",
    "        outputs_cls, outputs_reg = model(left, right)\n",
    "        probs = torch.softmax(outputs_cls, dim=1)\n",
    "        preds = torch.argmax(probs, dim=1)\n",
    "        thickness_preds = outputs_reg.squeeze().cpu()\n",
    "\n",
    "        for true, pred, prob, true_thick, pred_thick in zip(\n",
    "            labels.cpu(), preds.cpu(), probs[:, 1].cpu(), thicknesses.cpu(), thickness_preds):\n",
    "\n",
    "            results.append({\n",
    "                \"true_label\": int(true.item()),\n",
    "                \"pred_label\": int(pred.item()),\n",
    "                \"prob_thickened\": float(prob.item()),  # thickened 클래스 확률\n",
    "                \"true_thickness\": float(true_thick.item()),\n",
    "                \"pred_thickness\": float(pred_thick.item())\n",
    "            })\n",
    "\n",
    "# 결과 저장\n",
    "output_path = \"/content/drive/MyDrive/cv_project/01unimodal/predict_result_multitask_update_2.5e-3.json\"\n",
    "with open(output_path, \"w\") as f:\n",
    "    json.dump(results, f, indent=2)\n",
    "\n",
    "print(f\"예측 결과 저장 완료: {output_path}\")\n"
   ]
  },
  {
   "cell_type": "code",
   "execution_count": null,
   "metadata": {
    "colab": {
     "base_uri": "https://localhost:8080/",
     "height": 1000
    },
    "id": "J39p7Ms9udDS",
    "outputId": "0d3012d5-78cc-406c-9dec-826398af31d9"
   },
   "outputs": [],
   "source": [
    "import json\n",
    "import numpy as np\n",
    "from sklearn.metrics import (\n",
    "    roc_curve, roc_auc_score, classification_report, confusion_matrix,\n",
    "    mean_squared_error, mean_absolute_error, r2_score\n",
    ")\n",
    "import matplotlib.pyplot as plt\n",
    "\n",
    "# 예측 결과 불러오기\n",
    "with open(\"/content/drive/MyDrive/cv_project/01unimodal/predict_result_multitask_update_2.5e-3.json\", \"r\") as f:\n",
    "    results = json.load(f)\n",
    "\n",
    "# 분류 관련 데이터\n",
    "y_true = [r[\"true_label\"] for r in results]\n",
    "y_pred = [r[\"pred_label\"] for r in results]\n",
    "y_prob = [r[\"prob_thickened\"] for r in results]\n",
    "\n",
    "# 회귀 관련 데이터\n",
    "y_true_reg = [r[\"true_thickness\"] for r in results]\n",
    "y_pred_reg = [r[\"pred_thickness\"] for r in results]\n",
    "\n",
    "# 역정규화 추가\n",
    "min_val = 0.5\n",
    "max_val = 1.7\n",
    "y_true_reg = [t * (max_val - min_val) + min_val for t in y_true_reg]\n",
    "y_pred_reg = [t * (max_val - min_val) + min_val for t in y_pred_reg]\n",
    "\n",
    "# === 분류 평가 === #\n",
    "fpr, tpr, _ = roc_curve(y_true, y_prob)\n",
    "auc_score = roc_auc_score(y_true, y_prob)\n",
    "accuracy = np.mean(np.array(y_true) == np.array(y_pred))\n",
    "\n",
    "print(\"[Classification Evaluation]\")\n",
    "print(f\"정확도 (Accuracy): {accuracy:.4f}\")\n",
    "print(f\"AUC-ROC: {auc_score:.4f}\")\n",
    "print(\"\\n분류 리포트:\")\n",
    "print(classification_report(y_true, y_pred, target_names=[\"Normal\", \"Thickened\"]))\n",
    "print(\"Confusion Matrix:\")\n",
    "print(confusion_matrix(y_true, y_pred))\n",
    "\n",
    "# === ROC Curve === #\n",
    "plt.figure(figsize=(6, 5))\n",
    "plt.plot(fpr, tpr, label=f\"AUC = {auc_score:.4f}\")\n",
    "plt.plot([0, 1], [0, 1], 'k--')\n",
    "plt.xlabel(\"False Positive Rate\")\n",
    "plt.ylabel(\"True Positive Rate\")\n",
    "plt.title(\"ROC Curve (Multitask Model)\")\n",
    "plt.legend()\n",
    "plt.grid(True)\n",
    "plt.tight_layout()\n",
    "plt.show()\n",
    "\n",
    "# === 회귀 평가 === #\n",
    "mse = mean_squared_error(y_true_reg, y_pred_reg)\n",
    "rmse = np.sqrt(mean_squared_error(y_true_reg, y_pred_reg))\n",
    "mae = mean_absolute_error(y_true_reg, y_pred_reg)\n",
    "r2 = r2_score(y_true_reg, y_pred_reg)\n",
    "\n",
    "print(\"\\n[Regression Evaluation]\")\n",
    "print(f\"RMSE: {rmse:.4f}\")\n",
    "print(f\"MAE:  {mae:.4f}\")\n",
    "print(f\"R²:   {r2:.4f}\")\n",
    "\n",
    "# === 회귀 산점도 === #\n",
    "plt.figure(figsize=(6, 5))\n",
    "plt.scatter(y_true_reg, y_pred_reg, alpha=0.6)\n",
    "plt.plot([min(y_true_reg), max(y_true_reg)], [min(y_true_reg), max(y_true_reg)], 'r--', label=\"Ideal\")\n",
    "plt.xlabel(\"True Thickness\")\n",
    "plt.ylabel(\"Predicted Thickness\")\n",
    "plt.title(\"Regression Prediction (Multitask Model)\")\n",
    "plt.legend()\n",
    "plt.grid(True)\n",
    "plt.tight_layout()\n",
    "plt.show()"
   ]
  },
  {
   "cell_type": "code",
   "execution_count": null,
   "metadata": {
    "id": "Hi0WEHRmw4rA"
   },
   "outputs": [],
   "source": []
  }
 ],
 "metadata": {
  "accelerator": "GPU",
  "colab": {
   "gpuType": "T4",
   "machine_shape": "hm",
   "provenance": []
  },
  "kernelspec": {
   "display_name": "Python 3",
   "name": "python3"
  },
  "language_info": {
   "name": "python"
  },
  "widgets": {
   "application/vnd.jupyter.widget-state+json": {
    "4f20341736874392aee048a568982474": {
     "model_module": "@jupyter-widgets/controls",
     "model_module_version": "1.5.0",
     "model_name": "HBoxModel",
     "state": {
      "_dom_classes": [],
      "_model_module": "@jupyter-widgets/controls",
      "_model_module_version": "1.5.0",
      "_model_name": "HBoxModel",
      "_view_count": null,
      "_view_module": "@jupyter-widgets/controls",
      "_view_module_version": "1.5.0",
      "_view_name": "HBoxView",
      "box_style": "",
      "children": [
       "IPY_MODEL_7d206ea2efef46ac8137059a878408c7",
       "IPY_MODEL_c94b86efcde4433cbf83d361f58641cb",
       "IPY_MODEL_95e5b532798c4f559d64c25fc472b9d9"
      ],
      "layout": "IPY_MODEL_96c40df8087d44ef8a18c2bdbf5a691f"
     }
    },
    "53fc133e165942b89d9a698cfbf27487": {
     "model_module": "@jupyter-widgets/base",
     "model_module_version": "1.2.0",
     "model_name": "LayoutModel",
     "state": {
      "_model_module": "@jupyter-widgets/base",
      "_model_module_version": "1.2.0",
      "_model_name": "LayoutModel",
      "_view_count": null,
      "_view_module": "@jupyter-widgets/base",
      "_view_module_version": "1.2.0",
      "_view_name": "LayoutView",
      "align_content": null,
      "align_items": null,
      "align_self": null,
      "border": null,
      "bottom": null,
      "display": null,
      "flex": null,
      "flex_flow": null,
      "grid_area": null,
      "grid_auto_columns": null,
      "grid_auto_flow": null,
      "grid_auto_rows": null,
      "grid_column": null,
      "grid_gap": null,
      "grid_row": null,
      "grid_template_areas": null,
      "grid_template_columns": null,
      "grid_template_rows": null,
      "height": null,
      "justify_content": null,
      "justify_items": null,
      "left": null,
      "margin": null,
      "max_height": null,
      "max_width": null,
      "min_height": null,
      "min_width": null,
      "object_fit": null,
      "object_position": null,
      "order": null,
      "overflow": null,
      "overflow_x": null,
      "overflow_y": null,
      "padding": null,
      "right": null,
      "top": null,
      "visibility": null,
      "width": null
     }
    },
    "601666e6994b4742bfbdbc4f0b85f6c4": {
     "model_module": "@jupyter-widgets/controls",
     "model_module_version": "1.5.0",
     "model_name": "ProgressStyleModel",
     "state": {
      "_model_module": "@jupyter-widgets/controls",
      "_model_module_version": "1.5.0",
      "_model_name": "ProgressStyleModel",
      "_view_count": null,
      "_view_module": "@jupyter-widgets/base",
      "_view_module_version": "1.2.0",
      "_view_name": "StyleView",
      "bar_color": null,
      "description_width": ""
     }
    },
    "6c51b882e4224685951b2031fa320c30": {
     "model_module": "@jupyter-widgets/base",
     "model_module_version": "1.2.0",
     "model_name": "LayoutModel",
     "state": {
      "_model_module": "@jupyter-widgets/base",
      "_model_module_version": "1.2.0",
      "_model_name": "LayoutModel",
      "_view_count": null,
      "_view_module": "@jupyter-widgets/base",
      "_view_module_version": "1.2.0",
      "_view_name": "LayoutView",
      "align_content": null,
      "align_items": null,
      "align_self": null,
      "border": null,
      "bottom": null,
      "display": null,
      "flex": null,
      "flex_flow": null,
      "grid_area": null,
      "grid_auto_columns": null,
      "grid_auto_flow": null,
      "grid_auto_rows": null,
      "grid_column": null,
      "grid_gap": null,
      "grid_row": null,
      "grid_template_areas": null,
      "grid_template_columns": null,
      "grid_template_rows": null,
      "height": null,
      "justify_content": null,
      "justify_items": null,
      "left": null,
      "margin": null,
      "max_height": null,
      "max_width": null,
      "min_height": null,
      "min_width": null,
      "object_fit": null,
      "object_position": null,
      "order": null,
      "overflow": null,
      "overflow_x": null,
      "overflow_y": null,
      "padding": null,
      "right": null,
      "top": null,
      "visibility": null,
      "width": null
     }
    },
    "7d206ea2efef46ac8137059a878408c7": {
     "model_module": "@jupyter-widgets/controls",
     "model_module_version": "1.5.0",
     "model_name": "HTMLModel",
     "state": {
      "_dom_classes": [],
      "_model_module": "@jupyter-widgets/controls",
      "_model_module_version": "1.5.0",
      "_model_name": "HTMLModel",
      "_view_count": null,
      "_view_module": "@jupyter-widgets/controls",
      "_view_module_version": "1.5.0",
      "_view_name": "HTMLView",
      "description": "",
      "description_tooltip": null,
      "layout": "IPY_MODEL_ea13bd9ad76c4647839e60bf3b9e4e13",
      "placeholder": "​",
      "style": "IPY_MODEL_dd3b23b7e93f409f87075337c5465da1",
      "value": "model.safetensors: 100%"
     }
    },
    "95e5b532798c4f559d64c25fc472b9d9": {
     "model_module": "@jupyter-widgets/controls",
     "model_module_version": "1.5.0",
     "model_name": "HTMLModel",
     "state": {
      "_dom_classes": [],
      "_model_module": "@jupyter-widgets/controls",
      "_model_module_version": "1.5.0",
      "_model_name": "HTMLModel",
      "_view_count": null,
      "_view_module": "@jupyter-widgets/controls",
      "_view_module_version": "1.5.0",
      "_view_name": "HTMLView",
      "description": "",
      "description_tooltip": null,
      "layout": "IPY_MODEL_53fc133e165942b89d9a698cfbf27487",
      "placeholder": "​",
      "style": "IPY_MODEL_a07b55eb10bd40c7b3a72acc2738d00c",
      "value": " 111M/111M [00:00&lt;00:00, 246MB/s]"
     }
    },
    "96c40df8087d44ef8a18c2bdbf5a691f": {
     "model_module": "@jupyter-widgets/base",
     "model_module_version": "1.2.0",
     "model_name": "LayoutModel",
     "state": {
      "_model_module": "@jupyter-widgets/base",
      "_model_module_version": "1.2.0",
      "_model_name": "LayoutModel",
      "_view_count": null,
      "_view_module": "@jupyter-widgets/base",
      "_view_module_version": "1.2.0",
      "_view_name": "LayoutView",
      "align_content": null,
      "align_items": null,
      "align_self": null,
      "border": null,
      "bottom": null,
      "display": null,
      "flex": null,
      "flex_flow": null,
      "grid_area": null,
      "grid_auto_columns": null,
      "grid_auto_flow": null,
      "grid_auto_rows": null,
      "grid_column": null,
      "grid_gap": null,
      "grid_row": null,
      "grid_template_areas": null,
      "grid_template_columns": null,
      "grid_template_rows": null,
      "height": null,
      "justify_content": null,
      "justify_items": null,
      "left": null,
      "margin": null,
      "max_height": null,
      "max_width": null,
      "min_height": null,
      "min_width": null,
      "object_fit": null,
      "object_position": null,
      "order": null,
      "overflow": null,
      "overflow_x": null,
      "overflow_y": null,
      "padding": null,
      "right": null,
      "top": null,
      "visibility": null,
      "width": null
     }
    },
    "a07b55eb10bd40c7b3a72acc2738d00c": {
     "model_module": "@jupyter-widgets/controls",
     "model_module_version": "1.5.0",
     "model_name": "DescriptionStyleModel",
     "state": {
      "_model_module": "@jupyter-widgets/controls",
      "_model_module_version": "1.5.0",
      "_model_name": "DescriptionStyleModel",
      "_view_count": null,
      "_view_module": "@jupyter-widgets/base",
      "_view_module_version": "1.2.0",
      "_view_name": "StyleView",
      "description_width": ""
     }
    },
    "c94b86efcde4433cbf83d361f58641cb": {
     "model_module": "@jupyter-widgets/controls",
     "model_module_version": "1.5.0",
     "model_name": "FloatProgressModel",
     "state": {
      "_dom_classes": [],
      "_model_module": "@jupyter-widgets/controls",
      "_model_module_version": "1.5.0",
      "_model_name": "FloatProgressModel",
      "_view_count": null,
      "_view_module": "@jupyter-widgets/controls",
      "_view_module_version": "1.5.0",
      "_view_name": "ProgressView",
      "bar_style": "success",
      "description": "",
      "description_tooltip": null,
      "layout": "IPY_MODEL_6c51b882e4224685951b2031fa320c30",
      "max": 110547680,
      "min": 0,
      "orientation": "horizontal",
      "style": "IPY_MODEL_601666e6994b4742bfbdbc4f0b85f6c4",
      "value": 110547680
     }
    },
    "dd3b23b7e93f409f87075337c5465da1": {
     "model_module": "@jupyter-widgets/controls",
     "model_module_version": "1.5.0",
     "model_name": "DescriptionStyleModel",
     "state": {
      "_model_module": "@jupyter-widgets/controls",
      "_model_module_version": "1.5.0",
      "_model_name": "DescriptionStyleModel",
      "_view_count": null,
      "_view_module": "@jupyter-widgets/base",
      "_view_module_version": "1.2.0",
      "_view_name": "StyleView",
      "description_width": ""
     }
    },
    "ea13bd9ad76c4647839e60bf3b9e4e13": {
     "model_module": "@jupyter-widgets/base",
     "model_module_version": "1.2.0",
     "model_name": "LayoutModel",
     "state": {
      "_model_module": "@jupyter-widgets/base",
      "_model_module_version": "1.2.0",
      "_model_name": "LayoutModel",
      "_view_count": null,
      "_view_module": "@jupyter-widgets/base",
      "_view_module_version": "1.2.0",
      "_view_name": "LayoutView",
      "align_content": null,
      "align_items": null,
      "align_self": null,
      "border": null,
      "bottom": null,
      "display": null,
      "flex": null,
      "flex_flow": null,
      "grid_area": null,
      "grid_auto_columns": null,
      "grid_auto_flow": null,
      "grid_auto_rows": null,
      "grid_column": null,
      "grid_gap": null,
      "grid_row": null,
      "grid_template_areas": null,
      "grid_template_columns": null,
      "grid_template_rows": null,
      "height": null,
      "justify_content": null,
      "justify_items": null,
      "left": null,
      "margin": null,
      "max_height": null,
      "max_width": null,
      "min_height": null,
      "min_width": null,
      "object_fit": null,
      "object_position": null,
      "order": null,
      "overflow": null,
      "overflow_x": null,
      "overflow_y": null,
      "padding": null,
      "right": null,
      "top": null,
      "visibility": null,
      "width": null
     }
    }
   }
  }
 },
 "nbformat": 4,
 "nbformat_minor": 0
}
