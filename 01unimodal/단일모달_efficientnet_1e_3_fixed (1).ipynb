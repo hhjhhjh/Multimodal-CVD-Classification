{
 "cells": [
  {
   "cell_type": "markdown",
   "metadata": {
    "id": "8eCyFsJgzeCf"
   },
   "source": [
    "### [1] 패키지 불러오기"
   ]
  },
  {
   "cell_type": "code",
   "execution_count": 1,
   "metadata": {
    "id": "oHROc_uf4ix7"
   },
   "outputs": [],
   "source": [
    "import os\n",
    "import json\n",
    "import torch\n",
    "import torch.nn as nn\n",
    "import torch.nn.functional as F\n",
    "import timm\n",
    "from torch.utils.data import DataLoader, Dataset\n",
    "from torchvision import transforms\n",
    "import torch.optim as optim\n",
    "from torch.optim import lr_scheduler\n",
    "from PIL import Image"
   ]
  },
  {
   "cell_type": "markdown",
   "metadata": {
    "id": "Epb_upZUz68i"
   },
   "source": [
    "### [2] Data transform 정의"
   ]
  },
  {
   "cell_type": "code",
   "execution_count": 2,
   "metadata": {
    "id": "nJH0sQWIruYx"
   },
   "outputs": [],
   "source": [
    "import torchvision.transforms as transforms\n",
    "\n",
    "# 사이즈 설정\n",
    "size = [230, 230]\n",
    "center_size = [224, 224]\n",
    "\n",
    "# 학습용 Transform\n",
    "TrainTransform = transforms.Compose([\n",
    "    transforms.Resize(size),\n",
    "    transforms.CenterCrop(center_size),\n",
    "    transforms.RandomRotation(20),\n",
    "    transforms.RandomHorizontalFlip(),\n",
    "    transforms.RandomVerticalFlip(),\n",
    "    transforms.ColorJitter(brightness=0.25, contrast=0.25, saturation=0.25, hue=0.02),\n",
    "    transforms.ToTensor(),\n",
    "    transforms.Normalize(mean=[0.485, 0.456, 0.406], std=[0.229, 0.224, 0.225])\n",
    "])\n",
    "\n",
    "# 검증/테스트용 Transform\n",
    "ValidTransform = transforms.Compose([\n",
    "    transforms.Resize(size),\n",
    "    transforms.CenterCrop(center_size),\n",
    "    transforms.ToTensor(),\n",
    "    transforms.Normalize(mean=[0.485, 0.456, 0.406], std=[0.229, 0.224, 0.225])\n",
    "])\n"
   ]
  },
  {
   "cell_type": "markdown",
   "metadata": {
    "id": "E39LCz-hseVB"
   },
   "source": [
    "### [3] Eye dataset 클래스"
   ]
  },
  {
   "cell_type": "code",
   "execution_count": 3,
   "metadata": {
    "id": "jjsK0mh2sXot"
   },
   "outputs": [],
   "source": [
    "import os\n",
    "import json\n",
    "from PIL import Image\n",
    "from torch.utils.data import Dataset\n",
    "import torch\n",
    "\n",
    "class NewEyeDataset(Dataset):\n",
    "    def __init__(self, data, image_path, transform=None):\n",
    "        self.data = data\n",
    "        self.image_path = image_path\n",
    "        self.transform = transform\n",
    "\n",
    "    def __len__(self):\n",
    "        return len(self.data)\n",
    "\n",
    "    def __getitem__(self, idx):\n",
    "        item = self.data[idx]\n",
    "\n",
    "        left_img = Image.open(os.path.join(self.image_path, item['left_eye'])).convert('RGB')\n",
    "        right_img = Image.open(os.path.join(self.image_path, item['right_eye'])).convert('RGB')\n",
    "\n",
    "        if self.transform:\n",
    "            left_img = self.transform(left_img)\n",
    "            right_img = self.transform(right_img)\n",
    "\n",
    "        label = torch.tensor(item['label'], dtype=torch.long)\n",
    "\n",
    "        return left_img, right_img, label\n",
    "\n",
    "    @classmethod\n",
    "    def from_json(cls, json_file, image_path, group_value=1, include_0_9mm=True, transform=None):\n",
    "        with open(json_file, 'r') as f:\n",
    "            raw_data = json.load(f)\n",
    "\n",
    "        usable_data = [\n",
    "            item for item in raw_data.values()\n",
    "            if item['group'] == group_value and (include_0_9mm or item['thickness'] != 0.9)\n",
    "        ]\n",
    "\n",
    "        print(f\"usable samples for group {group_value}: {len(usable_data)}\")\n",
    "        return cls(usable_data, image_path, transform)\n"
   ]
  },
  {
   "cell_type": "markdown",
   "metadata": {
    "id": "M0kEZVwg0NrT"
   },
   "source": [
    "### [4] 구글 드라이브 연동"
   ]
  },
  {
   "cell_type": "code",
   "execution_count": 4,
   "metadata": {
    "colab": {
     "base_uri": "https://localhost:8080/"
    },
    "id": "VIpnFYkNt4-U",
    "outputId": "83173439-548d-46bd-94bb-c3814cbabae5"
   },
   "outputs": [
    {
     "name": "stdout",
     "output_type": "stream",
     "text": [
      "Mounted at /content/drive\n"
     ]
    }
   ],
   "source": [
    "from google.colab import drive\n",
    "drive.mount('/content/drive')"
   ]
  },
  {
   "cell_type": "markdown",
   "metadata": {
    "id": "Lbb3Lgqb0Sw2"
   },
   "source": [
    "### [5] train_loader, val_loader, test_loader 구성"
   ]
  },
  {
   "cell_type": "code",
   "execution_count": 5,
   "metadata": {
    "colab": {
     "base_uri": "https://localhost:8080/"
    },
    "id": "ohdRvVYMtQ26",
    "outputId": "ca35b55e-2b3a-4eeb-89d1-d1d36323016e"
   },
   "outputs": [
    {
     "name": "stdout",
     "output_type": "stream",
     "text": [
      "usable samples for group 1: 2603\n",
      "usable samples for group 2: 200\n",
      "usable samples for group 3: 100\n"
     ]
    }
   ],
   "source": [
    "from torch.utils.data import DataLoader\n",
    "\n",
    "# 경로 설정\n",
    "json_path = '/content/drive/MyDrive/cv_project/dataset/data_info.json'\n",
    "image_path = '/content/drive/MyDrive/cv_project/dataset/train_images/Fundus_CIMT_2903 Dataset'\n",
    "\n",
    "# 데이터셋 생성\n",
    "train_dataset = NewEyeDataset.from_json(json_file=json_path, image_path=image_path, group_value=1, transform=TrainTransform)\n",
    "val_dataset = NewEyeDataset.from_json(json_file=json_path, image_path=image_path, group_value=2, transform=ValidTransform)\n",
    "test_dataset = NewEyeDataset.from_json(json_file=json_path, image_path=image_path, group_value=3, transform=ValidTransform)\n",
    "\n",
    "# 최적화된 데이터로더\n",
    "train_loader = DataLoader(train_dataset, batch_size=16, shuffle=True, num_workers=2, pin_memory=True)\n",
    "val_loader = DataLoader(val_dataset, batch_size=16, shuffle=False, num_workers=2, pin_memory=True)\n",
    "test_loader = DataLoader(test_dataset, batch_size=16, shuffle=False, num_workers=2, pin_memory=True)\n"
   ]
  },
  {
   "cell_type": "markdown",
   "metadata": {
    "id": "L8BVVQwl0bgO"
   },
   "source": [
    "### [6] 모델 정의"
   ]
  },
  {
   "cell_type": "code",
   "execution_count": 6,
   "metadata": {
    "id": "ywGbN0T2t35V"
   },
   "outputs": [],
   "source": [
    "import torch.nn as nn\n",
    "import timm\n",
    "import torch\n",
    "\n",
    "class SiameseEfficientNetV2Classifier(nn.Module):\n",
    "    def __init__(self, dropout_p=0.3):\n",
    "        super(SiameseEfficientNetV2Classifier, self).__init__()\n",
    "        self.backbone = timm.create_model('tf_efficientnetv2_s.in1k', pretrained=True, num_classes=0)\n",
    "        self.dropout = nn.Dropout(dropout_p)\n",
    "\n",
    "        # EfficientNetV2 output feature size = 1280\n",
    "        self.classifier = nn.Sequential(\n",
    "            nn.Linear(1280 * 2, 512),\n",
    "            nn.ReLU(),\n",
    "            nn.Dropout(dropout_p),\n",
    "            nn.Linear(512, 2)  # Binary classification\n",
    "        )\n",
    "\n",
    "    def forward(self, left, right):\n",
    "        left_feat = self.backbone(left)    # (batch, 1280)\n",
    "        right_feat = self.backbone(right)  # (batch, 1280)\n",
    "\n",
    "        combined = torch.cat((left_feat, right_feat), dim=1)  # (batch, 2560)\n",
    "        combined = self.dropout(combined)\n",
    "\n",
    "        output = self.classifier(combined)\n",
    "        return output\n"
   ]
  },
  {
   "cell_type": "markdown",
   "metadata": {
    "id": "TRbNvRWG007C"
   },
   "source": [
    "### [7] FocalLoss 클래스 정의"
   ]
  },
  {
   "cell_type": "code",
   "execution_count": 7,
   "metadata": {
    "id": "8ak20Qk-v4Dn"
   },
   "outputs": [],
   "source": [
    "import torch\n",
    "import torch.nn as nn\n",
    "import torch.nn.functional as F\n",
    "\n",
    "class FocalLoss(nn.Module):\n",
    "    def __init__(self, alpha=1, gamma=2, reduction='mean'):\n",
    "        super(FocalLoss, self).__init__()\n",
    "        self.alpha = alpha\n",
    "        self.gamma = gamma\n",
    "        self.reduction = reduction\n",
    "\n",
    "    def forward(self, inputs, targets):\n",
    "        CE_loss = F.cross_entropy(inputs, targets, reduction='none')\n",
    "        pt = torch.exp(-CE_loss)\n",
    "        focal_loss = self.alpha * (1 - pt) ** self.gamma * CE_loss\n",
    "\n",
    "        if self.reduction == 'mean':\n",
    "            return focal_loss.mean()\n",
    "        elif self.reduction == 'sum':\n",
    "            return focal_loss.sum()\n",
    "        else:\n",
    "            return focal_loss\n"
   ]
  },
  {
   "cell_type": "markdown",
   "metadata": {
    "id": "OM2Tn1wj07di"
   },
   "source": [
    "### [8] 학습 루프 + loss 그래프"
   ]
  },
  {
   "cell_type": "code",
   "execution_count": 8,
   "metadata": {
    "colab": {
     "base_uri": "https://localhost:8080/",
     "height": 630,
     "referenced_widgets": [
      "284c2e17ea27484fa39d05be56d55e2c",
      "e6a4e06da5e042a286666e9e39a35c58",
      "79a15780362348f1bfe8cf4bf626aed9",
      "9770a4dbfcbd48cfb1e95c5ec709600a",
      "0de695bb269b41c587f40ae1998fe41c",
      "12756a03fc3842c1ae3049c51511061a",
      "117feccf1e2c4b45802094bc837f6600",
      "4f46a3a10ccf4f79b2d163a5446deafc",
      "3ac41e5043ba4fbca7d2dafd1e8f262c",
      "91edcf978e474f88b1cd377dc2969b8d",
      "a0c711b642e54dea94e88d5e9b1fea43"
     ]
    },
    "id": "wRRHK-56wxkC",
    "outputId": "2574ccbd-c944-4638-a274-8bf902902c80"
   },
   "outputs": [
    {
     "name": "stderr",
     "output_type": "stream",
     "text": [
      "/usr/local/lib/python3.11/dist-packages/huggingface_hub/utils/_auth.py:94: UserWarning: \n",
      "The secret `HF_TOKEN` does not exist in your Colab secrets.\n",
      "To authenticate with the Hugging Face Hub, create a token in your settings tab (https://huggingface.co/settings/tokens), set it as secret in your Google Colab and restart your session.\n",
      "You will be able to reuse this secret in all of your notebooks.\n",
      "Please note that authentication is recommended but still optional to access public models or datasets.\n",
      "  warnings.warn(\n"
     ]
    },
    {
     "data": {
      "application/vnd.jupyter.widget-view+json": {
       "model_id": "284c2e17ea27484fa39d05be56d55e2c",
       "version_major": 2,
       "version_minor": 0
      },
      "text/plain": [
       "model.safetensors:   0%|          | 0.00/86.5M [00:00<?, ?B/s]"
      ]
     },
     "metadata": {},
     "output_type": "display_data"
    },
    {
     "name": "stdout",
     "output_type": "stream",
     "text": [
      "Best model updated at epoch 1 (Val Loss: 0.1617)\n",
      "Epoch 1/20 | Train Loss: 0.1428 | Val Loss: 0.1617 | Val Acc: 0.5400 | LR: 0.001000\n",
      "Best model updated at epoch 2 (Val Loss: 0.1536)\n",
      "Epoch 2/20 | Train Loss: 0.1294 | Val Loss: 0.1536 | Val Acc: 0.6800 | LR: 0.001000\n",
      "Epoch 3/20 | Train Loss: 0.1217 | Val Loss: 0.2678 | Val Acc: 0.7350 | LR: 0.001000\n",
      "Epoch 4/20 | Train Loss: 0.1256 | Val Loss: 0.1699 | Val Acc: 0.5950 | LR: 0.001000\n",
      "Epoch 5/20 | Train Loss: 0.1247 | Val Loss: 0.1746 | Val Acc: 0.5050 | LR: 0.001000\n",
      "Epoch 6/20 | Train Loss: 0.1252 | Val Loss: 0.1820 | Val Acc: 0.6500 | LR: 0.001000\n",
      "Epoch 7/20 | Train Loss: 0.1243 | Val Loss: 0.1657 | Val Acc: 0.6550 | LR: 0.001000\n",
      "Epoch 8/20 | Train Loss: 0.1211 | Val Loss: 0.1963 | Val Acc: 0.6750 | LR: 0.001000\n",
      "Epoch 9/20 | Train Loss: 0.1220 | Val Loss: 0.1879 | Val Acc: 0.6600 | LR: 0.001000\n",
      "Epoch 10/20 | Train Loss: 0.1204 | Val Loss: 0.1598 | Val Acc: 0.6750 | LR: 0.001000\n",
      "Best model updated at epoch 11 (Val Loss: 0.1496)\n",
      "Epoch 11/20 | Train Loss: 0.1190 | Val Loss: 0.1496 | Val Acc: 0.6800 | LR: 0.001000\n",
      "Best model updated at epoch 12 (Val Loss: 0.1467)\n",
      "Epoch 12/20 | Train Loss: 0.1197 | Val Loss: 0.1467 | Val Acc: 0.7350 | LR: 0.001000\n",
      "Best model updated at epoch 13 (Val Loss: 0.1350)\n",
      "Epoch 13/20 | Train Loss: 0.1221 | Val Loss: 0.1350 | Val Acc: 0.7550 | LR: 0.001000\n",
      "Epoch 14/20 | Train Loss: 0.1218 | Val Loss: 0.1736 | Val Acc: 0.6750 | LR: 0.001000\n",
      "Epoch 15/20 | Train Loss: 0.1213 | Val Loss: 0.2088 | Val Acc: 0.6750 | LR: 0.001000\n",
      "Epoch 16/20 | Train Loss: 0.1171 | Val Loss: 0.1706 | Val Acc: 0.6350 | LR: 0.001000\n",
      "Epoch 17/20 | Train Loss: 0.1185 | Val Loss: 0.1766 | Val Acc: 0.6200 | LR: 0.001000\n",
      "Epoch 18/20 | Train Loss: 0.1178 | Val Loss: 0.1430 | Val Acc: 0.7000 | LR: 0.001000\n",
      "Epoch 19/20 | Train Loss: 0.1164 | Val Loss: 0.1686 | Val Acc: 0.6700 | LR: 0.001000\n",
      "Epoch 20/20 | Train Loss: 0.1193 | Val Loss: 0.1787 | Val Acc: 0.7150 | LR: 0.000100\n",
      "loss_history_best_effnetv2_1e-3.json 저장 완료!\n"
     ]
    }
   ],
   "source": [
    "import json\n",
    "import matplotlib.pyplot as plt\n",
    "import torch\n",
    "import torch.nn as nn\n",
    "import torch.optim as optim\n",
    "from torch.optim import lr_scheduler\n",
    "\n",
    "# 디바이스 설정\n",
    "device = torch.device(\"cuda\" if torch.cuda.is_available() else \"cpu\")\n",
    "\n",
    "# 모델 초기화\n",
    "model = SiameseEfficientNetV2Classifier(dropout_p=0.3).to(device)\n",
    "\n",
    "# 손실 함수\n",
    "criterion = FocalLoss()\n",
    "\n",
    "# 옵티마이저 (AdamW)\n",
    "optimizer = optim.AdamW(model.parameters(), lr=1e-3, weight_decay=1e-4)\n",
    "\n",
    "# 학습률 스케줄러\n",
    "scheduler = lr_scheduler.StepLR(optimizer, step_size=20, gamma=0.1)\n",
    "\n",
    "# 하이퍼파라미터\n",
    "epochs = 20\n",
    "best_val_loss = float('inf')\n",
    "\n",
    "# 손실 저장 리스트\n",
    "train_losses = []\n",
    "val_losses = []\n",
    "val_accuracies = []\n",
    "\n",
    "# 학습 루프\n",
    "for epoch in range(epochs):\n",
    "    model.train()\n",
    "    running_loss = 0.0\n",
    "\n",
    "    for left, right, labels in train_loader:\n",
    "        left, right, labels = left.to(device), right.to(device), labels.to(device)\n",
    "\n",
    "        optimizer.zero_grad()\n",
    "        outputs = model(left, right)\n",
    "        loss = criterion(outputs, labels)\n",
    "        loss.backward()\n",
    "        optimizer.step()\n",
    "\n",
    "        running_loss += loss.item()\n",
    "\n",
    "    # Validation\n",
    "    model.eval()\n",
    "    val_loss = 0.0\n",
    "    correct = 0\n",
    "    total = 0\n",
    "\n",
    "    with torch.no_grad():\n",
    "        for left, right, labels in val_loader:\n",
    "            left, right, labels = left.to(device), right.to(device), labels.to(device)\n",
    "\n",
    "            outputs = model(left, right)\n",
    "            loss = criterion(outputs, labels)\n",
    "            val_loss += loss.item()\n",
    "\n",
    "            preds = torch.argmax(outputs, dim=1)\n",
    "            correct += (preds == labels).sum().item()\n",
    "            total += labels.size(0)\n",
    "\n",
    "    val_accuracy = correct / total\n",
    "    avg_train_loss = running_loss / len(train_loader)\n",
    "    avg_val_loss = val_loss / len(val_loader)\n",
    "\n",
    "    train_losses.append(avg_train_loss)\n",
    "    val_losses.append(avg_val_loss)\n",
    "    val_accuracies.append(val_accuracy)\n",
    "\n",
    "    scheduler.step()\n",
    "\n",
    "    # Best 모델 저장\n",
    "    if avg_val_loss < best_val_loss:\n",
    "        best_val_loss = avg_val_loss\n",
    "        torch.save(model.state_dict(), '/content/drive/MyDrive/cv_project/01unimodal/best_effnetv2_1e-3.pth')\n",
    "        print(f\"Best model updated at epoch {epoch+1} (Val Loss: {best_val_loss:.4f})\")\n",
    "\n",
    "    print(f\"Epoch {epoch+1}/{epochs} | Train Loss: {avg_train_loss:.4f} | Val Loss: {avg_val_loss:.4f} | \"\n",
    "          f\"Val Acc: {val_accuracy:.4f} | LR: {scheduler.get_last_lr()[0]:.6f}\")\n",
    "\n",
    "# 손실 기록 저장\n",
    "loss_history = {\n",
    "    'train_loss': train_losses,\n",
    "    'val_loss': val_losses,\n",
    "    'val_accuracy': val_accuracies\n",
    "}\n",
    "\n",
    "with open('/content/drive/MyDrive/cv_project/01unimodal/loss_history_best_effnetv2_1e-3.json', 'w') as f:\n",
    "    json.dump(loss_history, f, indent=2)\n",
    "\n",
    "print(\"loss_history_best_effnetv2_1e-3.json 저장 완료!\")\n"
   ]
  },
  {
   "cell_type": "code",
   "execution_count": 9,
   "metadata": {
    "colab": {
     "base_uri": "https://localhost:8080/",
     "height": 487
    },
    "id": "cAergRM8loVK",
    "outputId": "15574e21-99df-40f1-d93f-be536edb5324"
   },
   "outputs": [
    {
     "data": {
      "image/png": "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\n",
      "text/plain": [
       "<Figure size 800x500 with 1 Axes>"
      ]
     },
     "metadata": {},
     "output_type": "display_data"
    }
   ],
   "source": [
    "# 학습 종료 후 그래프 시각화\n",
    "plt.figure(figsize=(8, 5))\n",
    "plt.plot(train_losses, label='Train Loss')\n",
    "plt.plot(val_losses, label='Validation Loss')\n",
    "plt.xlabel('Epoch')\n",
    "plt.ylabel('Loss')\n",
    "plt.title('Training vs Validation Loss')\n",
    "plt.legend()\n",
    "plt.grid(True)\n",
    "plt.show()"
   ]
  },
  {
   "cell_type": "markdown",
   "metadata": {
    "id": "0QXYSyEW1dvW"
   },
   "source": [
    "### [9] predict_result.json 저장"
   ]
  },
  {
   "cell_type": "code",
   "execution_count": 10,
   "metadata": {
    "colab": {
     "base_uri": "https://localhost:8080/"
    },
    "id": "LStZ3-lzydnR",
    "outputId": "e6edae96-ef63-450f-83eb-d04c3927a56d"
   },
   "outputs": [
    {
     "name": "stderr",
     "output_type": "stream",
     "text": [
      "Predicting: 100%|██████████| 7/7 [00:53<00:00,  7.67s/it]"
     ]
    },
    {
     "name": "stdout",
     "output_type": "stream",
     "text": [
      "예측 결과 저장 완료: /content/drive/MyDrive/cv_project/01unimodal/predict_result_best_effnetv2_1e-3.json\n"
     ]
    },
    {
     "name": "stderr",
     "output_type": "stream",
     "text": [
      "\n"
     ]
    }
   ],
   "source": [
    "from tqdm import tqdm\n",
    "import torch\n",
    "import json\n",
    "\n",
    "# 모델 로드\n",
    "model = SiameseEfficientNetV2Classifier(dropout_p=0.3).to(device)\n",
    "model.load_state_dict(torch.load('/content/drive/MyDrive/cv_project/01unimodal/best_effnetv2_1e-3.pth'))\n",
    "model.eval()\n",
    "\n",
    "# 예측 수행\n",
    "results = []\n",
    "\n",
    "with torch.no_grad():\n",
    "    for left, right, labels in tqdm(test_loader, desc=\"Predicting\"):\n",
    "        left, right = left.to(device), right.to(device)\n",
    "        outputs = model(left, right)\n",
    "        probs = torch.softmax(outputs, dim=1)\n",
    "        preds = torch.argmax(probs, dim=1)\n",
    "\n",
    "        for true, pred, prob in zip(labels.cpu(), preds.cpu(), probs[:, 1].cpu()):\n",
    "            results.append({\n",
    "                \"true_label\": int(true.item()),\n",
    "                \"pred_label\": int(pred.item()),\n",
    "                \"prob_thickened\": float(prob.item())  # class 1 (두꺼워진) 확률\n",
    "            })\n",
    "\n",
    "# 결과 저장\n",
    "output_path = \"/content/drive/MyDrive/cv_project/01unimodal/predict_result_best_effnetv2_1e-3.json\"\n",
    "with open(output_path, \"w\") as f:\n",
    "    json.dump(results, f, indent=2)\n",
    "\n",
    "print(f\"예측 결과 저장 완료: {output_path}\")\n"
   ]
  },
  {
   "cell_type": "markdown",
   "metadata": {
    "id": "1RoExT701lNO"
   },
   "source": [
    "### [10] 평가 + AUC Curve 그리기"
   ]
  },
  {
   "cell_type": "code",
   "execution_count": 12,
   "metadata": {
    "colab": {
     "base_uri": "https://localhost:8080/",
     "height": 916
    },
    "id": "K1CaQ28jWhJc",
    "outputId": "f2bf2b37-222c-4d73-bfca-ca51cd6b9723"
   },
   "outputs": [
    {
     "data": {
      "image/png": "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\n",
      "text/plain": [
       "<Figure size 800x600 with 1 Axes>"
      ]
     },
     "metadata": {},
     "output_type": "display_data"
    },
    {
     "name": "stdout",
     "output_type": "stream",
     "text": [
      "정확도 (Accuracy): 0.8000\n",
      "AUC-ROC: 0.8892\n",
      "\n",
      "분류 리포트:\n",
      "              precision    recall  f1-score   support\n",
      "\n",
      "      Normal       0.92      0.66      0.77        50\n",
      "   Thickened       0.73      0.94      0.82        50\n",
      "\n",
      "    accuracy                           0.80       100\n",
      "   macro avg       0.83      0.80      0.80       100\n",
      "weighted avg       0.83      0.80      0.80       100\n",
      "\n",
      "\n",
      "Confusion Matrix:\n",
      "[[33 17]\n",
      " [ 3 47]]\n"
     ]
    }
   ],
   "source": [
    "import json\n",
    "import numpy as np\n",
    "from sklearn.metrics import roc_curve, roc_auc_score, classification_report, confusion_matrix\n",
    "import matplotlib.pyplot as plt\n",
    "\n",
    "# 예측 결과 불러오기\n",
    "with open(\"/content/drive/MyDrive/cv_project/01unimodal/predict_result_best_effnetv2_1e-3.json\", \"r\") as f:\n",
    "    results = json.load(f)\n",
    "\n",
    "# true, pred, prob 분리\n",
    "y_true = [r[\"true_label\"] for r in results]\n",
    "y_pred = [r[\"pred_label\"] for r in results]\n",
    "y_prob = [r[\"prob_thickened\"] for r in results]\n",
    "\n",
    "# AUC-ROC 계산\n",
    "fpr, tpr, thresholds = roc_curve(y_true, y_prob)\n",
    "auc_score = roc_auc_score(y_true, y_prob)\n",
    "\n",
    "# ROC Curve 그리기\n",
    "plt.figure(figsize=(8, 6))\n",
    "plt.plot(fpr, tpr, label=f\"AUC = {auc_score:.4f}\")\n",
    "plt.plot([0, 1], [0, 1], linestyle='--', color='gray')\n",
    "plt.xlabel(\"False Positive Rate\")\n",
    "plt.ylabel(\"True Positive Rate\")\n",
    "plt.title(\"ROC Curve (SiameseEffNetV2 Classifier)\")\n",
    "plt.legend()\n",
    "plt.grid(True)\n",
    "plt.tight_layout()\n",
    "plt.show()\n",
    "\n",
    "# 추가 성능 출력\n",
    "accuracy = np.mean(np.array(y_true) == np.array(y_pred))\n",
    "print(f\"정확도 (Accuracy): {accuracy:.4f}\")\n",
    "print(f\"AUC-ROC: {auc_score:.4f}\")\n",
    "print(\"\\n분류 리포트:\")\n",
    "print(classification_report(y_true, y_pred, target_names=[\"Normal\", \"Thickened\"]))\n",
    "print(\"\\nConfusion Matrix:\")\n",
    "print(confusion_matrix(y_true, y_pred))\n"
   ]
  },
  
  },
  {
   "cell_type": "code",
   "execution_count": null,
   "metadata": {
    "id": "SQ1YX4KD6jZ7"
   },
   "outputs": [],
   "source": []
  }
 ],
 "metadata": {
  "accelerator": "GPU",
  "colab": {
   "gpuType": "L4",
   "machine_shape": "hm",
   "provenance": []
  },
  "kernelspec": {
   "display_name": "Python 3",
   "name": "python3"
  },
  "language_info": {
   "name": "python"
  }
 },
 "nbformat": 4,
 "nbformat_minor": 0
}
