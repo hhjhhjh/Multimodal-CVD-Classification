{
 "cells": [
  {
   "cell_type": "markdown",
   "metadata": {
    "id": "8eCyFsJgzeCf"
   },
   "source": [
    "### [1] 패키지 불러오기"
   ]
  },
  {
   "cell_type": "code",
   "execution_count": 13,
   "metadata": {
    "id": "oHROc_uf4ix7"
   },
   "outputs": [],
   "source": [
    "import os\n",
    "import json\n",
    "import torch\n",
    "import torch.nn as nn\n",
    "import torch.nn.functional as F\n",
    "import timm\n",
    "from torch.utils.data import DataLoader, Dataset\n",
    "from torchvision import transforms\n",
    "import torch.optim as optim\n",
    "from torch.optim import lr_scheduler\n",
    "from PIL import Image"
   ]
  },
  {
   "cell_type": "markdown",
   "metadata": {
    "id": "Epb_upZUz68i"
   },
   "source": [
    "### [2] Data transform 정의"
   ]
  },
  {
   "cell_type": "code",
   "execution_count": 14,
   "metadata": {
    "id": "nJH0sQWIruYx"
   },
   "outputs": [],
   "source": [
    "import torchvision.transforms as transforms\n",
    "\n",
    "# 사이즈 설정\n",
    "size = [230, 230]\n",
    "center_size = [224, 224]\n",
    "\n",
    "# 학습용 Transform\n",
    "TrainTransform = transforms.Compose([\n",
    "    transforms.Resize(size),\n",
    "    transforms.CenterCrop(center_size),\n",
    "    transforms.RandomRotation(20),\n",
    "    transforms.RandomHorizontalFlip(),\n",
    "    transforms.RandomVerticalFlip(),\n",
    "    transforms.ColorJitter(brightness=0.25, contrast=0.25, saturation=0.25, hue=0.02),\n",
    "    transforms.ToTensor(),\n",
    "    transforms.Normalize(mean=[0.485, 0.456, 0.406], std=[0.229, 0.224, 0.225])\n",
    "])\n",
    "\n",
    "# 검증/테스트용 Transform\n",
    "ValidTransform = transforms.Compose([\n",
    "    transforms.Resize(size),\n",
    "    transforms.CenterCrop(center_size),\n",
    "    transforms.ToTensor(),\n",
    "    transforms.Normalize(mean=[0.485, 0.456, 0.406], std=[0.229, 0.224, 0.225])\n",
    "])\n"
   ]
  },
  {
   "cell_type": "markdown",
   "metadata": {
    "id": "E39LCz-hseVB"
   },
   "source": [
    "### [3] Eye dataset 클래스"
   ]
  },
  {
   "cell_type": "code",
   "execution_count": 15,
   "metadata": {
    "id": "jjsK0mh2sXot"
   },
   "outputs": [],
   "source": [
    "import os\n",
    "import json\n",
    "from PIL import Image\n",
    "from torch.utils.data import Dataset\n",
    "import torch\n",
    "\n",
    "class NewEyeDataset(Dataset):\n",
    "    def __init__(self, data, image_path, transform=None):\n",
    "        self.data = data\n",
    "        self.image_path = image_path\n",
    "        self.transform = transform\n",
    "\n",
    "    def __len__(self):\n",
    "        return len(self.data)\n",
    "\n",
    "    def __getitem__(self, idx):\n",
    "        item = self.data[idx]\n",
    "\n",
    "        left_img = Image.open(os.path.join(self.image_path, item['left_eye'])).convert('RGB')\n",
    "        right_img = Image.open(os.path.join(self.image_path, item['right_eye'])).convert('RGB')\n",
    "\n",
    "        if self.transform:\n",
    "            left_img = self.transform(left_img)\n",
    "            right_img = self.transform(right_img)\n",
    "\n",
    "        label = torch.tensor(item['label'], dtype=torch.long)\n",
    "\n",
    "        return left_img, right_img, label\n",
    "\n",
    "    @classmethod\n",
    "    def from_json(cls, json_file, image_path, group_value=1, include_0_9mm=True, transform=None):\n",
    "        with open(json_file, 'r') as f:\n",
    "            raw_data = json.load(f)\n",
    "\n",
    "        usable_data = [\n",
    "            item for item in raw_data.values()\n",
    "            if item['group'] == group_value and (include_0_9mm or item['thickness'] != 0.9)\n",
    "        ]\n",
    "\n",
    "        print(f\"usable samples for group {group_value}: {len(usable_data)}\")\n",
    "        return cls(usable_data, image_path, transform)\n"
   ]
  },
  {
   "cell_type": "markdown",
   "metadata": {
    "id": "M0kEZVwg0NrT"
   },
   "source": [
    "### [4] 구글 드라이브 연동"
   ]
  },
  {
   "cell_type": "code",
   "execution_count": 16,
   "metadata": {
    "colab": {
     "base_uri": "https://localhost:8080/"
    },
    "id": "VIpnFYkNt4-U",
    "outputId": "b90d87b1-413d-4f28-e41e-93c4604f0ff4"
   },
   "outputs": [
    {
     "name": "stdout",
     "output_type": "stream",
     "text": [
      "Drive already mounted at /content/drive; to attempt to forcibly remount, call drive.mount(\"/content/drive\", force_remount=True).\n"
     ]
    }
   ],
   "source": [
    "from google.colab import drive\n",
    "drive.mount('/content/drive')"
   ]
  },
  {
   "cell_type": "markdown",
   "metadata": {
    "id": "Lbb3Lgqb0Sw2"
   },
   "source": [
    "### [5] train_loader, val_loader, test_loader 구성"
   ]
  },
  {
   "cell_type": "code",
   "execution_count": 17,
   "metadata": {
    "colab": {
     "base_uri": "https://localhost:8080/"
    },
    "id": "ohdRvVYMtQ26",
    "outputId": "5d49a721-264d-41a5-ebde-095c38910aa6"
   },
   "outputs": [
    {
     "name": "stdout",
     "output_type": "stream",
     "text": [
      "usable samples for group 1: 2603\n",
      "usable samples for group 2: 200\n",
      "usable samples for group 3: 100\n"
     ]
    }
   ],
   "source": [
    "from torch.utils.data import DataLoader\n",
    "\n",
    "# 경로 설정\n",
    "json_path = '/content/drive/MyDrive/cv_project/dataset/data_info.json'\n",
    "image_path = '/content/drive/MyDrive/cv_project/dataset/train_images/Fundus_CIMT_2903 Dataset'\n",
    "\n",
    "# 데이터셋 생성\n",
    "train_dataset = NewEyeDataset.from_json(json_file=json_path, image_path=image_path, group_value=1, transform=TrainTransform)\n",
    "val_dataset = NewEyeDataset.from_json(json_file=json_path, image_path=image_path, group_value=2, transform=ValidTransform)\n",
    "test_dataset = NewEyeDataset.from_json(json_file=json_path, image_path=image_path, group_value=3, transform=ValidTransform)\n",
    "\n",
    "# 최적화된 데이터로더\n",
    "train_loader = DataLoader(train_dataset, batch_size=16, shuffle=True, num_workers=2, pin_memory=True)\n",
    "val_loader = DataLoader(val_dataset, batch_size=16, shuffle=False, num_workers=2, pin_memory=True)\n",
    "test_loader = DataLoader(test_dataset, batch_size=16, shuffle=False, num_workers=2, pin_memory=True)\n"
   ]
  },
  {
   "cell_type": "markdown",
   "metadata": {
    "id": "L8BVVQwl0bgO"
   },
   "source": [
    "### [6] SiameseSeResNeXtdropout 모델 정의"
   ]
  },
  {
   "cell_type": "code",
   "execution_count": 18,
   "metadata": {
    "id": "ywGbN0T2t35V"
   },
   "outputs": [],
   "source": [
    "import torch\n",
    "import torch.nn as nn\n",
    "import timm\n",
    "\n",
    "class SiameseSeResNeXtdropout(nn.Module):\n",
    "    def __init__(self):\n",
    "        super(SiameseSeResNeXtdropout, self).__init__()\n",
    "        # backbone 변경: seresnext50_32x4d.racm_in1k\n",
    "        self.backbone = timm.create_model('seresnext50_32x4d.racm_in1k', pretrained=True, num_classes=0)\n",
    "\n",
    "        # backbone feature dimension은 2048 → 두 개 concatenate하면 4096\n",
    "        self.dropout = nn.Dropout(0.5)\n",
    "\n",
    "        self.classifier = nn.Sequential(\n",
    "            nn.Linear(4096, 512),\n",
    "            nn.ReLU(),\n",
    "            nn.Dropout(0.3),\n",
    "            nn.Linear(512, 2)  # Binary classification (Normal / Thickened)\n",
    "        )\n",
    "\n",
    "    def forward(self, left, right):\n",
    "        left_feat = self.backbone(left)    # (batch, 2048)\n",
    "        right_feat = self.backbone(right)  # (batch, 2048)\n",
    "\n",
    "        combined = torch.cat((left_feat, right_feat), dim=1)  # (batch, 4096)\n",
    "        combined = self.dropout(combined)  # backbone feature 뒤에 dropout(0.5)\n",
    "\n",
    "        output = self.classifier(combined)\n",
    "\n",
    "        return output\n"
   ]
  },
  {
   "cell_type": "markdown",
   "metadata": {
    "id": "TRbNvRWG007C"
   },
   "source": [
    "### [7] FocalLoss 클래스 정의"
   ]
  },
  {
   "cell_type": "code",
   "execution_count": 19,
   "metadata": {
    "id": "8ak20Qk-v4Dn"
   },
   "outputs": [],
   "source": [
    "import torch\n",
    "import torch.nn as nn\n",
    "import torch.nn.functional as F\n",
    "\n",
    "class FocalLoss(nn.Module):\n",
    "    def __init__(self, alpha=1, gamma=2, reduction='mean'):\n",
    "        super(FocalLoss, self).__init__()\n",
    "        self.alpha = alpha\n",
    "        self.gamma = gamma\n",
    "        self.reduction = reduction\n",
    "\n",
    "    def forward(self, inputs, targets):\n",
    "        CE_loss = F.cross_entropy(inputs, targets, reduction='none')\n",
    "        pt = torch.exp(-CE_loss)\n",
    "        focal_loss = self.alpha * (1 - pt) ** self.gamma * CE_loss\n",
    "\n",
    "        if self.reduction == 'mean':\n",
    "            return focal_loss.mean()\n",
    "        elif self.reduction == 'sum':\n",
    "            return focal_loss.sum()\n",
    "        else:\n",
    "            return focal_loss\n"
   ]
  },
  {
   "cell_type": "markdown",
   "metadata": {
    "id": "OM2Tn1wj07di"
   },
   "source": [
    "### [8] 학습 루프 + loss 그래프"
   ]
  },
  {
   "cell_type": "code",
   "execution_count": 20,
   "metadata": {
    "colab": {
     "base_uri": "https://localhost:8080/"
    },
    "id": "wRRHK-56wxkC",
    "outputId": "261d69bc-57d6-420c-b01f-25c12ed2b2fc"
   },
   "outputs": [
    {
     "name": "stdout",
     "output_type": "stream",
     "text": [
      "Best model updated at epoch 1 (Val Loss: 0.1814)\n",
      "Epoch 1/50 | Train Loss: 0.1345 | Val Loss: 0.1814 | Val Acc: 0.6050 | LR: 0.000100\n",
      "Best model updated at epoch 2 (Val Loss: 0.1510)\n",
      "Epoch 2/50 | Train Loss: 0.1243 | Val Loss: 0.1510 | Val Acc: 0.6900 | LR: 0.000100\n",
      "Best model updated at epoch 3 (Val Loss: 0.1373)\n",
      "Epoch 3/50 | Train Loss: 0.1187 | Val Loss: 0.1373 | Val Acc: 0.7400 | LR: 0.000100\n",
      "Best model updated at epoch 4 (Val Loss: 0.1354)\n",
      "Epoch 4/50 | Train Loss: 0.1166 | Val Loss: 0.1354 | Val Acc: 0.7450 | LR: 0.000100\n",
      "Epoch 5/50 | Train Loss: 0.1129 | Val Loss: 0.2364 | Val Acc: 0.6200 | LR: 0.000100\n",
      "Epoch 6/50 | Train Loss: 0.1092 | Val Loss: 0.1388 | Val Acc: 0.7400 | LR: 0.000100\n",
      "Epoch 7/50 | Train Loss: 0.1064 | Val Loss: 0.1640 | Val Acc: 0.7150 | LR: 0.000100\n",
      "Epoch 8/50 | Train Loss: 0.1065 | Val Loss: 0.2173 | Val Acc: 0.7000 | LR: 0.000100\n",
      "Epoch 9/50 | Train Loss: 0.1023 | Val Loss: 0.1454 | Val Acc: 0.7100 | LR: 0.000100\n",
      "Epoch 10/50 | Train Loss: 0.0992 | Val Loss: 0.1553 | Val Acc: 0.7300 | LR: 0.000100\n",
      "Epoch 11/50 | Train Loss: 0.0920 | Val Loss: 0.1477 | Val Acc: 0.7200 | LR: 0.000100\n",
      "Epoch 12/50 | Train Loss: 0.0944 | Val Loss: 0.2049 | Val Acc: 0.7150 | LR: 0.000100\n",
      "Epoch 13/50 | Train Loss: 0.0882 | Val Loss: 0.2059 | Val Acc: 0.7050 | LR: 0.000100\n",
      "Epoch 14/50 | Train Loss: 0.0851 | Val Loss: 0.2141 | Val Acc: 0.6800 | LR: 0.000100\n",
      "Epoch 15/50 | Train Loss: 0.0767 | Val Loss: 0.2551 | Val Acc: 0.6600 | LR: 0.000100\n",
      "Epoch 16/50 | Train Loss: 0.0708 | Val Loss: 0.2826 | Val Acc: 0.6900 | LR: 0.000100\n",
      "Epoch 17/50 | Train Loss: 0.0662 | Val Loss: 0.2671 | Val Acc: 0.6950 | LR: 0.000100\n",
      "Epoch 18/50 | Train Loss: 0.0599 | Val Loss: 0.4833 | Val Acc: 0.6650 | LR: 0.000100\n",
      "Epoch 19/50 | Train Loss: 0.0617 | Val Loss: 0.3461 | Val Acc: 0.6800 | LR: 0.000100\n",
      "Epoch 20/50 | Train Loss: 0.0544 | Val Loss: 0.4149 | Val Acc: 0.7100 | LR: 0.000010\n",
      "Epoch 21/50 | Train Loss: 0.0384 | Val Loss: 0.4156 | Val Acc: 0.7050 | LR: 0.000010\n",
      "Epoch 22/50 | Train Loss: 0.0341 | Val Loss: 0.4673 | Val Acc: 0.6900 | LR: 0.000010\n",
      "Epoch 23/50 | Train Loss: 0.0313 | Val Loss: 0.4591 | Val Acc: 0.6950 | LR: 0.000010\n",
      "Epoch 24/50 | Train Loss: 0.0284 | Val Loss: 0.5480 | Val Acc: 0.6950 | LR: 0.000010\n",
      "Epoch 25/50 | Train Loss: 0.0273 | Val Loss: 0.5036 | Val Acc: 0.6750 | LR: 0.000010\n",
      "Epoch 26/50 | Train Loss: 0.0267 | Val Loss: 0.4743 | Val Acc: 0.6750 | LR: 0.000010\n",
      "Epoch 27/50 | Train Loss: 0.0270 | Val Loss: 0.5359 | Val Acc: 0.6650 | LR: 0.000010\n",
      "Epoch 28/50 | Train Loss: 0.0256 | Val Loss: 0.4763 | Val Acc: 0.6800 | LR: 0.000010\n",
      "Epoch 29/50 | Train Loss: 0.0216 | Val Loss: 0.5635 | Val Acc: 0.6750 | LR: 0.000010\n",
      "Epoch 30/50 | Train Loss: 0.0211 | Val Loss: 0.5249 | Val Acc: 0.6900 | LR: 0.000010\n",
      "Epoch 31/50 | Train Loss: 0.0203 | Val Loss: 0.5924 | Val Acc: 0.6850 | LR: 0.000010\n",
      "Epoch 32/50 | Train Loss: 0.0239 | Val Loss: 0.6135 | Val Acc: 0.6850 | LR: 0.000010\n",
      "Epoch 33/50 | Train Loss: 0.0203 | Val Loss: 0.6470 | Val Acc: 0.6800 | LR: 0.000010\n",
      "Epoch 34/50 | Train Loss: 0.0204 | Val Loss: 0.6103 | Val Acc: 0.6850 | LR: 0.000010\n",
      "Epoch 35/50 | Train Loss: 0.0201 | Val Loss: 0.6143 | Val Acc: 0.6850 | LR: 0.000010\n",
      "Epoch 36/50 | Train Loss: 0.0188 | Val Loss: 0.6485 | Val Acc: 0.6700 | LR: 0.000010\n",
      "Epoch 37/50 | Train Loss: 0.0206 | Val Loss: 0.6444 | Val Acc: 0.6800 | LR: 0.000010\n",
      "Epoch 38/50 | Train Loss: 0.0168 | Val Loss: 0.5864 | Val Acc: 0.6800 | LR: 0.000010\n",
      "Epoch 39/50 | Train Loss: 0.0161 | Val Loss: 0.7273 | Val Acc: 0.6650 | LR: 0.000010\n",
      "Epoch 40/50 | Train Loss: 0.0159 | Val Loss: 0.7764 | Val Acc: 0.6750 | LR: 0.000001\n",
      "Epoch 41/50 | Train Loss: 0.0129 | Val Loss: 0.7383 | Val Acc: 0.6800 | LR: 0.000001\n",
      "Epoch 42/50 | Train Loss: 0.0147 | Val Loss: 0.6979 | Val Acc: 0.6800 | LR: 0.000001\n",
      "Epoch 43/50 | Train Loss: 0.0144 | Val Loss: 0.7180 | Val Acc: 0.6750 | LR: 0.000001\n",
      "Epoch 44/50 | Train Loss: 0.0119 | Val Loss: 0.6862 | Val Acc: 0.6850 | LR: 0.000001\n",
      "Epoch 45/50 | Train Loss: 0.0159 | Val Loss: 0.6952 | Val Acc: 0.6650 | LR: 0.000001\n",
      "Epoch 46/50 | Train Loss: 0.0127 | Val Loss: 0.7189 | Val Acc: 0.6750 | LR: 0.000001\n",
      "Epoch 47/50 | Train Loss: 0.0147 | Val Loss: 0.6816 | Val Acc: 0.6600 | LR: 0.000001\n",
      "Epoch 48/50 | Train Loss: 0.0134 | Val Loss: 0.6926 | Val Acc: 0.6700 | LR: 0.000001\n",
      "Epoch 49/50 | Train Loss: 0.0136 | Val Loss: 0.6363 | Val Acc: 0.6750 | LR: 0.000001\n",
      "Epoch 50/50 | Train Loss: 0.0113 | Val Loss: 0.6703 | Val Acc: 0.6700 | LR: 0.000001\n",
      "loss_history.json 저장 완료!\n"
     ]
    }
   ],
   "source": [
    "import matplotlib.pyplot as plt\n",
    "\n",
    "# 디바이스 설정\n",
    "device = torch.device(\"cuda\" if torch.cuda.is_available() else \"cpu\")\n",
    "\n",
    "# 모델 초기화\n",
    "model = SiameseSeResNeXtdropout().to(device)\n",
    "\n",
    "# 손실 함수\n",
    "criterion = FocalLoss()\n",
    "\n",
    "# 옵티마이저 (AdamW) 2.5e-3, 1e-4, 1e-3\n",
    "optimizer = optim.AdamW(model.parameters(), lr=1e-4, weight_decay=1e-4)\n",
    "\n",
    "# 학습률 스케줄러\n",
    "scheduler = lr_scheduler.StepLR(optimizer, step_size=20, gamma=0.1)\n",
    "\n",
    "# 하이퍼파라미터\n",
    "epochs = 50\n",
    "best_val_loss = float('inf')\n",
    "\n",
    "# 손실 저장 리스트\n",
    "train_losses = []\n",
    "val_losses = []\n",
    "\n",
    "# 학습 루프\n",
    "for epoch in range(epochs):\n",
    "    model.train()\n",
    "    running_loss = 0.0\n",
    "\n",
    "    for left, right, labels in train_loader:\n",
    "        left, right, labels = left.to(device), right.to(device), labels.to(device)\n",
    "\n",
    "        optimizer.zero_grad()\n",
    "        outputs = model(left, right)\n",
    "        loss = criterion(outputs, labels)\n",
    "        loss.backward()\n",
    "        optimizer.step()\n",
    "\n",
    "        running_loss += loss.item()\n",
    "\n",
    "    # Validation\n",
    "    model.eval()\n",
    "    val_loss = 0.0\n",
    "    correct = 0\n",
    "    total = 0\n",
    "\n",
    "    with torch.no_grad():\n",
    "        for left, right, labels in val_loader:\n",
    "            left, right, labels = left.to(device), right.to(device), labels.to(device)\n",
    "\n",
    "            outputs = model(left, right)\n",
    "            loss = criterion(outputs, labels)\n",
    "            val_loss += loss.item()\n",
    "\n",
    "            preds = torch.argmax(outputs, dim=1)\n",
    "            correct += (preds == labels).sum().item()\n",
    "            total += labels.size(0)\n",
    "\n",
    "    val_accuracy = correct / total\n",
    "    train_loss = running_loss / len(train_loader)\n",
    "    val_loss /= len(val_loader)\n",
    "\n",
    "    train_losses.append(train_loss)\n",
    "    val_losses.append(val_loss)\n",
    "\n",
    "    scheduler.step()\n",
    "\n",
    "    # Best 모델 저장 (loss 기준)\n",
    "    if val_loss < best_val_loss:\n",
    "        best_val_loss = val_loss\n",
    "        torch.save(model.state_dict(), '/content/drive/MyDrive/cv_project/01unimodal/best_unimodal_model_1e-4.pth')\n",
    "        print(f\"Best model updated at epoch {epoch+1} (Val Loss: {best_val_loss:.4f})\")\n",
    "\n",
    "    # 출력\n",
    "    print(f\"Epoch {epoch+1}/{epochs} | Train Loss: {train_loss:.4f} | Val Loss: {val_loss:.4f} | Val Acc: {val_accuracy:.4f} | LR: {scheduler.get_last_lr()[0]:.6f}\")\n",
    "\n",
    "# 딕셔너리로 정리\n",
    "loss_history = {\n",
    "    'train_loss': train_losses,\n",
    "    'val_loss': val_losses\n",
    "}\n",
    "\n",
    "# JSON으로 저장\n",
    "with open('/content/drive/MyDrive/cv_project/01unimodal/loss_history_1e-4.json', 'w') as f:\n",
    "    json.dump(loss_history, f, indent=2)\n",
    "\n",
    "print(\"loss_history.json 저장 완료!\")"
   ]
  },
  {
   "cell_type": "code",
   "execution_count": 21,
   "metadata": {
    "colab": {
     "base_uri": "https://localhost:8080/",
     "height": 455
    },
    "id": "cAergRM8loVK",
    "outputId": "67b7f91a-f54e-4094-f118-3e81f5ce62a0"
   },
   "outputs": [
    {
     "data": {
      "image/png": "[encoded data removed]",
      "text/plain": [
       "<Figure size 800x500 with 1 Axes>"
      ]
     },
     "metadata": {},
     "output_type": "display_data"
    }
   ],
   "source": [
    "# 학습 종료 후 그래프 시각화\n",
    "plt.figure(figsize=(8, 5))\n",
    "plt.plot(train_losses, label='Train Loss')\n",
    "plt.plot(val_losses, label='Validation Loss')\n",
    "plt.xlabel('Epoch')\n",
    "plt.ylabel('Loss')\n",
    "plt.title('Training vs Validation Loss')\n",
    "plt.legend()\n",
    "plt.grid(True)\n",
    "plt.show()"
   ]
  },
  {
   "cell_type": "markdown",
   "metadata": {
    "id": "0QXYSyEW1dvW"
   },
   "source": [
    "### [9] predict_result.json 저장"
   ]
  },
  {
   "cell_type": "code",
   "execution_count": 22,
   "metadata": {
    "colab": {
     "base_uri": "https://localhost:8080/"
    },
    "id": "LStZ3-lzydnR",
    "outputId": "dfce58c3-5af7-4d26-e185-03e932586a6f"
   },
   "outputs": [
    {
     "name": "stderr",
     "output_type": "stream",
     "text": [
      "Predicting: 100%|██████████| 7/7 [00:01<00:00,  4.00it/s]"
     ]
    },
    {
     "name": "stdout",
     "output_type": "stream",
     "text": [
      "예측 결과 저장 완료: /content/drive/MyDrive/cv_project/01unimodal/predict_result_1e-4.json\n"
     ]
    },
    {
     "name": "stderr",
     "output_type": "stream",
     "text": [
      "\n"
     ]
    }
   ],
   "source": [
    "from tqdm import tqdm\n",
    "\n",
    "# 테스트셋 로드 (이미 test_loader는 있음)\n",
    "\n",
    "# 모델 로드\n",
    "model = SiameseSeResNeXtdropout().to(device)\n",
    "model.load_state_dict(torch.load('/content/drive/MyDrive/cv_project/01unimodal/best_unimodal_model_1e-4.pth'))\n",
    "model.eval()\n",
    "\n",
    "# 예측 수행\n",
    "results = []\n",
    "with torch.no_grad():\n",
    "    for left, right, labels in tqdm(test_loader, desc=\"Predicting\"):\n",
    "        left, right = left.to(device), right.to(device)\n",
    "        outputs = model(left, right)\n",
    "        probs = torch.softmax(outputs, dim=1)\n",
    "        preds = torch.argmax(probs, dim=1)\n",
    "\n",
    "        for true, pred, prob in zip(labels.cpu(), preds.cpu(), probs[:, 1].cpu()):\n",
    "            results.append({\n",
    "                \"true\": int(true.item()),\n",
    "                \"pred\": int(pred.item()),\n",
    "                \"prob_thickened\": float(prob.item())\n",
    "            })\n",
    "\n",
    "# 결과 저장\n",
    "output_path = \"/content/drive/MyDrive/cv_project/01unimodal/predict_result_1e-4.json\"\n",
    "with open(output_path, \"w\") as f:\n",
    "    json.dump(results, f, indent=2)\n",
    "\n",
    "print(f\"예측 결과 저장 완료: {output_path}\")\n"
   ]
  },
  {
   "cell_type": "markdown",
   "metadata": {
    "id": "1RoExT701lNO"
   },
   "source": [
    "### [10] 평가 + AUC Curve 그리기"
   ]
  },
  {
   "cell_type": "code",
   "execution_count": 23,
   "metadata": {
    "colab": {
     "base_uri": "https://localhost:8080/",
     "height": 836
    },
    "id": "K1CaQ28jWhJc",
    "outputId": "06d962c0-52aa-4897-8d2a-d4b2f1736d40"
   },
   "outputs": [
    {
     "data": {
      "image/png": "[encoded data removed]",
      "text/plain": [
       "<Figure size 800x600 with 1 Axes>"
      ]
     },
     "metadata": {},
     "output_type": "display_data"
    },
    {
     "name": "stdout",
     "output_type": "stream",
     "text": [
      "정확도 (Accuracy): 0.7700\n",
      "AUC-ROC: 0.8508\n",
      "\n",
      "분류 리포트:\n",
      "              precision    recall  f1-score   support\n",
      "\n",
      "      Normal       0.89      0.62      0.73        50\n",
      "   Thickened       0.71      0.92      0.80        50\n",
      "\n",
      "    accuracy                           0.77       100\n",
      "   macro avg       0.80      0.77      0.76       100\n",
      "weighted avg       0.80      0.77      0.76       100\n",
      "\n",
      "\n",
      "Confusion Matrix:\n",
      "[[31 19]\n",
      " [ 4 46]]\n"
     ]
    }
   ],
   "source": [
    "import json\n",
    "import numpy as np\n",
    "from sklearn.metrics import roc_curve, roc_auc_score, classification_report, confusion_matrix\n",
    "import matplotlib.pyplot as plt\n",
    "\n",
    "# 예측 결과 불러오기\n",
    "with open(\"/content/drive/MyDrive/cv_project/01unimodal/predict_result_1e-4.json\", \"r\") as f:\n",
    "    results = json.load(f)\n",
    "\n",
    "# true, pred, prob 분리\n",
    "y_true = [r[\"true\"] for r in results]\n",
    "y_pred = [r[\"pred\"] for r in results]\n",
    "y_prob = [r[\"prob_thickened\"] for r in results]\n",
    "\n",
    "# AUC-ROC 계산\n",
    "fpr, tpr, thresholds = roc_curve(y_true, y_prob)\n",
    "auc_score = roc_auc_score(y_true, y_prob)\n",
    "\n",
    "# ROC Curve 그리기\n",
    "plt.figure(figsize=(8,6))\n",
    "plt.plot(fpr, tpr, label=f\"AUC = {auc_score:.4f}\")\n",
    "plt.plot([0, 1], [0, 1], linestyle='--', color='gray')\n",
    "plt.xlabel(\"False Positive Rate\")\n",
    "plt.ylabel(\"True Positive Rate\")\n",
    "plt.title(\"ROC Curve (Unimodal Best Model)\")\n",
    "plt.legend()\n",
    "plt.grid()\n",
    "plt.show()\n",
    "\n",
    "# 추가 성능 출력\n",
    "print(f\"정확도 (Accuracy): {np.mean(np.array(y_true) == np.array(y_pred)):.4f}\")\n",
    "print(f\"AUC-ROC: {auc_score:.4f}\")\n",
    "print(\"\\n분류 리포트:\")\n",
    "print(classification_report(y_true, y_pred, target_names=[\"Normal\", \"Thickened\"]))\n",
    "print(\"\\nConfusion Matrix:\")\n",
    "print(confusion_matrix(y_true, y_pred))\n"
   ]
  },
  {
   "cell_type": "markdown",
   "metadata": {
    "id": "sO2DfaP-1CS9"
   },
   "source": [
    "\n",
    "\n",
    "---\n",
    "\n",
    "\n",
    "## 전체 성능 요약\n",
    "[단일모달 모델]\n",
    "- 정확도 (Accuracy): 75.00%\n",
    "- AUC-ROC: 82.58%\n",
    "\n",
    "[현재 모델]\n",
    "- 학습률: 1e-4\n",
    "- 정확도 (Accuracy): 77.00%\n",
    "- AUC-ROC: 85.08%"
   ]
  },
  {
   "cell_type": "code",
   "execution_count": null,
   "metadata": {
    "id": "SQ1YX4KD6jZ7"
   },
   "outputs": [],
   "source": []
  }
 ],
 "metadata": {
  "accelerator": "GPU",
  "colab": {
   "gpuType": "A100",
   "machine_shape": "hm",
   "provenance": []
  },
  "kernelspec": {
   "display_name": "Python 3",
   "name": "python3"
  },
  "language_info": {
   "name": "python"
  }
 },
 "nbformat": 4,
 "nbformat_minor": 0
}
