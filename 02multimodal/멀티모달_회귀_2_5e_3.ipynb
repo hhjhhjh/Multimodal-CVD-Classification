{
  "nbformat": 4,
  "nbformat_minor": 0,
  "metadata": {
    "colab": {
      "provenance": [],
      "machine_shape": "hm",
      "gpuType": "T4",
      "authorship_tag": "ABX9TyNtmIOWVUiMzlOtjMRaKF6S"
    },
    "kernelspec": {
      "name": "python3",
      "display_name": "Python 3"
    },
    "language_info": {
      "name": "python"
    },
    "accelerator": "GPU",
    "widgets": {
      "application/vnd.jupyter.widget-state+json": {
        "ec5ca02127344ac08dd5feea1c1e6beb": {
          "model_module": "@jupyter-widgets/controls",
          "model_name": "HBoxModel",
          "model_module_version": "1.5.0",
          "state": {
            "_dom_classes": [],
            "_model_module": "@jupyter-widgets/controls",
            "_model_module_version": "1.5.0",
            "_model_name": "HBoxModel",
            "_view_count": null,
            "_view_module": "@jupyter-widgets/controls",
            "_view_module_version": "1.5.0",
            "_view_name": "HBoxView",
            "box_style": "",
            "children": [
              "IPY_MODEL_817ea531247d42ac852375388f7dcb89",
              "IPY_MODEL_f378e690eee745868f84e684f71dd9e0",
              "IPY_MODEL_0e7f40fe6fae45b68f8905d1f6bb4c91"
            ],
            "layout": "IPY_MODEL_9e640d92ba934d63ae3f5447263dd47c"
          }
        },
        "817ea531247d42ac852375388f7dcb89": {
          "model_module": "@jupyter-widgets/controls",
          "model_name": "HTMLModel",
          "model_module_version": "1.5.0",
          "state": {
            "_dom_classes": [],
            "_model_module": "@jupyter-widgets/controls",
            "_model_module_version": "1.5.0",
            "_model_name": "HTMLModel",
            "_view_count": null,
            "_view_module": "@jupyter-widgets/controls",
            "_view_module_version": "1.5.0",
            "_view_name": "HTMLView",
            "description": "",
            "description_tooltip": null,
            "layout": "IPY_MODEL_bea964aa108347a9a467f64646521e56",
            "placeholder": "​",
            "style": "IPY_MODEL_41170abb450a409d990594db295a0bb2",
            "value": "model.safetensors: 100%"
          }
        },
        "f378e690eee745868f84e684f71dd9e0": {
          "model_module": "@jupyter-widgets/controls",
          "model_name": "FloatProgressModel",
          "model_module_version": "1.5.0",
          "state": {
            "_dom_classes": [],
            "_model_module": "@jupyter-widgets/controls",
            "_model_module_version": "1.5.0",
            "_model_name": "FloatProgressModel",
            "_view_count": null,
            "_view_module": "@jupyter-widgets/controls",
            "_view_module_version": "1.5.0",
            "_view_name": "ProgressView",
            "bar_style": "success",
            "description": "",
            "description_tooltip": null,
            "layout": "IPY_MODEL_a5694d8f9eda43ae8f4a5e9e35c3329d",
            "max": 110547680,
            "min": 0,
            "orientation": "horizontal",
            "style": "IPY_MODEL_11d00f269b2c468089450f71a77aa449",
            "value": 110547680
          }
        },
        "0e7f40fe6fae45b68f8905d1f6bb4c91": {
          "model_module": "@jupyter-widgets/controls",
          "model_name": "HTMLModel",
          "model_module_version": "1.5.0",
          "state": {
            "_dom_classes": [],
            "_model_module": "@jupyter-widgets/controls",
            "_model_module_version": "1.5.0",
            "_model_name": "HTMLModel",
            "_view_count": null,
            "_view_module": "@jupyter-widgets/controls",
            "_view_module_version": "1.5.0",
            "_view_name": "HTMLView",
            "description": "",
            "description_tooltip": null,
            "layout": "IPY_MODEL_6485f5d7be74460a95a5c2c250a87812",
            "placeholder": "​",
            "style": "IPY_MODEL_01e449f6121a47299edaddf45694c74b",
            "value": " 111M/111M [00:00&lt;00:00, 262MB/s]"
          }
        },
        "9e640d92ba934d63ae3f5447263dd47c": {
          "model_module": "@jupyter-widgets/base",
          "model_name": "LayoutModel",
          "model_module_version": "1.2.0",
          "state": {
            "_model_module": "@jupyter-widgets/base",
            "_model_module_version": "1.2.0",
            "_model_name": "LayoutModel",
            "_view_count": null,
            "_view_module": "@jupyter-widgets/base",
            "_view_module_version": "1.2.0",
            "_view_name": "LayoutView",
            "align_content": null,
            "align_items": null,
            "align_self": null,
            "border": null,
            "bottom": null,
            "display": null,
            "flex": null,
            "flex_flow": null,
            "grid_area": null,
            "grid_auto_columns": null,
            "grid_auto_flow": null,
            "grid_auto_rows": null,
            "grid_column": null,
            "grid_gap": null,
            "grid_row": null,
            "grid_template_areas": null,
            "grid_template_columns": null,
            "grid_template_rows": null,
            "height": null,
            "justify_content": null,
            "justify_items": null,
            "left": null,
            "margin": null,
            "max_height": null,
            "max_width": null,
            "min_height": null,
            "min_width": null,
            "object_fit": null,
            "object_position": null,
            "order": null,
            "overflow": null,
            "overflow_x": null,
            "overflow_y": null,
            "padding": null,
            "right": null,
            "top": null,
            "visibility": null,
            "width": null
          }
        },
        "bea964aa108347a9a467f64646521e56": {
          "model_module": "@jupyter-widgets/base",
          "model_name": "LayoutModel",
          "model_module_version": "1.2.0",
          "state": {
            "_model_module": "@jupyter-widgets/base",
            "_model_module_version": "1.2.0",
            "_model_name": "LayoutModel",
            "_view_count": null,
            "_view_module": "@jupyter-widgets/base",
            "_view_module_version": "1.2.0",
            "_view_name": "LayoutView",
            "align_content": null,
            "align_items": null,
            "align_self": null,
            "border": null,
            "bottom": null,
            "display": null,
            "flex": null,
            "flex_flow": null,
            "grid_area": null,
            "grid_auto_columns": null,
            "grid_auto_flow": null,
            "grid_auto_rows": null,
            "grid_column": null,
            "grid_gap": null,
            "grid_row": null,
            "grid_template_areas": null,
            "grid_template_columns": null,
            "grid_template_rows": null,
            "height": null,
            "justify_content": null,
            "justify_items": null,
            "left": null,
            "margin": null,
            "max_height": null,
            "max_width": null,
            "min_height": null,
            "min_width": null,
            "object_fit": null,
            "object_position": null,
            "order": null,
            "overflow": null,
            "overflow_x": null,
            "overflow_y": null,
            "padding": null,
            "right": null,
            "top": null,
            "visibility": null,
            "width": null
          }
        },
        "41170abb450a409d990594db295a0bb2": {
          "model_module": "@jupyter-widgets/controls",
          "model_name": "DescriptionStyleModel",
          "model_module_version": "1.5.0",
          "state": {
            "_model_module": "@jupyter-widgets/controls",
            "_model_module_version": "1.5.0",
            "_model_name": "DescriptionStyleModel",
            "_view_count": null,
            "_view_module": "@jupyter-widgets/base",
            "_view_module_version": "1.2.0",
            "_view_name": "StyleView",
            "description_width": ""
          }
        },
        "a5694d8f9eda43ae8f4a5e9e35c3329d": {
          "model_module": "@jupyter-widgets/base",
          "model_name": "LayoutModel",
          "model_module_version": "1.2.0",
          "state": {
            "_model_module": "@jupyter-widgets/base",
            "_model_module_version": "1.2.0",
            "_model_name": "LayoutModel",
            "_view_count": null,
            "_view_module": "@jupyter-widgets/base",
            "_view_module_version": "1.2.0",
            "_view_name": "LayoutView",
            "align_content": null,
            "align_items": null,
            "align_self": null,
            "border": null,
            "bottom": null,
            "display": null,
            "flex": null,
            "flex_flow": null,
            "grid_area": null,
            "grid_auto_columns": null,
            "grid_auto_flow": null,
            "grid_auto_rows": null,
            "grid_column": null,
            "grid_gap": null,
            "grid_row": null,
            "grid_template_areas": null,
            "grid_template_columns": null,
            "grid_template_rows": null,
            "height": null,
            "justify_content": null,
            "justify_items": null,
            "left": null,
            "margin": null,
            "max_height": null,
            "max_width": null,
            "min_height": null,
            "min_width": null,
            "object_fit": null,
            "object_position": null,
            "order": null,
            "overflow": null,
            "overflow_x": null,
            "overflow_y": null,
            "padding": null,
            "right": null,
            "top": null,
            "visibility": null,
            "width": null
          }
        },
        "11d00f269b2c468089450f71a77aa449": {
          "model_module": "@jupyter-widgets/controls",
          "model_name": "ProgressStyleModel",
          "model_module_version": "1.5.0",
          "state": {
            "_model_module": "@jupyter-widgets/controls",
            "_model_module_version": "1.5.0",
            "_model_name": "ProgressStyleModel",
            "_view_count": null,
            "_view_module": "@jupyter-widgets/base",
            "_view_module_version": "1.2.0",
            "_view_name": "StyleView",
            "bar_color": null,
            "description_width": ""
          }
        },
        "6485f5d7be74460a95a5c2c250a87812": {
          "model_module": "@jupyter-widgets/base",
          "model_name": "LayoutModel",
          "model_module_version": "1.2.0",
          "state": {
            "_model_module": "@jupyter-widgets/base",
            "_model_module_version": "1.2.0",
            "_model_name": "LayoutModel",
            "_view_count": null,
            "_view_module": "@jupyter-widgets/base",
            "_view_module_version": "1.2.0",
            "_view_name": "LayoutView",
            "align_content": null,
            "align_items": null,
            "align_self": null,
            "border": null,
            "bottom": null,
            "display": null,
            "flex": null,
            "flex_flow": null,
            "grid_area": null,
            "grid_auto_columns": null,
            "grid_auto_flow": null,
            "grid_auto_rows": null,
            "grid_column": null,
            "grid_gap": null,
            "grid_row": null,
            "grid_template_areas": null,
            "grid_template_columns": null,
            "grid_template_rows": null,
            "height": null,
            "justify_content": null,
            "justify_items": null,
            "left": null,
            "margin": null,
            "max_height": null,
            "max_width": null,
            "min_height": null,
            "min_width": null,
            "object_fit": null,
            "object_position": null,
            "order": null,
            "overflow": null,
            "overflow_x": null,
            "overflow_y": null,
            "padding": null,
            "right": null,
            "top": null,
            "visibility": null,
            "width": null
          }
        },
        "01e449f6121a47299edaddf45694c74b": {
          "model_module": "@jupyter-widgets/controls",
          "model_name": "DescriptionStyleModel",
          "model_module_version": "1.5.0",
          "state": {
            "_model_module": "@jupyter-widgets/controls",
            "_model_module_version": "1.5.0",
            "_model_name": "DescriptionStyleModel",
            "_view_count": null,
            "_view_module": "@jupyter-widgets/base",
            "_view_module_version": "1.2.0",
            "_view_name": "StyleView",
            "description_width": ""
          }
        }
      }
    }
  },
  "cells": [
    {
      "cell_type": "markdown",
      "source": [
        "### [1] 패키지 불러오기"
      ],
      "metadata": {
        "id": "olTh-HqYkDNN"
      }
    },
    {
      "cell_type": "code",
      "execution_count": 1,
      "metadata": {
        "id": "R_nEsMpBAZMc"
      },
      "outputs": [],
      "source": [
        "import os\n",
        "import json\n",
        "import torch\n",
        "import torch.nn as nn\n",
        "import torch.nn.functional as F\n",
        "import timm\n",
        "from torch.utils.data import DataLoader, Dataset\n",
        "from torchvision import transforms\n",
        "import torch.optim as optim\n",
        "from torch.optim import lr_scheduler\n",
        "from PIL import Image"
      ]
    },
    {
      "cell_type": "markdown",
      "source": [
        "### [2] Data transform 정의"
      ],
      "metadata": {
        "id": "12Zt6q1jkFct"
      }
    },
    {
      "cell_type": "code",
      "source": [
        "import torchvision.transforms as transforms\n",
        "\n",
        "# 이미지 전처리\n",
        "size = [230, 230]\n",
        "center_size = [224, 224]\n",
        "\n",
        "TrainTransform = transforms.Compose([\n",
        "    transforms.Resize(size),\n",
        "    transforms.CenterCrop(center_size),\n",
        "    transforms.RandomRotation(20),\n",
        "    transforms.RandomHorizontalFlip(),\n",
        "    transforms.RandomVerticalFlip(),\n",
        "    transforms.ColorJitter(brightness=0.25, contrast=0.25, saturation=0.25, hue=0.02),\n",
        "    transforms.ToTensor(),\n",
        "    transforms.Normalize(mean=[0.485, 0.456, 0.406], std=[0.229, 0.224, 0.225])\n",
        "])\n",
        "\n",
        "ValidTransform = transforms.Compose([\n",
        "    transforms.Resize(size),\n",
        "    transforms.CenterCrop(center_size),\n",
        "    transforms.ToTensor(),\n",
        "    transforms.Normalize(mean=[0.485, 0.456, 0.406], std=[0.229, 0.224, 0.225])\n",
        "])"
      ],
      "metadata": {
        "id": "lJFgTMKZj7CV"
      },
      "execution_count": 2,
      "outputs": []
    },
    {
      "cell_type": "markdown",
      "source": [
        "### [3] 구글 드라이브 연동"
      ],
      "metadata": {
        "id": "jbELc48IkJSE"
      }
    },
    {
      "cell_type": "code",
      "source": [
        "from google.colab import drive\n",
        "drive.mount('/content/drive')"
      ],
      "metadata": {
        "colab": {
          "base_uri": "https://localhost:8080/"
        },
        "id": "ECDaDDdJj72t",
        "outputId": "fa3dae2f-7b19-434d-b8d7-a73581f2458a"
      },
      "execution_count": 3,
      "outputs": [
        {
          "output_type": "stream",
          "name": "stdout",
          "text": [
            "Mounted at /content/drive\n"
          ]
        }
      ]
    },
    {
      "cell_type": "markdown",
      "source": [
        "### [4] MultimodalEyeDataset 클래스 + thickness"
      ],
      "metadata": {
        "id": "D98JM-a0k6ga"
      }
    },
    {
      "cell_type": "code",
      "source": [
        "class MultimodalEyeDataset(Dataset):\n",
        "    def __init__(self, data, image_path, transform=None):\n",
        "        self.data = data\n",
        "        self.image_path = image_path\n",
        "        self.transform = transform\n",
        "\n",
        "    def __len__(self):\n",
        "        return len(self.data)\n",
        "\n",
        "    def __getitem__(self, idx):\n",
        "        item = self.data[idx]\n",
        "\n",
        "        # 이미지 불러오기\n",
        "        left_img = Image.open(os.path.join(self.image_path, item['left_eye'])).convert('RGB')\n",
        "        right_img = Image.open(os.path.join(self.image_path, item['right_eye'])).convert('RGB')\n",
        "\n",
        "        if self.transform:\n",
        "            left_img = self.transform(left_img)\n",
        "            right_img = self.transform(right_img)\n",
        "\n",
        "        # 성별 one-hot 인코딩 + 정규화된 나이\n",
        "        norm_age = torch.tensor(item['age'], dtype=torch.float32)\n",
        "        gender = item['gender']\n",
        "        gender_one_hot = torch.tensor([1, 0], dtype=torch.float32) if gender == 0 else torch.tensor([0, 1], dtype=torch.float32)\n",
        "        clinical = torch.cat([norm_age.unsqueeze(0), gender_one_hot])  # shape: [3]\n",
        "\n",
        "        label = torch.tensor(item['label'], dtype=torch.long)\n",
        "        thickness = torch.tensor(item['thickness'], dtype=torch.float32)  # 회귀용 추가\n",
        "\n",
        "        return left_img, right_img, clinical, label, thickness\n",
        "\n",
        "    @classmethod\n",
        "    def from_json(cls, json_file, image_path, group_value=1, include_0_9mm=True, transform=None):\n",
        "        with open(json_file, 'r') as f:\n",
        "            raw_data = json.load(f)\n",
        "\n",
        "        usable_data = [\n",
        "            item for item in raw_data.values()\n",
        "            if item['group'] == group_value and (include_0_9mm or item['thickness'] != 0.9)\n",
        "        ]\n",
        "\n",
        "        print(f\"usable multimodal samples for group {group_value}: {len(usable_data)}\")\n",
        "        return cls(usable_data, image_path, transform)\n"
      ],
      "metadata": {
        "id": "D2LsYJEOkNuh"
      },
      "execution_count": 4,
      "outputs": []
    },
    {
      "cell_type": "markdown",
      "source": [
        "### [5] train_loader, val_loader, test_loader 구성"
      ],
      "metadata": {
        "id": "O5z6U39Ulajf"
      }
    },
    {
      "cell_type": "code",
      "source": [
        "# 경로 설정\n",
        "json_file = '/content/drive/MyDrive/cv_project/dataset/data_info.json'\n",
        "image_path = '/content/drive/MyDrive/cv_project/dataset/train_images/Fundus_CIMT_2903 Dataset'\n",
        "\n",
        "# 학습용 데이터셋 (group 1)\n",
        "train_dataset = MultimodalEyeDataset.from_json(\n",
        "    json_file=json_file,\n",
        "    image_path=image_path,\n",
        "    group_value=1,\n",
        "    include_0_9mm=True,\n",
        "    transform=TrainTransform\n",
        ")\n",
        "\n",
        "# 검증용 데이터셋 (group 2)\n",
        "val_dataset = MultimodalEyeDataset.from_json(\n",
        "    json_file=json_file,\n",
        "    image_path=image_path,\n",
        "    group_value=2,\n",
        "    include_0_9mm=True,\n",
        "    transform=ValidTransform\n",
        ")\n",
        "\n",
        "# 테스트용 데이터셋 (group 3)\n",
        "test_dataset = MultimodalEyeDataset.from_json(\n",
        "    json_file=json_file,\n",
        "    image_path=image_path,\n",
        "    group_value=3,\n",
        "    include_0_9mm=True,\n",
        "    transform=ValidTransform\n",
        ")\n",
        "\n",
        "from torch.utils.data import DataLoader\n",
        "\n",
        "# 최적화 설정: num_workers=2, pin_memory=True\n",
        "train_loader = DataLoader(train_dataset, batch_size=16, shuffle=True, num_workers=2, pin_memory=True)\n",
        "val_loader = DataLoader(val_dataset, batch_size=16, shuffle=False, num_workers=2, pin_memory=True)\n",
        "test_loader = DataLoader(test_dataset, batch_size=16, shuffle=False, num_workers=2, pin_memory=True)\n"
      ],
      "metadata": {
        "colab": {
          "base_uri": "https://localhost:8080/"
        },
        "id": "iLNXD0p9lKPW",
        "outputId": "102801c7-a535-48b8-cd59-dbe5a8b32286"
      },
      "execution_count": 5,
      "outputs": [
        {
          "output_type": "stream",
          "name": "stdout",
          "text": [
            "usable multimodal samples for group 1: 2603\n",
            "usable multimodal samples for group 2: 200\n",
            "usable multimodal samples for group 3: 100\n"
          ]
        }
      ]
    },
    {
      "cell_type": "markdown",
      "source": [
        "### [6] Multimodal 모델 클래스 정의"
      ],
      "metadata": {
        "id": "uJZlNXI3mLbo"
      }
    },
    {
      "cell_type": "code",
      "source": [
        "import torch\n",
        "import torch.nn as nn\n",
        "import timm\n",
        "\n",
        "class MultimodalModel(nn.Module):\n",
        "    def __init__(self, dropout_p=0.3):\n",
        "        super(MultimodalModel, self).__init__()\n",
        "\n",
        "        # 이미지 백본\n",
        "        self.backbone = timm.create_model(\n",
        "            'seresnext50_32x4d.racm_in1k',\n",
        "            pretrained=True,\n",
        "            num_classes=0\n",
        "        )\n",
        "        self.dropout = nn.Dropout(dropout_p)\n",
        "\n",
        "        # 임상정보 FC: 3차원 → 128차원 임베딩\n",
        "        self.clinical_fc = nn.Sequential(\n",
        "            nn.Linear(3, 128),\n",
        "            nn.ReLU(),\n",
        "            nn.Dropout(dropout_p)\n",
        "        )\n",
        "\n",
        "        # 최종 융합된 특성 차원 = 이미지(2048x2) + 임상(128) = 4224\n",
        "\n",
        "        # 분류 헤드\n",
        "        self.classifier = nn.Sequential(\n",
        "            nn.Linear(4224, 512),\n",
        "            nn.ReLU(),\n",
        "            nn.Dropout(dropout_p),\n",
        "            nn.Linear(512, 2)  # 클래스 2개 (Normal / Thickened)\n",
        "        )\n",
        "\n",
        "        # 회귀 헤드 (thickness 예측)\n",
        "        self.regressor = nn.Sequential(\n",
        "            nn.Linear(4224, 512),\n",
        "            nn.ReLU(),\n",
        "            nn.Dropout(dropout_p),\n",
        "            nn.Linear(512, 1)  # 연속값 예측\n",
        "        )\n",
        "\n",
        "    def forward(self, left, right, clinical):\n",
        "        # 이미지 feature 추출\n",
        "        left_feat = self.backbone(left)   # (B, 2048)\n",
        "        right_feat = self.backbone(right) # (B, 2048)\n",
        "        image_feat = torch.cat([left_feat, right_feat], dim=1)  # (B, 4096)\n",
        "        image_feat = self.dropout(image_feat)\n",
        "\n",
        "        # 임상정보 임베딩\n",
        "        clinical_feat = self.clinical_fc(clinical)  # (B, 128)\n",
        "\n",
        "        # 이미지 + 임상 융합\n",
        "        fused = torch.cat([image_feat, clinical_feat], dim=1)  # (B, 4224)\n",
        "\n",
        "        # 분류 및 회귀 동시 출력\n",
        "        out_cls = self.classifier(fused)     # (B, 2)\n",
        "        out_reg = self.regressor(fused)      # (B, 1)\n",
        "\n",
        "        return out_cls, out_reg\n"
      ],
      "metadata": {
        "id": "n64ooQ6DmGyE"
      },
      "execution_count": 6,
      "outputs": []
    },
    {
      "cell_type": "markdown",
      "source": [
        "### [7] FocalLoss 클래스 정의"
      ],
      "metadata": {
        "id": "yBhZX3GfoPPs"
      }
    },
    {
      "cell_type": "code",
      "source": [
        "class FocalLoss(nn.Module):\n",
        "    def __init__(self, alpha=1, gamma=2, reduction='mean'):\n",
        "        super(FocalLoss, self).__init__()\n",
        "        self.alpha = alpha\n",
        "        self.gamma = gamma\n",
        "        self.reduction = reduction\n",
        "        self.ce = nn.CrossEntropyLoss(reduction='none')\n",
        "\n",
        "    def forward(self, inputs, targets):\n",
        "        ce_loss = self.ce(inputs, targets)\n",
        "        pt = torch.exp(-ce_loss)\n",
        "        focal_loss = self.alpha * (1 - pt) ** self.gamma * ce_loss\n",
        "        return focal_loss.mean() if self.reduction == 'mean' else focal_loss.sum()\n"
      ],
      "metadata": {
        "id": "mtqto7VknYtH"
      },
      "execution_count": 7,
      "outputs": []
    },
    {
      "cell_type": "markdown",
      "source": [
        "### [8] 학습 루프"
      ],
      "metadata": {
        "id": "dZb38SPKuD3l"
      }
    },
    {
      "cell_type": "code",
      "source": [
        "import torch.nn.functional as F\n",
        "from torch import nn\n",
        "import json\n",
        "\n",
        "# 디바이스 설정\n",
        "device = torch.device(\"cuda\" if torch.cuda.is_available() else \"cpu\")\n",
        "\n",
        "# 손실 함수 정의\n",
        "criterion_cls = FocalLoss()\n",
        "criterion_reg = nn.MSELoss()\n",
        "lambda_reg = 1.0\n",
        "\n",
        "# 모델 초기화\n",
        "model = MultimodalModel().to(device)\n",
        "\n",
        "# 옵티마이저 및 스케줄러\n",
        "optimizer = optim.AdamW(model.parameters(), lr=2.5e-3, weight_decay=1e-4)\n",
        "scheduler = lr_scheduler.StepLR(optimizer, step_size=20, gamma=0.1)\n",
        "\n",
        "# 학습 설정\n",
        "epochs = 50\n",
        "best_val_loss = float('inf')\n",
        "\n",
        "# 손실 기록 리스트\n",
        "train_cls_losses = []\n",
        "train_reg_losses = []\n",
        "train_total_losses = []\n",
        "val_cls_losses = []\n",
        "val_reg_losses = []\n",
        "val_total_losses = []\n",
        "\n",
        "# 학습 루프\n",
        "for epoch in range(epochs):\n",
        "    model.train()\n",
        "    running_cls_loss = 0.0\n",
        "    running_reg_loss = 0.0\n",
        "    running_total_loss = 0.0\n",
        "\n",
        "    for left, right, clinical, labels, thicknesses in train_loader:\n",
        "        left, right = left.to(device), right.to(device)\n",
        "        clinical = clinical.to(device)\n",
        "        labels = labels.to(device)\n",
        "        thicknesses = thicknesses.to(device)\n",
        "\n",
        "        optimizer.zero_grad()\n",
        "        outputs_cls, outputs_reg = model(left, right, clinical)\n",
        "\n",
        "        loss_cls = criterion_cls(outputs_cls, labels)\n",
        "        loss_reg = criterion_reg(outputs_reg.squeeze(), thicknesses)\n",
        "        loss = loss_cls + lambda_reg * loss_reg\n",
        "\n",
        "        loss.backward()\n",
        "        optimizer.step()\n",
        "\n",
        "        running_cls_loss += loss_cls.item()\n",
        "        running_reg_loss += loss_reg.item()\n",
        "        running_total_loss += loss.item()\n",
        "\n",
        "    avg_train_cls = running_cls_loss / len(train_loader)\n",
        "    avg_train_reg = running_reg_loss / len(train_loader)\n",
        "    avg_train_total = running_total_loss / len(train_loader)\n",
        "\n",
        "    train_cls_losses.append(avg_train_cls)\n",
        "    train_reg_losses.append(avg_train_reg)\n",
        "    train_total_losses.append(avg_train_total)\n",
        "\n",
        "    # Validation\n",
        "    model.eval()\n",
        "    val_cls_loss = 0.0\n",
        "    val_reg_loss = 0.0\n",
        "    val_total_loss = 0.0\n",
        "    correct = 0\n",
        "    total = 0\n",
        "\n",
        "    with torch.no_grad():\n",
        "        for left, right, clinical, labels, thicknesses in val_loader:\n",
        "            left, right = left.to(device), right.to(device)\n",
        "            clinical = clinical.to(device)\n",
        "            labels = labels.to(device)\n",
        "            thicknesses = thicknesses.to(device)\n",
        "\n",
        "            outputs_cls, outputs_reg = model(left, right, clinical)\n",
        "\n",
        "            loss_cls = criterion_cls(outputs_cls, labels)\n",
        "            loss_reg = criterion_reg(outputs_reg.squeeze(), thicknesses)\n",
        "            loss = loss_cls + lambda_reg * loss_reg\n",
        "\n",
        "            val_cls_loss += loss_cls.item()\n",
        "            val_reg_loss += loss_reg.item()\n",
        "            val_total_loss += loss.item()\n",
        "\n",
        "            preds = torch.argmax(outputs_cls, dim=1)\n",
        "            correct += (preds == labels).sum().item()\n",
        "            total += labels.size(0)\n",
        "\n",
        "    avg_val_cls = val_cls_loss / len(val_loader)\n",
        "    avg_val_reg = val_reg_loss / len(val_loader)\n",
        "    avg_val_total = val_total_loss / len(val_loader)\n",
        "    val_accuracy = correct / total\n",
        "\n",
        "    val_cls_losses.append(avg_val_cls)\n",
        "    val_reg_losses.append(avg_val_reg)\n",
        "    val_total_losses.append(avg_val_total)\n",
        "\n",
        "    scheduler.step()\n",
        "\n",
        "    # Best 모델 저장\n",
        "    if avg_val_total < best_val_loss:\n",
        "        best_val_loss = avg_val_total\n",
        "        torch.save(model.state_dict(), '/content/drive/MyDrive/cv_project/02multimodal/best_multimodal_multitask_2.5e-3.pth')\n",
        "        print(f\"Best model updated at epoch {epoch+1} (Val Total Loss: {best_val_loss:.4f})\")\n",
        "\n",
        "    # 로그 출력\n",
        "    print(f\"Epoch {epoch+1}/{epochs} | \"\n",
        "          f\"Train: [Cls: {avg_train_cls:.4f} | Reg: {avg_train_reg:.4f} | Total: {avg_train_total:.4f}] \"\n",
        "          f\"| Val: [Cls: {avg_val_cls:.4f} | Reg: {avg_val_reg:.4f} | Total: {avg_val_total:.4f}] \"\n",
        "          f\"| Val Acc: {val_accuracy:.4f} | LR: {scheduler.get_last_lr()[0]:.6f}\")\n"
      ],
      "metadata": {
        "colab": {
          "base_uri": "https://localhost:8080/",
          "height": 1000,
          "referenced_widgets": [
            "ec5ca02127344ac08dd5feea1c1e6beb",
            "817ea531247d42ac852375388f7dcb89",
            "f378e690eee745868f84e684f71dd9e0",
            "0e7f40fe6fae45b68f8905d1f6bb4c91",
            "9e640d92ba934d63ae3f5447263dd47c",
            "bea964aa108347a9a467f64646521e56",
            "41170abb450a409d990594db295a0bb2",
            "a5694d8f9eda43ae8f4a5e9e35c3329d",
            "11d00f269b2c468089450f71a77aa449",
            "6485f5d7be74460a95a5c2c250a87812",
            "01e449f6121a47299edaddf45694c74b"
          ]
        },
        "id": "kYDR1bytonzi",
        "outputId": "6b6f4529-d585-4cef-80f8-85967f98a8ac"
      },
      "execution_count": 8,
      "outputs": [
        {
          "output_type": "stream",
          "name": "stderr",
          "text": [
            "/usr/local/lib/python3.11/dist-packages/huggingface_hub/utils/_auth.py:94: UserWarning: \n",
            "The secret `HF_TOKEN` does not exist in your Colab secrets.\n",
            "To authenticate with the Hugging Face Hub, create a token in your settings tab (https://huggingface.co/settings/tokens), set it as secret in your Google Colab and restart your session.\n",
            "You will be able to reuse this secret in all of your notebooks.\n",
            "Please note that authentication is recommended but still optional to access public models or datasets.\n",
            "  warnings.warn(\n"
          ]
        },
        {
          "output_type": "display_data",
          "data": {
            "text/plain": [
              "model.safetensors:   0%|          | 0.00/111M [00:00<?, ?B/s]"
            ],
            "application/vnd.jupyter.widget-view+json": {
              "version_major": 2,
              "version_minor": 0,
              "model_id": "ec5ca02127344ac08dd5feea1c1e6beb"
            }
          },
          "metadata": {}
        },
        {
          "output_type": "stream",
          "name": "stdout",
          "text": [
            "Best model updated at epoch 1 (Val Total Loss: 0.2235)\n",
            "Epoch 1/50 | Train: [Cls: 0.1349 | Reg: 0.6392 | Total: 0.7742] | Val: [Cls: 0.1729 | Reg: 0.0507 | Total: 0.2235] | Val Acc: 0.7050 | LR: 0.002500\n",
            "Best model updated at epoch 2 (Val Total Loss: 0.1957)\n",
            "Epoch 2/50 | Train: [Cls: 0.1168 | Reg: 0.2037 | Total: 0.3205] | Val: [Cls: 0.1575 | Reg: 0.0383 | Total: 0.1957] | Val Acc: 0.6300 | LR: 0.002500\n",
            "Epoch 3/50 | Train: [Cls: 0.1146 | Reg: 0.1348 | Total: 0.2494] | Val: [Cls: 0.1663 | Reg: 0.0348 | Total: 0.2011] | Val Acc: 0.7050 | LR: 0.002500\n",
            "Best model updated at epoch 4 (Val Total Loss: 0.1862)\n",
            "Epoch 4/50 | Train: [Cls: 0.1123 | Reg: 0.0644 | Total: 0.1766] | Val: [Cls: 0.1576 | Reg: 0.0286 | Total: 0.1862] | Val Acc: 0.6900 | LR: 0.002500\n",
            "Epoch 5/50 | Train: [Cls: 0.1130 | Reg: 0.0496 | Total: 0.1626] | Val: [Cls: 0.1586 | Reg: 0.0314 | Total: 0.1900] | Val Acc: 0.6650 | LR: 0.002500\n",
            "Best model updated at epoch 6 (Val Total Loss: 0.1802)\n",
            "Epoch 6/50 | Train: [Cls: 0.1131 | Reg: 0.0406 | Total: 0.1537] | Val: [Cls: 0.1501 | Reg: 0.0301 | Total: 0.1802] | Val Acc: 0.6850 | LR: 0.002500\n",
            "Best model updated at epoch 7 (Val Total Loss: 0.1617)\n",
            "Epoch 7/50 | Train: [Cls: 0.1119 | Reg: 0.0341 | Total: 0.1460] | Val: [Cls: 0.1318 | Reg: 0.0300 | Total: 0.1617] | Val Acc: 0.7800 | LR: 0.002500\n",
            "Epoch 8/50 | Train: [Cls: 0.1130 | Reg: 0.0293 | Total: 0.1423] | Val: [Cls: 0.1398 | Reg: 0.0314 | Total: 0.1711] | Val Acc: 0.7400 | LR: 0.002500\n",
            "Epoch 9/50 | Train: [Cls: 0.1111 | Reg: 0.0278 | Total: 0.1389] | Val: [Cls: 0.1390 | Reg: 0.0340 | Total: 0.1730] | Val Acc: 0.7350 | LR: 0.002500\n",
            "Epoch 10/50 | Train: [Cls: 0.1116 | Reg: 0.0275 | Total: 0.1391] | Val: [Cls: 0.1516 | Reg: 0.0366 | Total: 0.1882] | Val Acc: 0.7200 | LR: 0.002500\n",
            "Epoch 11/50 | Train: [Cls: 0.1112 | Reg: 0.0272 | Total: 0.1384] | Val: [Cls: 0.1477 | Reg: 0.0357 | Total: 0.1834] | Val Acc: 0.7300 | LR: 0.002500\n",
            "Epoch 12/50 | Train: [Cls: 0.1103 | Reg: 0.0274 | Total: 0.1377] | Val: [Cls: 0.1273 | Reg: 0.0362 | Total: 0.1635] | Val Acc: 0.7650 | LR: 0.002500\n",
            "Epoch 13/50 | Train: [Cls: 0.1109 | Reg: 0.0266 | Total: 0.1375] | Val: [Cls: 0.1816 | Reg: 0.0357 | Total: 0.2173] | Val Acc: 0.6750 | LR: 0.002500\n",
            "Epoch 14/50 | Train: [Cls: 0.1125 | Reg: 0.0266 | Total: 0.1391] | Val: [Cls: 0.1586 | Reg: 0.0361 | Total: 0.1947] | Val Acc: 0.7050 | LR: 0.002500\n",
            "Epoch 15/50 | Train: [Cls: 0.1108 | Reg: 0.0262 | Total: 0.1370] | Val: [Cls: 0.1471 | Reg: 0.0367 | Total: 0.1839] | Val Acc: 0.6850 | LR: 0.002500\n",
            "Epoch 16/50 | Train: [Cls: 0.1107 | Reg: 0.0257 | Total: 0.1364] | Val: [Cls: 0.1437 | Reg: 0.0343 | Total: 0.1780] | Val Acc: 0.7000 | LR: 0.002500\n",
            "Epoch 17/50 | Train: [Cls: 0.1126 | Reg: 0.0256 | Total: 0.1382] | Val: [Cls: 0.1606 | Reg: 0.0348 | Total: 0.1954] | Val Acc: 0.6750 | LR: 0.002500\n",
            "Epoch 18/50 | Train: [Cls: 0.1114 | Reg: 0.0256 | Total: 0.1370] | Val: [Cls: 0.1641 | Reg: 0.0338 | Total: 0.1979] | Val Acc: 0.6350 | LR: 0.002500\n",
            "Epoch 19/50 | Train: [Cls: 0.1114 | Reg: 0.0256 | Total: 0.1371] | Val: [Cls: 0.1499 | Reg: 0.0332 | Total: 0.1831] | Val Acc: 0.6500 | LR: 0.002500\n",
            "Epoch 20/50 | Train: [Cls: 0.1138 | Reg: 0.0255 | Total: 0.1393] | Val: [Cls: 0.1654 | Reg: 0.0347 | Total: 0.2001] | Val Acc: 0.7000 | LR: 0.000250\n",
            "Epoch 21/50 | Train: [Cls: 0.1094 | Reg: 0.0247 | Total: 0.1341] | Val: [Cls: 0.1547 | Reg: 0.0328 | Total: 0.1875] | Val Acc: 0.6850 | LR: 0.000250\n",
            "Epoch 22/50 | Train: [Cls: 0.1086 | Reg: 0.0254 | Total: 0.1340] | Val: [Cls: 0.1472 | Reg: 0.0299 | Total: 0.1772] | Val Acc: 0.7150 | LR: 0.000250\n",
            "Epoch 23/50 | Train: [Cls: 0.1085 | Reg: 0.0242 | Total: 0.1328] | Val: [Cls: 0.1566 | Reg: 0.0302 | Total: 0.1867] | Val Acc: 0.7000 | LR: 0.000250\n",
            "Epoch 24/50 | Train: [Cls: 0.1077 | Reg: 0.0240 | Total: 0.1317] | Val: [Cls: 0.1590 | Reg: 0.0305 | Total: 0.1895] | Val Acc: 0.6900 | LR: 0.000250\n",
            "Epoch 25/50 | Train: [Cls: 0.1087 | Reg: 0.0241 | Total: 0.1328] | Val: [Cls: 0.1546 | Reg: 0.0300 | Total: 0.1846] | Val Acc: 0.7000 | LR: 0.000250\n",
            "Epoch 26/50 | Train: [Cls: 0.1086 | Reg: 0.0237 | Total: 0.1323] | Val: [Cls: 0.1510 | Reg: 0.0297 | Total: 0.1807] | Val Acc: 0.7000 | LR: 0.000250\n",
            "Epoch 27/50 | Train: [Cls: 0.1070 | Reg: 0.0232 | Total: 0.1302] | Val: [Cls: 0.1524 | Reg: 0.0300 | Total: 0.1824] | Val Acc: 0.6850 | LR: 0.000250\n",
            "Epoch 28/50 | Train: [Cls: 0.1080 | Reg: 0.0236 | Total: 0.1317] | Val: [Cls: 0.1508 | Reg: 0.0305 | Total: 0.1812] | Val Acc: 0.6950 | LR: 0.000250\n",
            "Epoch 29/50 | Train: [Cls: 0.1079 | Reg: 0.0238 | Total: 0.1316] | Val: [Cls: 0.1550 | Reg: 0.0307 | Total: 0.1857] | Val Acc: 0.6950 | LR: 0.000250\n",
            "Epoch 30/50 | Train: [Cls: 0.1087 | Reg: 0.0239 | Total: 0.1326] | Val: [Cls: 0.1558 | Reg: 0.0308 | Total: 0.1866] | Val Acc: 0.6950 | LR: 0.000250\n",
            "Epoch 31/50 | Train: [Cls: 0.1076 | Reg: 0.0239 | Total: 0.1315] | Val: [Cls: 0.1525 | Reg: 0.0305 | Total: 0.1830] | Val Acc: 0.7100 | LR: 0.000250\n",
            "Epoch 32/50 | Train: [Cls: 0.1063 | Reg: 0.0235 | Total: 0.1298] | Val: [Cls: 0.1490 | Reg: 0.0308 | Total: 0.1798] | Val Acc: 0.7100 | LR: 0.000250\n",
            "Epoch 33/50 | Train: [Cls: 0.1072 | Reg: 0.0237 | Total: 0.1309] | Val: [Cls: 0.1585 | Reg: 0.0310 | Total: 0.1895] | Val Acc: 0.6800 | LR: 0.000250\n",
            "Epoch 34/50 | Train: [Cls: 0.1083 | Reg: 0.0231 | Total: 0.1314] | Val: [Cls: 0.1504 | Reg: 0.0292 | Total: 0.1796] | Val Acc: 0.7100 | LR: 0.000250\n",
            "Epoch 35/50 | Train: [Cls: 0.1071 | Reg: 0.0233 | Total: 0.1304] | Val: [Cls: 0.1597 | Reg: 0.0309 | Total: 0.1907] | Val Acc: 0.6850 | LR: 0.000250\n",
            "Epoch 36/50 | Train: [Cls: 0.1065 | Reg: 0.0234 | Total: 0.1299] | Val: [Cls: 0.1594 | Reg: 0.0308 | Total: 0.1902] | Val Acc: 0.6900 | LR: 0.000250\n",
            "Epoch 37/50 | Train: [Cls: 0.1071 | Reg: 0.0235 | Total: 0.1305] | Val: [Cls: 0.1486 | Reg: 0.0295 | Total: 0.1781] | Val Acc: 0.7100 | LR: 0.000250\n",
            "Epoch 38/50 | Train: [Cls: 0.1067 | Reg: 0.0229 | Total: 0.1297] | Val: [Cls: 0.1465 | Reg: 0.0292 | Total: 0.1757] | Val Acc: 0.7050 | LR: 0.000250\n",
            "Epoch 39/50 | Train: [Cls: 0.1066 | Reg: 0.0234 | Total: 0.1301] | Val: [Cls: 0.1556 | Reg: 0.0307 | Total: 0.1863] | Val Acc: 0.6900 | LR: 0.000250\n",
            "Epoch 40/50 | Train: [Cls: 0.1062 | Reg: 0.0231 | Total: 0.1292] | Val: [Cls: 0.1658 | Reg: 0.0320 | Total: 0.1978] | Val Acc: 0.6850 | LR: 0.000025\n",
            "Epoch 41/50 | Train: [Cls: 0.1080 | Reg: 0.0231 | Total: 0.1311] | Val: [Cls: 0.1573 | Reg: 0.0309 | Total: 0.1882] | Val Acc: 0.6900 | LR: 0.000025\n",
            "Epoch 42/50 | Train: [Cls: 0.1056 | Reg: 0.0229 | Total: 0.1285] | Val: [Cls: 0.1552 | Reg: 0.0305 | Total: 0.1856] | Val Acc: 0.6900 | LR: 0.000025\n",
            "Epoch 43/50 | Train: [Cls: 0.1063 | Reg: 0.0232 | Total: 0.1295] | Val: [Cls: 0.1558 | Reg: 0.0303 | Total: 0.1862] | Val Acc: 0.6950 | LR: 0.000025\n",
            "Epoch 44/50 | Train: [Cls: 0.1069 | Reg: 0.0231 | Total: 0.1300] | Val: [Cls: 0.1559 | Reg: 0.0306 | Total: 0.1865] | Val Acc: 0.6950 | LR: 0.000025\n",
            "Epoch 45/50 | Train: [Cls: 0.1066 | Reg: 0.0227 | Total: 0.1293] | Val: [Cls: 0.1554 | Reg: 0.0303 | Total: 0.1858] | Val Acc: 0.6950 | LR: 0.000025\n",
            "Epoch 46/50 | Train: [Cls: 0.1056 | Reg: 0.0227 | Total: 0.1283] | Val: [Cls: 0.1526 | Reg: 0.0303 | Total: 0.1829] | Val Acc: 0.6950 | LR: 0.000025\n",
            "Epoch 47/50 | Train: [Cls: 0.1070 | Reg: 0.0228 | Total: 0.1299] | Val: [Cls: 0.1507 | Reg: 0.0301 | Total: 0.1808] | Val Acc: 0.7050 | LR: 0.000025\n",
            "Epoch 48/50 | Train: [Cls: 0.1056 | Reg: 0.0228 | Total: 0.1284] | Val: [Cls: 0.1500 | Reg: 0.0299 | Total: 0.1798] | Val Acc: 0.7100 | LR: 0.000025\n",
            "Epoch 49/50 | Train: [Cls: 0.1067 | Reg: 0.0228 | Total: 0.1295] | Val: [Cls: 0.1523 | Reg: 0.0302 | Total: 0.1825] | Val Acc: 0.7000 | LR: 0.000025\n",
            "Epoch 50/50 | Train: [Cls: 0.1056 | Reg: 0.0225 | Total: 0.1281] | Val: [Cls: 0.1558 | Reg: 0.0303 | Total: 0.1860] | Val Acc: 0.6950 | LR: 0.000025\n"
          ]
        }
      ]
    },
    {
      "cell_type": "markdown",
      "source": [
        "### [9] 손실 json 파일 저장"
      ],
      "metadata": {
        "id": "Z2hyQYS99ZV3"
      }
    },
    {
      "cell_type": "code",
      "source": [
        "import json\n",
        "\n",
        "# 저장할 딕셔너리 생성\n",
        "loss_history = {\n",
        "    \"train_cls_loss\": train_cls_losses,\n",
        "    \"train_reg_loss\": train_reg_losses,\n",
        "    \"train_total_loss\": train_total_losses,\n",
        "    \"val_cls_loss\": val_cls_losses,\n",
        "    \"val_reg_loss\": val_reg_losses,\n",
        "    \"val_total_loss\": val_total_losses\n",
        "}\n",
        "\n",
        "# 저장 경로 설정\n",
        "save_path = \"/content/drive/MyDrive/cv_project/02multimodal/loss_history_multitask_2.5e-3.json\"\n",
        "\n",
        "# JSON 저장\n",
        "with open(save_path, \"w\") as f:\n",
        "    json.dump(loss_history, f, indent=2)\n",
        "\n",
        "print(f\"loss_history_multitask.json 저장 완료: {save_path}\")\n"
      ],
      "metadata": {
        "colab": {
          "base_uri": "https://localhost:8080/"
        },
        "id": "AzF-Gip4uquI",
        "outputId": "357b33a7-523b-4f0b-d9df-8cf382d08774"
      },
      "execution_count": 9,
      "outputs": [
        {
          "output_type": "stream",
          "name": "stdout",
          "text": [
            "loss_history_multitask.json 저장 완료: /content/drive/MyDrive/cv_project/02multimodal/loss_history_multitask_2.5e-3.json\n"
          ]
        }
      ]
    },
    {
      "cell_type": "markdown",
      "source": [
        "### [10] loss 그래프"
      ],
      "metadata": {
        "id": "AEv1wuGG9tR1"
      }
    },
    {
      "cell_type": "code",
      "source": [
        "import json\n",
        "import matplotlib.pyplot as plt\n",
        "\n",
        "# JSON 파일 경로 (멀티모달)\n",
        "load_path = '/content/drive/MyDrive/cv_project/02multimodal/loss_history_multitask_2.5e-3.json'\n",
        "\n",
        "# JSON 불러오기\n",
        "with open(load_path, 'r') as f:\n",
        "    loss_history = json.load(f)\n",
        "\n",
        "# 리스트 추출\n",
        "train_cls_losses = loss_history['train_cls_loss']\n",
        "train_reg_losses = loss_history['train_reg_loss']\n",
        "train_total_losses = loss_history['train_total_loss']\n",
        "val_cls_losses = loss_history['val_cls_loss']\n",
        "val_reg_losses = loss_history['val_reg_loss']\n",
        "val_total_losses = loss_history['val_total_loss']\n",
        "\n",
        "# 그래프 시각화\n",
        "plt.figure(figsize=(12, 6))\n",
        "plt.plot(train_cls_losses, label='Train Classification Loss', linestyle='--')\n",
        "plt.plot(train_reg_losses, label='Train Regression Loss', linestyle='--')\n",
        "plt.plot(train_total_losses, label='Train Total Loss', linestyle='--')\n",
        "\n",
        "plt.plot(val_cls_losses, label='Val Classification Loss')\n",
        "plt.plot(val_reg_losses, label='Val Regression Loss')\n",
        "plt.plot(val_total_losses, label='Val Total Loss')\n",
        "\n",
        "plt.xlabel('Epoch')\n",
        "plt.ylabel('Loss')\n",
        "plt.title('Multi-task Loss Trends (Multimodal)')\n",
        "plt.legend()\n",
        "plt.grid(True)\n",
        "plt.tight_layout()\n",
        "plt.show()\n"
      ],
      "metadata": {
        "colab": {
          "base_uri": "https://localhost:8080/",
          "height": 607
        },
        "id": "CdQezL-59j0L",
        "outputId": "38651bec-f70f-44a9-903f-c339bdc80783"
      },
      "execution_count": 13,
      "outputs": [
        {
          "output_type": "display_data",
          "data": {
            "text/plain": [
              "<Figure size 1200x600 with 1 Axes>"
            ],
            "image/png": "[encoded data removed]"
          },
          "metadata": {}
        }
      ]
    },
    {
      "cell_type": "markdown",
      "source": [
        "### [11] 예측 수행"
      ],
      "metadata": {
        "id": "19Cnhcsc-hH6"
      }
    },
    {
      "cell_type": "code",
      "source": [
        "import torch\n",
        "from tqdm import tqdm\n",
        "import json\n",
        "\n",
        "# 모델 로드\n",
        "model = MultimodalModel().to(device)\n",
        "model.load_state_dict(torch.load('/content/drive/MyDrive/cv_project/02multimodal/best_multimodal_multitask_2.5e-3.pth'))\n",
        "model.eval()\n",
        "\n",
        "# 예측 결과 저장 리스트\n",
        "results = []\n",
        "\n",
        "with torch.no_grad():\n",
        "    for left, right, clinical, labels, thicknesses in tqdm(test_loader, desc=\"Predicting\"):\n",
        "        left = left.to(device)\n",
        "        right = right.to(device)\n",
        "        clinical = clinical.to(device)\n",
        "\n",
        "        # 예측\n",
        "        outputs_cls, outputs_reg = model(left, right, clinical)\n",
        "        probs = torch.softmax(outputs_cls, dim=1)\n",
        "        preds = torch.argmax(probs, dim=1)\n",
        "        thickness_preds = outputs_reg.squeeze().cpu()\n",
        "\n",
        "        for true_label, pred_label, prob, true_thick, pred_thick in zip(\n",
        "            labels.cpu(), preds.cpu(), probs[:, 1].cpu(), thicknesses.cpu(), thickness_preds\n",
        "        ):\n",
        "            results.append({\n",
        "                \"true_label\": int(true_label.item()),\n",
        "                \"pred_label\": int(pred_label.item()),\n",
        "                \"prob_thickened\": float(prob.item()),  # class 1 확률\n",
        "                \"true_thickness\": float(true_thick.item()),\n",
        "                \"pred_thickness\": float(pred_thick.item())\n",
        "            })\n",
        "\n",
        "# 저장\n",
        "output_path = \"/content/drive/MyDrive/cv_project/02multimodal/predict_result_multitask_2.5e-3.json\"\n",
        "with open(output_path, \"w\") as f:\n",
        "    json.dump(results, f, indent=2)\n",
        "\n",
        "print(f\"예측 결과 저장 완료: {output_path}\")"
      ],
      "metadata": {
        "colab": {
          "base_uri": "https://localhost:8080/"
        },
        "id": "VHprP0kM9_WB",
        "outputId": "91c6fb8d-ef0e-4ed7-dcbb-adf090fc2aad"
      },
      "execution_count": 14,
      "outputs": [
        {
          "output_type": "stream",
          "name": "stderr",
          "text": [
            "Predicting: 100%|██████████| 7/7 [00:01<00:00,  3.67it/s]"
          ]
        },
        {
          "output_type": "stream",
          "name": "stdout",
          "text": [
            "예측 결과 저장 완료: /content/drive/MyDrive/cv_project/02multimodal/predict_result_multitask_2.5e-3.json\n"
          ]
        },
        {
          "output_type": "stream",
          "name": "stderr",
          "text": [
            "\n"
          ]
        }
      ]
    },
    {
      "cell_type": "markdown",
      "source": [
        "### [12] 평가"
      ],
      "metadata": {
        "id": "CkxO56c6-zO7"
      }
    },
    {
      "cell_type": "code",
      "source": [
        "import json\n",
        "import numpy as np\n",
        "from sklearn.metrics import (\n",
        "    roc_curve, roc_auc_score, classification_report, confusion_matrix,\n",
        "    mean_squared_error, mean_absolute_error, r2_score\n",
        ")\n",
        "import matplotlib.pyplot as plt\n",
        "\n",
        "# 예측 결과 불러오기\n",
        "with open(\"/content/drive/MyDrive/cv_project/02multimodal/predict_result_multitask_2.5e-3.json\", \"r\") as f:\n",
        "    results = json.load(f)\n",
        "\n",
        "# 분류 관련 데이터\n",
        "y_true = [r[\"true_label\"] for r in results]\n",
        "y_pred = [r[\"pred_label\"] for r in results]\n",
        "y_prob = [r[\"prob_thickened\"] for r in results]\n",
        "\n",
        "# 회귀 관련 데이터\n",
        "y_true_reg = [r[\"true_thickness\"] for r in results]\n",
        "y_pred_reg = [r[\"pred_thickness\"] for r in results]\n",
        "\n",
        "# === 분류 평가 === #\n",
        "fpr, tpr, _ = roc_curve(y_true, y_prob)\n",
        "auc_score = roc_auc_score(y_true, y_prob)\n",
        "accuracy = np.mean(np.array(y_true) == np.array(y_pred))\n",
        "\n",
        "print(\"[Classification Evaluation]\")\n",
        "print(f\"정확도 (Accuracy): {accuracy:.4f}\")\n",
        "print(f\"AUC-ROC: {auc_score:.4f}\")\n",
        "print(\"\\n분류 리포트:\")\n",
        "print(classification_report(y_true, y_pred, target_names=[\"Normal\", \"Thickened\"]))\n",
        "print(\"Confusion Matrix:\")\n",
        "print(confusion_matrix(y_true, y_pred))\n",
        "\n",
        "# === ROC Curve === #\n",
        "plt.figure(figsize=(6, 5))\n",
        "plt.plot(fpr, tpr, label=f\"AUC = {auc_score:.4f}\")\n",
        "plt.plot([0, 1], [0, 1], 'k--')\n",
        "plt.xlabel(\"False Positive Rate\")\n",
        "plt.ylabel(\"True Positive Rate\")\n",
        "plt.title(\"ROC Curve (Multitask Model)\")\n",
        "plt.legend()\n",
        "plt.grid(True)\n",
        "plt.tight_layout()\n",
        "plt.show()\n",
        "\n",
        "# === 회귀 평가 === #\n",
        "mse = mean_squared_error(y_true_reg, y_pred_reg)\n",
        "rmse = np.sqrt(mse)\n",
        "mae = mean_absolute_error(y_true_reg, y_pred_reg)\n",
        "r2 = r2_score(y_true_reg, y_pred_reg)\n",
        "\n",
        "print(\"\\n[Regression Evaluation]\")\n",
        "print(f\"RMSE: {rmse:.4f}\")\n",
        "print(f\"MAE:  {mae:.4f}\")\n",
        "print(f\"R²:   {r2:.4f}\")\n",
        "\n",
        "# === 회귀 산점도 === #\n",
        "plt.figure(figsize=(6, 5))\n",
        "plt.scatter(y_true_reg, y_pred_reg, alpha=0.6)\n",
        "plt.plot([min(y_true_reg), max(y_true_reg)], [min(y_true_reg), max(y_true_reg)], 'r--', label=\"Ideal\")\n",
        "plt.xlabel(\"True Thickness\")\n",
        "plt.ylabel(\"Predicted Thickness\")\n",
        "plt.title(\"Regression Prediction (Multitask Model)\")\n",
        "plt.legend()\n",
        "plt.grid(True)\n",
        "plt.tight_layout()\n",
        "plt.show()"
      ],
      "metadata": {
        "colab": {
          "base_uri": "https://localhost:8080/",
          "height": 1000
        },
        "id": "cKhZW8PS-nGb",
        "outputId": "2478cf1c-2642-43fd-f1ce-c2d9f1b3f3a1"
      },
      "execution_count": 15,
      "outputs": [
        {
          "output_type": "stream",
          "name": "stdout",
          "text": [
            "[Classification Evaluation]\n",
            "정확도 (Accuracy): 0.8000\n",
            "AUC-ROC: 0.9356\n",
            "\n",
            "분류 리포트:\n",
            "              precision    recall  f1-score   support\n",
            "\n",
            "      Normal       0.94      0.64      0.76        50\n",
            "   Thickened       0.73      0.96      0.83        50\n",
            "\n",
            "    accuracy                           0.80       100\n",
            "   macro avg       0.83      0.80      0.79       100\n",
            "weighted avg       0.83      0.80      0.79       100\n",
            "\n",
            "Confusion Matrix:\n",
            "[[32 18]\n",
            " [ 2 48]]\n"
          ]
        },
        {
          "output_type": "display_data",
          "data": {
            "text/plain": [
              "<Figure size 600x500 with 1 Axes>"
            ],
            "image/png": "[encoded data removed]"
          },
          "metadata": {}
        },
        {
          "output_type": "stream",
          "name": "stdout",
          "text": [
            "\n",
            "[Regression Evaluation]\n",
            "RMSE: 0.1426\n",
            "MAE:  0.1150\n",
            "R²:   0.4471\n"
          ]
        },
        {
          "output_type": "display_data",
          "data": {
            "text/plain": [
              "<Figure size 600x500 with 1 Axes>"
            ],
            "image/png": "[encoded data removed]"
          },
          "metadata": {}
        }
      ]
    },
    {
      "cell_type": "code",
      "source": [],
      "metadata": {
        "id": "-FwRXfBy_Lp-"
      },
      "execution_count": null,
      "outputs": []
    }
  ]
}