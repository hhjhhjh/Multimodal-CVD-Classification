{
  "nbformat": 4,
  "nbformat_minor": 0,
  "metadata": {
    "colab": {
      "provenance": [],
      "machine_shape": "hm",
      "gpuType": "A100"
    },
    "kernelspec": {
      "name": "python3",
      "display_name": "Python 3"
    },
    "language_info": {
      "name": "python"
    },
    "accelerator": "GPU",
    "widgets": {
      "application/vnd.jupyter.widget-state+json": {
        "c3005c34391e4185b60fbac7d38684f5": {
          "model_module": "@jupyter-widgets/controls",
          "model_name": "HBoxModel",
          "model_module_version": "1.5.0",
          "state": {
            "_dom_classes": [],
            "_model_module": "@jupyter-widgets/controls",
            "_model_module_version": "1.5.0",
            "_model_name": "HBoxModel",
            "_view_count": null,
            "_view_module": "@jupyter-widgets/controls",
            "_view_module_version": "1.5.0",
            "_view_name": "HBoxView",
            "box_style": "",
            "children": [
              "IPY_MODEL_71c6464834ed4f99904339a520d1ee71",
              "IPY_MODEL_fa3bd9aeb343497c94bac03468b2c963",
              "IPY_MODEL_2746e150f661472ba922dde71ce5f0ff"
            ],
            "layout": "IPY_MODEL_3b240d801b72497ba54f2a363e817365"
          }
        },
        "71c6464834ed4f99904339a520d1ee71": {
          "model_module": "@jupyter-widgets/controls",
          "model_name": "HTMLModel",
          "model_module_version": "1.5.0",
          "state": {
            "_dom_classes": [],
            "_model_module": "@jupyter-widgets/controls",
            "_model_module_version": "1.5.0",
            "_model_name": "HTMLModel",
            "_view_count": null,
            "_view_module": "@jupyter-widgets/controls",
            "_view_module_version": "1.5.0",
            "_view_name": "HTMLView",
            "description": "",
            "description_tooltip": null,
            "layout": "IPY_MODEL_4d5f1222d8934f369fc3975c9b452728",
            "placeholder": "​",
            "style": "IPY_MODEL_28c5a04d7f11476b8ad20740185663e3",
            "value": "model.safetensors: 100%"
          }
        },
        "fa3bd9aeb343497c94bac03468b2c963": {
          "model_module": "@jupyter-widgets/controls",
          "model_name": "FloatProgressModel",
          "model_module_version": "1.5.0",
          "state": {
            "_dom_classes": [],
            "_model_module": "@jupyter-widgets/controls",
            "_model_module_version": "1.5.0",
            "_model_name": "FloatProgressModel",
            "_view_count": null,
            "_view_module": "@jupyter-widgets/controls",
            "_view_module_version": "1.5.0",
            "_view_name": "ProgressView",
            "bar_style": "success",
            "description": "",
            "description_tooltip": null,
            "layout": "IPY_MODEL_b84600dc96d5452d846e8df97902bc66",
            "max": 110547680,
            "min": 0,
            "orientation": "horizontal",
            "style": "IPY_MODEL_ae83f0d55170412ebdf7d205b1448066",
            "value": 110547680
          }
        },
        "2746e150f661472ba922dde71ce5f0ff": {
          "model_module": "@jupyter-widgets/controls",
          "model_name": "HTMLModel",
          "model_module_version": "1.5.0",
          "state": {
            "_dom_classes": [],
            "_model_module": "@jupyter-widgets/controls",
            "_model_module_version": "1.5.0",
            "_model_name": "HTMLModel",
            "_view_count": null,
            "_view_module": "@jupyter-widgets/controls",
            "_view_module_version": "1.5.0",
            "_view_name": "HTMLView",
            "description": "",
            "description_tooltip": null,
            "layout": "IPY_MODEL_175f5a315a014220a32b1c3d2676dfb2",
            "placeholder": "​",
            "style": "IPY_MODEL_194c5cdca4264559ac4281d29ba350d7",
            "value": " 111M/111M [00:00&lt;00:00, 240MB/s]"
          }
        },
        "3b240d801b72497ba54f2a363e817365": {
          "model_module": "@jupyter-widgets/base",
          "model_name": "LayoutModel",
          "model_module_version": "1.2.0",
          "state": {
            "_model_module": "@jupyter-widgets/base",
            "_model_module_version": "1.2.0",
            "_model_name": "LayoutModel",
            "_view_count": null,
            "_view_module": "@jupyter-widgets/base",
            "_view_module_version": "1.2.0",
            "_view_name": "LayoutView",
            "align_content": null,
            "align_items": null,
            "align_self": null,
            "border": null,
            "bottom": null,
            "display": null,
            "flex": null,
            "flex_flow": null,
            "grid_area": null,
            "grid_auto_columns": null,
            "grid_auto_flow": null,
            "grid_auto_rows": null,
            "grid_column": null,
            "grid_gap": null,
            "grid_row": null,
            "grid_template_areas": null,
            "grid_template_columns": null,
            "grid_template_rows": null,
            "height": null,
            "justify_content": null,
            "justify_items": null,
            "left": null,
            "margin": null,
            "max_height": null,
            "max_width": null,
            "min_height": null,
            "min_width": null,
            "object_fit": null,
            "object_position": null,
            "order": null,
            "overflow": null,
            "overflow_x": null,
            "overflow_y": null,
            "padding": null,
            "right": null,
            "top": null,
            "visibility": null,
            "width": null
          }
        },
        "4d5f1222d8934f369fc3975c9b452728": {
          "model_module": "@jupyter-widgets/base",
          "model_name": "LayoutModel",
          "model_module_version": "1.2.0",
          "state": {
            "_model_module": "@jupyter-widgets/base",
            "_model_module_version": "1.2.0",
            "_model_name": "LayoutModel",
            "_view_count": null,
            "_view_module": "@jupyter-widgets/base",
            "_view_module_version": "1.2.0",
            "_view_name": "LayoutView",
            "align_content": null,
            "align_items": null,
            "align_self": null,
            "border": null,
            "bottom": null,
            "display": null,
            "flex": null,
            "flex_flow": null,
            "grid_area": null,
            "grid_auto_columns": null,
            "grid_auto_flow": null,
            "grid_auto_rows": null,
            "grid_column": null,
            "grid_gap": null,
            "grid_row": null,
            "grid_template_areas": null,
            "grid_template_columns": null,
            "grid_template_rows": null,
            "height": null,
            "justify_content": null,
            "justify_items": null,
            "left": null,
            "margin": null,
            "max_height": null,
            "max_width": null,
            "min_height": null,
            "min_width": null,
            "object_fit": null,
            "object_position": null,
            "order": null,
            "overflow": null,
            "overflow_x": null,
            "overflow_y": null,
            "padding": null,
            "right": null,
            "top": null,
            "visibility": null,
            "width": null
          }
        },
        "28c5a04d7f11476b8ad20740185663e3": {
          "model_module": "@jupyter-widgets/controls",
          "model_name": "DescriptionStyleModel",
          "model_module_version": "1.5.0",
          "state": {
            "_model_module": "@jupyter-widgets/controls",
            "_model_module_version": "1.5.0",
            "_model_name": "DescriptionStyleModel",
            "_view_count": null,
            "_view_module": "@jupyter-widgets/base",
            "_view_module_version": "1.2.0",
            "_view_name": "StyleView",
            "description_width": ""
          }
        },
        "b84600dc96d5452d846e8df97902bc66": {
          "model_module": "@jupyter-widgets/base",
          "model_name": "LayoutModel",
          "model_module_version": "1.2.0",
          "state": {
            "_model_module": "@jupyter-widgets/base",
            "_model_module_version": "1.2.0",
            "_model_name": "LayoutModel",
            "_view_count": null,
            "_view_module": "@jupyter-widgets/base",
            "_view_module_version": "1.2.0",
            "_view_name": "LayoutView",
            "align_content": null,
            "align_items": null,
            "align_self": null,
            "border": null,
            "bottom": null,
            "display": null,
            "flex": null,
            "flex_flow": null,
            "grid_area": null,
            "grid_auto_columns": null,
            "grid_auto_flow": null,
            "grid_auto_rows": null,
            "grid_column": null,
            "grid_gap": null,
            "grid_row": null,
            "grid_template_areas": null,
            "grid_template_columns": null,
            "grid_template_rows": null,
            "height": null,
            "justify_content": null,
            "justify_items": null,
            "left": null,
            "margin": null,
            "max_height": null,
            "max_width": null,
            "min_height": null,
            "min_width": null,
            "object_fit": null,
            "object_position": null,
            "order": null,
            "overflow": null,
            "overflow_x": null,
            "overflow_y": null,
            "padding": null,
            "right": null,
            "top": null,
            "visibility": null,
            "width": null
          }
        },
        "ae83f0d55170412ebdf7d205b1448066": {
          "model_module": "@jupyter-widgets/controls",
          "model_name": "ProgressStyleModel",
          "model_module_version": "1.5.0",
          "state": {
            "_model_module": "@jupyter-widgets/controls",
            "_model_module_version": "1.5.0",
            "_model_name": "ProgressStyleModel",
            "_view_count": null,
            "_view_module": "@jupyter-widgets/base",
            "_view_module_version": "1.2.0",
            "_view_name": "StyleView",
            "bar_color": null,
            "description_width": ""
          }
        },
        "175f5a315a014220a32b1c3d2676dfb2": {
          "model_module": "@jupyter-widgets/base",
          "model_name": "LayoutModel",
          "model_module_version": "1.2.0",
          "state": {
            "_model_module": "@jupyter-widgets/base",
            "_model_module_version": "1.2.0",
            "_model_name": "LayoutModel",
            "_view_count": null,
            "_view_module": "@jupyter-widgets/base",
            "_view_module_version": "1.2.0",
            "_view_name": "LayoutView",
            "align_content": null,
            "align_items": null,
            "align_self": null,
            "border": null,
            "bottom": null,
            "display": null,
            "flex": null,
            "flex_flow": null,
            "grid_area": null,
            "grid_auto_columns": null,
            "grid_auto_flow": null,
            "grid_auto_rows": null,
            "grid_column": null,
            "grid_gap": null,
            "grid_row": null,
            "grid_template_areas": null,
            "grid_template_columns": null,
            "grid_template_rows": null,
            "height": null,
            "justify_content": null,
            "justify_items": null,
            "left": null,
            "margin": null,
            "max_height": null,
            "max_width": null,
            "min_height": null,
            "min_width": null,
            "object_fit": null,
            "object_position": null,
            "order": null,
            "overflow": null,
            "overflow_x": null,
            "overflow_y": null,
            "padding": null,
            "right": null,
            "top": null,
            "visibility": null,
            "width": null
          }
        },
        "194c5cdca4264559ac4281d29ba350d7": {
          "model_module": "@jupyter-widgets/controls",
          "model_name": "DescriptionStyleModel",
          "model_module_version": "1.5.0",
          "state": {
            "_model_module": "@jupyter-widgets/controls",
            "_model_module_version": "1.5.0",
            "_model_name": "DescriptionStyleModel",
            "_view_count": null,
            "_view_module": "@jupyter-widgets/base",
            "_view_module_version": "1.2.0",
            "_view_name": "StyleView",
            "description_width": ""
          }
        }
      }
    }
  },
  "cells": [
    {
      "cell_type": "markdown",
      "source": [
        "### [1] 패키지 불러오기"
      ],
      "metadata": {
        "id": "fYe-STF4K0Nm"
      }
    },
    {
      "cell_type": "code",
      "execution_count": null,
      "metadata": {
        "id": "ZCliJVgDGqAr"
      },
      "outputs": [],
      "source": [
        "import os\n",
        "import json\n",
        "import torch\n",
        "import torch.nn as nn\n",
        "import torch.nn.functional as F\n",
        "import timm\n",
        "from torch.utils.data import DataLoader, Dataset\n",
        "from torchvision import transforms\n",
        "import torch.optim as optim\n",
        "from torch.optim import lr_scheduler\n",
        "from PIL import Image"
      ]
    },
    {
      "cell_type": "markdown",
      "source": [
        "### [2] Data transform 정의"
      ],
      "metadata": {
        "id": "fQHkazDQLWWZ"
      }
    },
    {
      "cell_type": "code",
      "source": [
        "import torchvision.transforms as transforms\n",
        "\n",
        "# 이미지 전처리\n",
        "size = [230, 230]\n",
        "center_size = [224, 224]\n",
        "\n",
        "TrainTransform = transforms.Compose([\n",
        "    transforms.Resize(size),\n",
        "    transforms.CenterCrop(center_size),\n",
        "    transforms.RandomRotation(20),\n",
        "    transforms.RandomHorizontalFlip(),\n",
        "    transforms.RandomVerticalFlip(),\n",
        "    transforms.ColorJitter(brightness=0.25, contrast=0.25, saturation=0.25, hue=0.02),\n",
        "    transforms.ToTensor(),\n",
        "    transforms.Normalize(mean=[0.485, 0.456, 0.406], std=[0.229, 0.224, 0.225])\n",
        "])\n",
        "\n",
        "ValidTransform = transforms.Compose([\n",
        "    transforms.Resize(size),\n",
        "    transforms.CenterCrop(center_size),\n",
        "    transforms.ToTensor(),\n",
        "    transforms.Normalize(mean=[0.485, 0.456, 0.406], std=[0.229, 0.224, 0.225])\n",
        "])\n"
      ],
      "metadata": {
        "id": "AYzstUPaK7l0"
      },
      "execution_count": null,
      "outputs": []
    },
    {
      "cell_type": "markdown",
      "source": [
        "### [3] 구글 드라이브 연동"
      ],
      "metadata": {
        "id": "d-YaiotiNJce"
      }
    },
    {
      "cell_type": "code",
      "source": [
        "from google.colab import drive\n",
        "drive.mount('/content/drive')"
      ],
      "metadata": {
        "colab": {
          "base_uri": "https://localhost:8080/"
        },
        "id": "_803JhzXOHOI",
        "outputId": "6d16c364-5ef7-4926-941c-c857a9b80b29"
      },
      "execution_count": null,
      "outputs": [
        {
          "output_type": "stream",
          "name": "stdout",
          "text": [
            "Mounted at /content/drive\n"
          ]
        }
      ]
    },
    {
      "cell_type": "markdown",
      "source": [
        "### [4] MultimodalEyeDataset 클래스 정의"
      ],
      "metadata": {
        "id": "h3tlIa-FP9cJ"
      }
    },
    {
      "cell_type": "code",
      "source": [
        "class MultimodalEyeDataset(Dataset):\n",
        "    def __init__(self, data, image_path, transform=None):\n",
        "        self.data = data\n",
        "        self.image_path = image_path\n",
        "        self.transform = transform\n",
        "\n",
        "    def __len__(self):\n",
        "        return len(self.data)\n",
        "\n",
        "    def __getitem__(self, idx):\n",
        "        item = self.data[idx]\n",
        "\n",
        "        # 이미지 불러오기\n",
        "        left_img = Image.open(os.path.join(self.image_path, item['left_eye'])).convert('RGB')\n",
        "        right_img = Image.open(os.path.join(self.image_path, item['right_eye'])).convert('RGB')\n",
        "\n",
        "        if self.transform:\n",
        "            left_img = self.transform(left_img)\n",
        "            right_img = self.transform(right_img)\n",
        "\n",
        "        # 임상정보: gender -> one-hot 인코딩, norm_age\n",
        "        norm_age = torch.tensor(item['age'], dtype=torch.float32)\n",
        "        gender = item['gender']  # 0 or 1\n",
        "        gender_one_hot = torch.tensor([1, 0], dtype=torch.float32) if gender == 0 else torch.tensor([0, 1], dtype=torch.float32)\n",
        "\n",
        "        clinical = torch.cat([norm_age.unsqueeze(0), gender_one_hot])  # shape: [3]\n",
        "\n",
        "        label = torch.tensor(item['label'], dtype=torch.long)\n",
        "\n",
        "        return left_img, right_img, clinical, label\n",
        "\n",
        "    @classmethod\n",
        "    def from_json(cls, json_file, image_path, group_value=1, include_0_9mm=True, transform=None):\n",
        "        with open(json_file, 'r') as f:\n",
        "            raw_data = json.load(f)\n",
        "\n",
        "        usable_data = [\n",
        "            item for item in raw_data.values()\n",
        "            if item['group'] == group_value and (include_0_9mm or item['thickness'] != 0.9)\n",
        "        ]\n",
        "\n",
        "        print(f\"usable multimodal samples for group {group_value}: {len(usable_data)}\")\n",
        "        return cls(usable_data, image_path, transform)\n"
      ],
      "metadata": {
        "id": "7DxmKDAgMmog"
      },
      "execution_count": null,
      "outputs": []
    },
    {
      "cell_type": "markdown",
      "source": [
        "### [5] train_loader, val_loader, test_loader 구성"
      ],
      "metadata": {
        "id": "0HJXHFF2RhKk"
      }
    },
    {
      "cell_type": "code",
      "source": [
        "# 경로 설정\n",
        "json_file = '/content/drive/MyDrive/cv_project/dataset/data_info.json'\n",
        "image_path = '/content/drive/MyDrive/cv_project/dataset/train_images/Fundus_CIMT_2903 Dataset'\n",
        "\n",
        "# 학습용 데이터셋 (group 1)\n",
        "train_dataset = MultimodalEyeDataset.from_json(\n",
        "    json_file=json_file,\n",
        "    image_path=image_path,\n",
        "    group_value=1,\n",
        "    include_0_9mm=True,\n",
        "    transform=TrainTransform\n",
        ")\n",
        "\n",
        "# 검증용 데이터셋 (group 2)\n",
        "val_dataset = MultimodalEyeDataset.from_json(\n",
        "    json_file=json_file,\n",
        "    image_path=image_path,\n",
        "    group_value=2,\n",
        "    include_0_9mm=True,\n",
        "    transform=ValidTransform\n",
        ")\n",
        "\n",
        "# 테스트용 데이터셋 (group 3)\n",
        "test_dataset = MultimodalEyeDataset.from_json(\n",
        "    json_file=json_file,\n",
        "    image_path=image_path,\n",
        "    group_value=3,\n",
        "    include_0_9mm=True,\n",
        "    transform=ValidTransform\n",
        ")\n",
        "\n",
        "from torch.utils.data import DataLoader\n",
        "\n",
        "# 최적화 설정: num_workers=2, pin_memory=True\n",
        "train_loader = DataLoader(train_dataset, batch_size=16, shuffle=True, num_workers=2, pin_memory=True)\n",
        "val_loader = DataLoader(val_dataset, batch_size=16, shuffle=False, num_workers=2, pin_memory=True)\n",
        "test_loader = DataLoader(test_dataset, batch_size=16, shuffle=False, num_workers=2, pin_memory=True)\n"
      ],
      "metadata": {
        "colab": {
          "base_uri": "https://localhost:8080/"
        },
        "id": "-U8B0rz7Moj2",
        "outputId": "6befb858-62bc-4d58-b81f-9ddecc0c1736"
      },
      "execution_count": null,
      "outputs": [
        {
          "output_type": "stream",
          "name": "stdout",
          "text": [
            "usable multimodal samples for group 1: 2603\n",
            "usable multimodal samples for group 2: 200\n",
            "usable multimodal samples for group 3: 100\n"
          ]
        }
      ]
    },
    {
      "cell_type": "markdown",
      "source": [
        "### [6] Multimodal 모델 클래스 정의"
      ],
      "metadata": {
        "id": "WYaqKWgpWLbF"
      }
    },
    {
      "cell_type": "code",
      "source": [
        "import torch\n",
        "import torch.nn as nn\n",
        "import timm\n",
        "\n",
        "class MultimodalModel(nn.Module):\n",
        "    def __init__(self, dropout_p=0.3):\n",
        "        super(MultimodalModel, self).__init__()\n",
        "\n",
        "        # 이미지 backbone: 좌/우 이미지 처리\n",
        "        self.backbone = timm.create_model('seresnext50_32x4d.racm_in1k', pretrained=True, num_classes=0)\n",
        "        self.dropout = nn.Dropout(dropout_p)\n",
        "\n",
        "        # 임상정보 FC: [gender one-hot 인코딩, norm_age] → 128\n",
        "        self.clinical_fc = nn.Sequential(\n",
        "            nn.Linear(3, 128),  # 3차원 입력\n",
        "            nn.ReLU(),\n",
        "            nn.Dropout(dropout_p)\n",
        "        )\n",
        "\n",
        "        # 최종 분류기: 이미지(2048*2) + clinical(128) → 2-class output\n",
        "        self.classifier = nn.Sequential(\n",
        "            nn.Linear(2048 * 2 + 128, 512),\n",
        "            nn.ReLU(),\n",
        "            nn.Dropout(dropout_p),\n",
        "            nn.Linear(512, 2)\n",
        "        )\n",
        "\n",
        "    def forward(self, left, right, clinical):\n",
        "        # 이미지 feature 추출\n",
        "        left_feat = self.backbone(left)   # (B, 2048), B = Batch size\n",
        "        right_feat = self.backbone(right) # (B, 2048)\n",
        "        image_feat = torch.cat([left_feat, right_feat], dim=1)  # (B, 4096)\n",
        "        image_feat = self.dropout(image_feat)\n",
        "\n",
        "        # 임상 feature 임베딩\n",
        "        clinical_feat = self.clinical_fc(clinical)  # (B, 128)\n",
        "\n",
        "        # 결합 후 분류\n",
        "        fused = torch.cat([image_feat, clinical_feat], dim=1)  # (B, 4224)\n",
        "        output = self.classifier(fused)  # (B, 2)\n",
        "\n",
        "        return output\n"
      ],
      "metadata": {
        "id": "ya23MB8DQh8A"
      },
      "execution_count": null,
      "outputs": []
    },
    {
      "cell_type": "markdown",
      "source": [
        "### [7] FocalLoss 클래스 정의"
      ],
      "metadata": {
        "id": "S6fDEuzqWrY-"
      }
    },
    {
      "cell_type": "code",
      "source": [
        "class FocalLoss(nn.Module):\n",
        "    def __init__(self, alpha=1, gamma=2, reduction='mean'):\n",
        "        super(FocalLoss, self).__init__()\n",
        "        self.alpha = alpha\n",
        "        self.gamma = gamma\n",
        "        self.reduction = reduction\n",
        "        self.ce = nn.CrossEntropyLoss(reduction='none')\n",
        "\n",
        "    def forward(self, inputs, targets):\n",
        "        ce_loss = self.ce(inputs, targets)\n",
        "        pt = torch.exp(-ce_loss)\n",
        "        focal_loss = self.alpha * (1 - pt) ** self.gamma * ce_loss\n",
        "        return focal_loss.mean() if self.reduction == 'mean' else focal_loss.sum()\n"
      ],
      "metadata": {
        "id": "sq7XF_t6Wz2g"
      },
      "execution_count": null,
      "outputs": []
    },
    {
      "cell_type": "markdown",
      "source": [
        "### [8] 학습 루프 + loss 그래프"
      ],
      "metadata": {
        "id": "inf_XPo3XiZZ"
      }
    },
    {
      "cell_type": "code",
      "source": [
        "import torch\n",
        "import torch.nn.functional as F\n",
        "from torch.nn import CrossEntropyLoss\n",
        "from torch.optim.lr_scheduler import StepLR\n",
        "import json\n",
        "\n",
        "# 디바이스 설정\n",
        "device = torch.device(\"cuda\" if torch.cuda.is_available() else \"cpu\")\n",
        "\n",
        "# 모델 초기화\n",
        "model = MultimodalModel().to(device)\n",
        "\n",
        "# 손실 함수\n",
        "criterion = FocalLoss()\n",
        "\n",
        "# 옵티마이저 (AdamW)\n",
        "optimizer = optim.AdamW(model.parameters(), lr=0.001, weight_decay=1e-4)\n",
        "\n",
        "# 학습률 스케줄러\n",
        "scheduler = lr_scheduler.StepLR(optimizer, step_size=20, gamma=0.1)\n",
        "\n",
        "# 하이퍼파라미터\n",
        "epochs = 50\n",
        "best_val_loss = float('inf')\n",
        "\n",
        "# 손실 기록 리스트\n",
        "train_losses = []\n",
        "val_losses = []\n",
        "\n",
        "# 학습 루프\n",
        "for epoch in range(epochs):\n",
        "    model.train()\n",
        "    running_loss = 0.0\n",
        "\n",
        "    for left, right, clinical, labels in train_loader:\n",
        "        left, right, clinical, labels = left.to(device), right.to(device), clinical.to(device), labels.to(device)\n",
        "\n",
        "        optimizer.zero_grad()\n",
        "        outputs = model(left, right, clinical)\n",
        "        loss = criterion(outputs, labels)\n",
        "        loss.backward()\n",
        "        optimizer.step()\n",
        "\n",
        "        running_loss += loss.item()\n",
        "\n",
        "    # Validation\n",
        "    model.eval()\n",
        "    val_loss = 0.0\n",
        "    correct = 0\n",
        "    total = 0\n",
        "\n",
        "    with torch.no_grad():\n",
        "        for left, right, clinical, labels in val_loader:\n",
        "            left, right, clinical, labels = left.to(device), right.to(device), clinical.to(device), labels.to(device)\n",
        "\n",
        "            outputs = model(left, right, clinical)\n",
        "            loss = criterion(outputs, labels)\n",
        "            val_loss += loss.item()\n",
        "\n",
        "            preds = torch.argmax(outputs, dim=1)\n",
        "            correct += (preds == labels).sum().item()\n",
        "            total += labels.size(0)\n",
        "\n",
        "    val_accuracy = correct / total\n",
        "    train_loss = running_loss / len(train_loader)\n",
        "    val_loss /= len(val_loader)\n",
        "\n",
        "    train_losses.append(train_loss)\n",
        "    val_losses.append(val_loss)\n",
        "\n",
        "    scheduler.step()\n",
        "\n",
        "    # Best 모델 저장 (Val Loss 기준)\n",
        "    if val_loss < best_val_loss:\n",
        "        best_val_loss = val_loss\n",
        "        torch.save(model.state_dict(), '/content/drive/MyDrive/cv_project/02multimodal/best_multimodal_model.pth')\n",
        "        print(f\"Best model updated at epoch {epoch+1} (Val Loss: {best_val_loss:.4f})\")\n",
        "\n",
        "    # Epoch 출력\n",
        "    print(f\"Epoch {epoch+1}/{epochs} | Train Loss: {train_loss:.4f} | Val Loss: {val_loss:.4f} | Val Acc: {val_accuracy:.4f} | LR: {scheduler.get_last_lr()[0]:.6f}\")\n",
        "\n",
        "# Loss를 JSON으로 저장\n",
        "loss_history = {\n",
        "    'train_loss': train_losses,\n",
        "    'val_loss': val_losses\n",
        "}\n",
        "\n",
        "with open('/content/drive/MyDrive/cv_project/02multimodal/loss_history.json', 'w') as f:\n",
        "    json.dump(loss_history, f, indent=2)\n",
        "\n",
        "print(\"loss_history.json 저장 완료!\")"
      ],
      "metadata": {
        "colab": {
          "base_uri": "https://localhost:8080/",
          "height": 1000,
          "referenced_widgets": [
            "c3005c34391e4185b60fbac7d38684f5",
            "71c6464834ed4f99904339a520d1ee71",
            "fa3bd9aeb343497c94bac03468b2c963",
            "2746e150f661472ba922dde71ce5f0ff",
            "3b240d801b72497ba54f2a363e817365",
            "4d5f1222d8934f369fc3975c9b452728",
            "28c5a04d7f11476b8ad20740185663e3",
            "b84600dc96d5452d846e8df97902bc66",
            "ae83f0d55170412ebdf7d205b1448066",
            "175f5a315a014220a32b1c3d2676dfb2",
            "194c5cdca4264559ac4281d29ba350d7"
          ]
        },
        "id": "CHi7gqo-Wbml",
        "outputId": "c2ea838c-06c6-4183-e561-582318f2b880"
      },
      "execution_count": null,
      "outputs": [
        {
          "output_type": "stream",
          "name": "stderr",
          "text": [
            "/usr/local/lib/python3.11/dist-packages/huggingface_hub/utils/_auth.py:94: UserWarning: \n",
            "The secret `HF_TOKEN` does not exist in your Colab secrets.\n",
            "To authenticate with the Hugging Face Hub, create a token in your settings tab (https://huggingface.co/settings/tokens), set it as secret in your Google Colab and restart your session.\n",
            "You will be able to reuse this secret in all of your notebooks.\n",
            "Please note that authentication is recommended but still optional to access public models or datasets.\n",
            "  warnings.warn(\n"
          ]
        },
        {
          "output_type": "display_data",
          "data": {
            "text/plain": [
              "model.safetensors:   0%|          | 0.00/111M [00:00<?, ?B/s]"
            ],
            "application/vnd.jupyter.widget-view+json": {
              "version_major": 2,
              "version_minor": 0,
              "model_id": "c3005c34391e4185b60fbac7d38684f5"
            }
          },
          "metadata": {}
        },
        {
          "output_type": "stream",
          "name": "stdout",
          "text": [
            "Best model updated at epoch 1 (Val Loss: 0.1604)\n",
            "Epoch 1/50 | Train Loss: 0.1374 | Val Loss: 0.1604 | Val Acc: 0.6550 | LR: 0.001000\n",
            "Epoch 2/50 | Train Loss: 0.1152 | Val Loss: 0.1844 | Val Acc: 0.6550 | LR: 0.001000\n",
            "Best model updated at epoch 3 (Val Loss: 0.1577)\n",
            "Epoch 3/50 | Train Loss: 0.1128 | Val Loss: 0.1577 | Val Acc: 0.6950 | LR: 0.001000\n",
            "Epoch 4/50 | Train Loss: 0.1109 | Val Loss: 0.1622 | Val Acc: 0.7100 | LR: 0.001000\n",
            "Epoch 5/50 | Train Loss: 0.1105 | Val Loss: 0.1983 | Val Acc: 0.6400 | LR: 0.001000\n",
            "Best model updated at epoch 6 (Val Loss: 0.1510)\n",
            "Epoch 6/50 | Train Loss: 0.1120 | Val Loss: 0.1510 | Val Acc: 0.6900 | LR: 0.001000\n",
            "Best model updated at epoch 7 (Val Loss: 0.1372)\n",
            "Epoch 7/50 | Train Loss: 0.1116 | Val Loss: 0.1372 | Val Acc: 0.7400 | LR: 0.001000\n",
            "Epoch 8/50 | Train Loss: 0.1106 | Val Loss: 0.1552 | Val Acc: 0.6900 | LR: 0.001000\n",
            "Epoch 9/50 | Train Loss: 0.1114 | Val Loss: 0.1821 | Val Acc: 0.6550 | LR: 0.001000\n",
            "Epoch 10/50 | Train Loss: 0.1104 | Val Loss: 0.1424 | Val Acc: 0.7300 | LR: 0.001000\n",
            "Epoch 11/50 | Train Loss: 0.1108 | Val Loss: 0.1614 | Val Acc: 0.7350 | LR: 0.001000\n",
            "Epoch 12/50 | Train Loss: 0.1115 | Val Loss: 0.1594 | Val Acc: 0.7050 | LR: 0.001000\n",
            "Epoch 13/50 | Train Loss: 0.1095 | Val Loss: 0.1439 | Val Acc: 0.7250 | LR: 0.001000\n",
            "Epoch 14/50 | Train Loss: 0.1104 | Val Loss: 0.1583 | Val Acc: 0.6900 | LR: 0.001000\n",
            "Epoch 15/50 | Train Loss: 0.1103 | Val Loss: 0.1667 | Val Acc: 0.7150 | LR: 0.001000\n",
            "Epoch 16/50 | Train Loss: 0.1087 | Val Loss: 0.1496 | Val Acc: 0.7200 | LR: 0.001000\n",
            "Epoch 17/50 | Train Loss: 0.1102 | Val Loss: 0.1483 | Val Acc: 0.7150 | LR: 0.001000\n",
            "Epoch 18/50 | Train Loss: 0.1101 | Val Loss: 0.1376 | Val Acc: 0.7400 | LR: 0.001000\n",
            "Epoch 19/50 | Train Loss: 0.1094 | Val Loss: 0.1440 | Val Acc: 0.7350 | LR: 0.001000\n",
            "Epoch 20/50 | Train Loss: 0.1109 | Val Loss: 0.2020 | Val Acc: 0.6250 | LR: 0.000100\n",
            "Epoch 21/50 | Train Loss: 0.1109 | Val Loss: 0.1605 | Val Acc: 0.6800 | LR: 0.000100\n",
            "Epoch 22/50 | Train Loss: 0.1093 | Val Loss: 0.1561 | Val Acc: 0.6950 | LR: 0.000100\n",
            "Epoch 23/50 | Train Loss: 0.1078 | Val Loss: 0.1539 | Val Acc: 0.6950 | LR: 0.000100\n",
            "Epoch 24/50 | Train Loss: 0.1076 | Val Loss: 0.1562 | Val Acc: 0.6950 | LR: 0.000100\n",
            "Epoch 25/50 | Train Loss: 0.1092 | Val Loss: 0.1544 | Val Acc: 0.6950 | LR: 0.000100\n",
            "Epoch 26/50 | Train Loss: 0.1078 | Val Loss: 0.1525 | Val Acc: 0.6950 | LR: 0.000100\n",
            "Epoch 27/50 | Train Loss: 0.1090 | Val Loss: 0.1501 | Val Acc: 0.6950 | LR: 0.000100\n",
            "Epoch 28/50 | Train Loss: 0.1079 | Val Loss: 0.1517 | Val Acc: 0.7050 | LR: 0.000100\n",
            "Epoch 29/50 | Train Loss: 0.1078 | Val Loss: 0.1578 | Val Acc: 0.6950 | LR: 0.000100\n",
            "Epoch 30/50 | Train Loss: 0.1075 | Val Loss: 0.1454 | Val Acc: 0.7200 | LR: 0.000100\n",
            "Epoch 31/50 | Train Loss: 0.1078 | Val Loss: 0.1496 | Val Acc: 0.7100 | LR: 0.000100\n",
            "Epoch 32/50 | Train Loss: 0.1080 | Val Loss: 0.1513 | Val Acc: 0.7050 | LR: 0.000100\n",
            "Epoch 33/50 | Train Loss: 0.1077 | Val Loss: 0.1503 | Val Acc: 0.7000 | LR: 0.000100\n",
            "Epoch 34/50 | Train Loss: 0.1072 | Val Loss: 0.1495 | Val Acc: 0.7000 | LR: 0.000100\n",
            "Epoch 35/50 | Train Loss: 0.1083 | Val Loss: 0.1547 | Val Acc: 0.6950 | LR: 0.000100\n",
            "Epoch 36/50 | Train Loss: 0.1073 | Val Loss: 0.1527 | Val Acc: 0.6950 | LR: 0.000100\n",
            "Epoch 37/50 | Train Loss: 0.1077 | Val Loss: 0.1515 | Val Acc: 0.6950 | LR: 0.000100\n",
            "Epoch 38/50 | Train Loss: 0.1070 | Val Loss: 0.1479 | Val Acc: 0.7150 | LR: 0.000100\n",
            "Epoch 39/50 | Train Loss: 0.1080 | Val Loss: 0.1550 | Val Acc: 0.6950 | LR: 0.000100\n",
            "Epoch 40/50 | Train Loss: 0.1066 | Val Loss: 0.1557 | Val Acc: 0.6900 | LR: 0.000010\n",
            "Epoch 41/50 | Train Loss: 0.1082 | Val Loss: 0.1548 | Val Acc: 0.6900 | LR: 0.000010\n",
            "Epoch 42/50 | Train Loss: 0.1070 | Val Loss: 0.1545 | Val Acc: 0.6950 | LR: 0.000010\n",
            "Epoch 43/50 | Train Loss: 0.1064 | Val Loss: 0.1540 | Val Acc: 0.6900 | LR: 0.000010\n",
            "Epoch 44/50 | Train Loss: 0.1073 | Val Loss: 0.1522 | Val Acc: 0.7000 | LR: 0.000010\n",
            "Epoch 45/50 | Train Loss: 0.1069 | Val Loss: 0.1527 | Val Acc: 0.6950 | LR: 0.000010\n",
            "Epoch 46/50 | Train Loss: 0.1057 | Val Loss: 0.1535 | Val Acc: 0.6950 | LR: 0.000010\n",
            "Epoch 47/50 | Train Loss: 0.1079 | Val Loss: 0.1549 | Val Acc: 0.7000 | LR: 0.000010\n",
            "Epoch 48/50 | Train Loss: 0.1075 | Val Loss: 0.1529 | Val Acc: 0.7000 | LR: 0.000010\n",
            "Epoch 49/50 | Train Loss: 0.1066 | Val Loss: 0.1537 | Val Acc: 0.7100 | LR: 0.000010\n",
            "Epoch 50/50 | Train Loss: 0.1074 | Val Loss: 0.1528 | Val Acc: 0.7050 | LR: 0.000010\n",
            "loss_history.json 저장 완료!\n"
          ]
        }
      ]
    },
    {
      "cell_type": "code",
      "source": [
        "import matplotlib.pyplot as plt\n",
        "\n",
        "# Loss 그래프 시각화\n",
        "plt.figure(figsize=(8, 5))\n",
        "plt.plot(train_losses, label='Train Loss')\n",
        "plt.plot(val_losses, label='Validation Loss')\n",
        "plt.xlabel('Epoch')\n",
        "plt.ylabel('Loss')\n",
        "plt.title('Multimodal Training vs Validation Loss')\n",
        "plt.legend()\n",
        "plt.grid(True)\n",
        "plt.show()"
      ],
      "metadata": {
        "colab": {
          "base_uri": "https://localhost:8080/",
          "height": 450
        },
        "id": "aNaano_w83py",
        "outputId": "dcc62ec6-19bf-4037-8e3a-1220c2c63fc5"
      },
      "execution_count": null,
      "outputs": [
        {
          "output_type": "display_data",
          "data": {
            "text/plain": [
              "<Figure size 800x500 with 1 Axes>"
            ],
            "image/png": "[encoded data removed]"
          },
          "metadata": {}
        }
      ]
    },
    {
      "cell_type": "markdown",
      "source": [
        "### [9] predict_result.json 저장"
      ],
      "metadata": {
        "id": "RoPrPVu2vsih"
      }
    },
    {
      "cell_type": "code",
      "source": [
        "import torch\n",
        "import torch.nn.functional as F\n",
        "import json\n",
        "from tqdm import tqdm\n",
        "\n",
        "# best 모델 불러오기\n",
        "model = MultimodalModel(dropout_p=0.3).to(device)\n",
        "model.load_state_dict(torch.load('/content/drive/MyDrive/cv_project/02multimodal/best_multimodal_model.pth'))\n",
        "model.eval()\n",
        "\n",
        "predict_result = {}\n",
        "\n",
        "with torch.no_grad():\n",
        "    for i, (left, right, clinical, labels) in enumerate(tqdm(test_loader)):\n",
        "        left, right, clinical, labels = left.to(device), right.to(device), clinical.to(device), labels.to(device)\n",
        "        outputs = model(left, right, clinical)\n",
        "        probs = F.softmax(outputs, dim=1)\n",
        "        preds = torch.argmax(probs, dim=1)\n",
        "\n",
        "        # 배치 단위로 결과 저장\n",
        "        for j in range(len(labels)):\n",
        "            sample_idx = i * test_loader.batch_size + j\n",
        "            sample_id = list(test_dataset.data)[sample_idx]  # test_dataset.data는 dict list\n",
        "            predict_result[sample_id['left_eye'].split('_')[0]] = {\n",
        "                'label': int(labels[j].cpu().item()),\n",
        "                'pred': int(preds[j].cpu().item()),\n",
        "                'score': probs[j].cpu().tolist()\n",
        "            }\n",
        "\n",
        "# JSON 저장\n",
        "save_path = '/content/drive/MyDrive/cv_project/02multimodal/predict_result.json'\n",
        "with open(save_path, 'w') as f:\n",
        "    json.dump(predict_result, f, indent=2)\n",
        "\n",
        "print(f\"저장 완료: {save_path}\")\n"
      ],
      "metadata": {
        "colab": {
          "base_uri": "https://localhost:8080/"
        },
        "id": "oMbsyv2cXo7y",
        "outputId": "8431239f-281a-47dc-a383-b7924546a4a5"
      },
      "execution_count": null,
      "outputs": [
        {
          "output_type": "stream",
          "name": "stderr",
          "text": [
            "<ipython-input-10-3e0d8b707e0a>:8: FutureWarning: You are using `torch.load` with `weights_only=False` (the current default value), which uses the default pickle module implicitly. It is possible to construct malicious pickle data which will execute arbitrary code during unpickling (See https://github.com/pytorch/pytorch/blob/main/SECURITY.md#untrusted-models for more details). In a future release, the default value for `weights_only` will be flipped to `True`. This limits the functions that could be executed during unpickling. Arbitrary objects will no longer be allowed to be loaded via this mode unless they are explicitly allowlisted by the user via `torch.serialization.add_safe_globals`. We recommend you start setting `weights_only=True` for any use case where you don't have full control of the loaded file. Please open an issue on GitHub for any issues related to this experimental feature.\n",
            "  model.load_state_dict(torch.load('/content/drive/MyDrive/cv_project/02multimodal/best_multimodal_model.pth'))\n",
            "100%|██████████| 7/7 [00:37<00:00,  5.36s/it]\n"
          ]
        },
        {
          "output_type": "stream",
          "name": "stdout",
          "text": [
            "저장 완료: /content/drive/MyDrive/cv_project/02multimodal/predict_result.json\n"
          ]
        }
      ]
    },
    {
      "cell_type": "markdown",
      "source": [
        "### [10] 평가 + AUC Curve 그리기"
      ],
      "metadata": {
        "id": "I-SFzNjFxLqO"
      }
    },
    {
      "cell_type": "code",
      "source": [
        "import json\n",
        "import numpy as np\n",
        "import matplotlib.pyplot as plt\n",
        "from sklearn.metrics import (\n",
        "    accuracy_score, roc_auc_score, classification_report, confusion_matrix,\n",
        "    roc_curve, auc\n",
        ")\n",
        "\n",
        "# 결과 불러오기\n",
        "with open('/content/drive/MyDrive/cv_project/02multimodal/predict_result.json', 'r') as f:\n",
        "    results = json.load(f)\n",
        "\n",
        "# y값 추출\n",
        "y_true = [item['label'] for item in results.values()]\n",
        "y_pred = [item['pred'] for item in results.values()]\n",
        "y_score = [item['score'][1] for item in results.values()]  # thickened 확률\n",
        "\n",
        "# 평가 지표 계산\n",
        "acc = accuracy_score(y_true, y_pred)\n",
        "roc_auc = roc_auc_score(y_true, y_score)\n",
        "report = classification_report(y_true, y_pred, target_names=['Normal', 'Thickened'])\n",
        "cm = confusion_matrix(y_true, y_pred)\n",
        "\n",
        "# 출력\n",
        "print(f\"정확도 (Accuracy): {acc:.4f}\")\n",
        "print(f\"AUC-ROC: {roc_auc:.4f}\")\n",
        "print(\"\\n분류 리포트:\")\n",
        "print(report)\n",
        "print(\"Confusion Matrix:\")\n",
        "print(cm)\n",
        "\n",
        "# AUC-ROC 그래프 시각화\n",
        "fpr, tpr, _ = roc_curve(y_true, y_score)\n",
        "plt.figure()\n",
        "plt.plot(fpr, tpr, color='darkorange', lw=2,\n",
        "         label=f'ROC curve (area = {roc_auc:.4f})')\n",
        "plt.plot([0, 1], [0, 1], color='navy', lw=2, linestyle='--')\n",
        "plt.xlim([-0.01, 1.0])\n",
        "plt.ylim([0.0, 1.01])\n",
        "plt.xlabel('False Positive Rate')\n",
        "plt.ylabel('True Positive Rate')\n",
        "plt.title('Receiver Operating Characteristic - Multimodal Model')\n",
        "plt.legend(loc=\"lower right\")\n",
        "plt.grid(True)\n",
        "plt.show()\n"
      ],
      "metadata": {
        "colab": {
          "base_uri": "https://localhost:8080/",
          "height": 762
        },
        "id": "xapjkXTWw0Af",
        "outputId": "5e133b0f-fc04-4645-da55-b752675cdef0"
      },
      "execution_count": null,
      "outputs": [
        {
          "output_type": "stream",
          "name": "stdout",
          "text": [
            "정확도 (Accuracy): 0.8000\n",
            "AUC-ROC: 0.9384\n",
            "\n",
            "분류 리포트:\n",
            "              precision    recall  f1-score   support\n",
            "\n",
            "      Normal       0.94      0.64      0.76        50\n",
            "   Thickened       0.73      0.96      0.83        50\n",
            "\n",
            "    accuracy                           0.80       100\n",
            "   macro avg       0.83      0.80      0.79       100\n",
            "weighted avg       0.83      0.80      0.79       100\n",
            "\n",
            "Confusion Matrix:\n",
            "[[32 18]\n",
            " [ 2 48]]\n"
          ]
        },
        {
          "output_type": "display_data",
          "data": {
            "text/plain": [
              "<Figure size 640x480 with 1 Axes>"
            ],
            "image/png": "[encoded data removed]"
          },
          "metadata": {}
        }
      ]
    },
    {
      "cell_type": "markdown",
      "source": [
        "\n",
        "\n",
        "---\n",
        "\n",
        "\n",
        "## 전체 성능 요약\n",
        "[멀티모달 모델]\n",
        "- 정확도 (Accuracy): 81.00%\n",
        "- AUC-ROC: 90.41%\n",
        "\n",
        "[이전 모델]\n",
        "- 정확도 (Accuracy): 81.00%\n",
        "- AUC-ROC: 93.32%\n",
        "\n",
        "[현재 모델]\n",
        "- 정확도 (Accuracy): 80.00%\n",
        "- AUC-ROC: 93.84%\n"
      ],
      "metadata": {
        "id": "dQiKf9thyjAy"
      }
    },
    {
      "cell_type": "code",
      "source": [],
      "metadata": {
        "id": "RimY4yY_x1GE"
      },
      "execution_count": null,
      "outputs": []
    }
  ]
}