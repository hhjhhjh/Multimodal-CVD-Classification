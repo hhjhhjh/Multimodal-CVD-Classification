{
  "cells": [
    {
      "cell_type": "markdown",
      "metadata": {
        "id": "YYvGSAuai7km"
      },
      "source": [
        "### [1] 패키지 불러오기"
      ]
    },
    {
      "cell_type": "code",
      "execution_count": 1,
      "metadata": {
        "id": "An7SVPOAeTkI"
      },
      "outputs": [],
      "source": [
        "import os\n",
        "import json\n",
        "import torch\n",
        "import torch.nn as nn\n",
        "import torch.nn.functional as F\n",
        "import timm\n",
        "from torch.utils.data import DataLoader, Dataset\n",
        "from torchvision import transforms\n",
        "import torch.optim as optim\n",
        "from torch.optim import lr_scheduler\n",
        "from PIL import Image\n",
        "import torchvision.transforms as transforms\n",
        "from PIL import Image"
      ]
    },
    {
      "cell_type": "markdown",
      "metadata": {
        "id": "1DKojTLYi879"
      },
      "source": [
        "### [2] Data transform 정의"
      ]
    },
    {
      "cell_type": "code",
      "execution_count": 2,
      "metadata": {
        "id": "qEVeSstZg1Uz"
      },
      "outputs": [],
      "source": [
        "import torchvision.transforms as transforms\n",
        "\n",
        "# 사이즈 설정\n",
        "size = [230, 230]\n",
        "center_size = [224, 224]\n",
        "\n",
        "# 학습용 Transform\n",
        "TrainTransform = transforms.Compose([\n",
        "    transforms.Resize(size),\n",
        "    transforms.CenterCrop(center_size),\n",
        "    transforms.RandomRotation(20),\n",
        "    transforms.RandomHorizontalFlip(),\n",
        "    transforms.RandomVerticalFlip(),\n",
        "    transforms.ColorJitter(brightness=0.25, contrast=0.25, saturation=0.25, hue=0.02),\n",
        "    transforms.ToTensor(),\n",
        "    transforms.Normalize(mean=[0.485, 0.456, 0.406], std=[0.229, 0.224, 0.225])\n",
        "])\n",
        "\n",
        "# 검증/테스트용 Transform\n",
        "ValidTransform = transforms.Compose([\n",
        "    transforms.Resize(size),\n",
        "    transforms.CenterCrop(center_size),\n",
        "    transforms.ToTensor(),\n",
        "    transforms.Normalize(mean=[0.485, 0.456, 0.406], std=[0.229, 0.224, 0.225])\n",
        "])\n"
      ]
    },
    {
      "cell_type": "markdown",
      "metadata": {
        "id": "2KMpLf9vjDTN"
      },
      "source": [
        "### [3] Eye dataset 클래스"
      ]
    },
    {
      "cell_type": "code",
      "execution_count": 3,
      "metadata": {
        "id": "AOypzBPdhru1"
      },
      "outputs": [],
      "source": [
        "import os\n",
        "import json\n",
        "from PIL import Image\n",
        "from torch.utils.data import Dataset\n",
        "import torch\n",
        "\n",
        "class NewEyeDataset(Dataset):\n",
        "    def __init__(self, data, image_path, transform=None):\n",
        "        self.data = data\n",
        "        self.image_path = image_path\n",
        "        self.transform = transform\n",
        "\n",
        "    def __len__(self):\n",
        "        return len(self.data)\n",
        "\n",
        "    def __getitem__(self, idx):\n",
        "        item = self.data[idx]\n",
        "\n",
        "        left_img = Image.open(os.path.join(self.image_path, item['left_eye'])).convert('RGB')\n",
        "        right_img = Image.open(os.path.join(self.image_path, item['right_eye'])).convert('RGB')\n",
        "\n",
        "        if self.transform:\n",
        "            left_img = self.transform(left_img)\n",
        "            right_img = self.transform(right_img)\n",
        "\n",
        "        label = torch.tensor(item['label'], dtype=torch.long)\n",
        "\n",
        "        return left_img, right_img, label\n",
        "\n",
        "    @classmethod\n",
        "    def from_json(cls, json_file, image_path, group_value=1, include_0_9mm=True, transform=None):\n",
        "        with open(json_file, 'r') as f:\n",
        "            raw_data = json.load(f)\n",
        "\n",
        "        usable_data = [\n",
        "            item for item in raw_data.values()\n",
        "            if item['group'] == group_value and (include_0_9mm or item['thickness'] != 0.9)\n",
        "        ]\n",
        "\n",
        "        print(f\"usable samples for group {group_value}: {len(usable_data)}\")\n",
        "        return cls(usable_data, image_path, transform)"
      ]
    },
    {
      "cell_type": "markdown",
      "metadata": {
        "id": "BHqKaRqjjO74"
      },
      "source": [
        "### [4] 구글 드라이브 연동"
      ]
    },
    {
      "cell_type": "code",
      "execution_count": 4,
      "metadata": {
        "colab": {
          "base_uri": "https://localhost:8080/"
        },
        "id": "Vj4xNGkuhwlc",
        "outputId": "006c14f4-d2b5-4bbb-b1d6-4553b8c07bf3"
      },
      "outputs": [
        {
          "output_type": "stream",
          "name": "stdout",
          "text": [
            "Mounted at /content/drive\n"
          ]
        }
      ],
      "source": [
        "from google.colab import drive\n",
        "drive.mount('/content/drive')"
      ]
    },
    {
      "cell_type": "markdown",
      "metadata": {
        "id": "xl950mwljSY4"
      },
      "source": [
        "### [5] train_loader, val_loader, test_loader 구성"
      ]
    },
    {
      "cell_type": "code",
      "execution_count": 5,
      "metadata": {
        "colab": {
          "base_uri": "https://localhost:8080/"
        },
        "id": "8zgXE3BAh0Fc",
        "outputId": "275324a7-41eb-474d-96cd-0ea5f7e37cf5"
      },
      "outputs": [
        {
          "output_type": "stream",
          "name": "stdout",
          "text": [
            "usable samples for group 1: 2603\n",
            "usable samples for group 2: 200\n",
            "usable samples for group 3: 100\n"
          ]
        }
      ],
      "source": [
        "from torch.utils.data import DataLoader\n",
        "\n",
        "# 경로 설정\n",
        "json_path = '/content/drive/MyDrive/cv_project/dataset/data_info.json'\n",
        "image_path = '/content/drive/MyDrive/cv_project/dataset/train_images/Fundus_CIMT_2903 Dataset'\n",
        "\n",
        "# 데이터셋 생성\n",
        "train_dataset = NewEyeDataset.from_json(json_file=json_path, image_path=image_path, group_value=1, transform=TrainTransform)\n",
        "val_dataset = NewEyeDataset.from_json(json_file=json_path, image_path=image_path, group_value=2, transform=ValidTransform)\n",
        "test_dataset = NewEyeDataset.from_json(json_file=json_path, image_path=image_path, group_value=3, transform=ValidTransform)\n",
        "\n",
        "# 최적화된 데이터로더\n",
        "train_loader = DataLoader(train_dataset, batch_size=16, shuffle=True, num_workers=2, pin_memory=True)\n",
        "val_loader = DataLoader(val_dataset, batch_size=16, shuffle=False, num_workers=2, pin_memory=True)\n",
        "test_loader = DataLoader(test_dataset, batch_size=16, shuffle=False, num_workers=2, pin_memory=True)\n"
      ]
    },
    {
      "cell_type": "markdown",
      "metadata": {
        "id": "xICGU_dIjXqG"
      },
      "source": [
        "### [6] 모델 정의"
      ]
    },
    {
      "cell_type": "code",
      "execution_count": 6,
      "metadata": {
        "id": "p_NdUgn_iQid"
      },
      "outputs": [],
      "source": [
        "import torch\n",
        "import torch.nn as nn\n",
        "import timm\n",
        "\n",
        "class CrossAttentionBothEyeClassifier(nn.Module):\n",
        "    def __init__(self, dropout_p=0.3, embed_dim=1280, num_heads=8):\n",
        "        super(CrossAttentionBothEyeClassifier, self).__init__()\n",
        "\n",
        "        self.backbone = timm.create_model('tf_efficientnetv2_s.in1k', pretrained=True, num_classes=0)\n",
        "\n",
        "        # 양방향 Cross-Attention 정의\n",
        "        self.cross_attn_L2R = nn.MultiheadAttention(embed_dim=embed_dim, num_heads=num_heads, batch_first=True)\n",
        "        self.cross_attn_R2L = nn.MultiheadAttention(embed_dim=embed_dim, num_heads=num_heads, batch_first=True)\n",
        "\n",
        "        self.dropout = nn.Dropout(dropout_p)\n",
        "\n",
        "        # 분류기: concat된 두 attention 결과 (1280 * 2)\n",
        "        self.classifier = nn.Sequential(\n",
        "            nn.Linear(embed_dim * 2, 512),\n",
        "            nn.ReLU(),\n",
        "            nn.Dropout(dropout_p),\n",
        "            nn.Linear(512, 2)\n",
        "        )\n",
        "\n",
        "    def forward(self, left_img, right_img):\n",
        "        # (B, 1280)\n",
        "        left_feat = self.backbone(left_img)\n",
        "        right_feat = self.backbone(right_img)\n",
        "\n",
        "        # (B, 1, 1280) for attention input\n",
        "        left_feat = left_feat.unsqueeze(1)\n",
        "        right_feat = right_feat.unsqueeze(1)\n",
        "\n",
        "        # 양방향 Cross-Attention\n",
        "        # Left → Right\n",
        "        attn_L2R, _ = self.cross_attn_L2R(query=left_feat, key=right_feat, value=right_feat)\n",
        "        # Right → Left\n",
        "        attn_R2L, _ = self.cross_attn_R2L(query=right_feat, key=left_feat, value=left_feat)\n",
        "\n",
        "        # concat → (B, 1280*2)\n",
        "        combined = torch.cat([attn_L2R.squeeze(1), attn_R2L.squeeze(1)], dim=1)\n",
        "        combined = self.dropout(combined)\n",
        "\n",
        "        return self.classifier(combined)\n"
      ]
    },
    {
      "cell_type": "markdown",
      "metadata": {
        "id": "umxc3bWdjlFm"
      },
      "source": [
        "### [7] FocalLoss 클래스 정의"
      ]
    },
    {
      "cell_type": "code",
      "execution_count": 7,
      "metadata": {
        "id": "Ii1Ogeg3jgDv"
      },
      "outputs": [],
      "source": [
        "import torch\n",
        "import torch.nn as nn\n",
        "import torch.nn.functional as F\n",
        "\n",
        "class FocalLoss(nn.Module):\n",
        "    def __init__(self, alpha=1.0, gamma=2.0, reduction='mean'):\n",
        "        super(FocalLoss, self).__init__()\n",
        "        self.alpha = alpha  # scalar or list (optional)\n",
        "        self.gamma = gamma\n",
        "        self.reduction = reduction\n",
        "\n",
        "    def forward(self, inputs, targets):\n",
        "        ce_loss = F.cross_entropy(inputs, targets, reduction='none')  # [B]\n",
        "        pt = torch.exp(-ce_loss)  # [B]\n",
        "        focal_loss = self.alpha * (1 - pt) ** self.gamma * ce_loss  # [B]\n",
        "\n",
        "        if self.reduction == 'mean':\n",
        "            return focal_loss.mean()\n",
        "        elif self.reduction == 'sum':\n",
        "            return focal_loss.sum()\n",
        "        else:\n",
        "            return focal_loss\n"
      ]
    },
    {
      "cell_type": "markdown",
      "metadata": {
        "id": "sygTd385j3v5"
      },
      "source": [
        "### [8] 학습 루프"
      ]
    },
    {
      "cell_type": "code",
      "execution_count": 8,
      "metadata": {
        "colab": {
          "base_uri": "https://localhost:8080/",
          "height": 539,
          "referenced_widgets": [
            "03057f9d231945d5be103b45f5f0f495",
            "1ed5f2908ec94988b7ee524b76e7744d",
            "6ef60cb6ffa74594ba7ccc1a666714ba",
            "bc355950b3e1410cab9b5ecb913b27bf",
            "8789303411924de7a2d66c30d9b4b6d9",
            "3e3f80e840194782a317cbd67dc05457",
            "7fb31cb04d604120bc978d5119294792",
            "a88c6650cbad4918968281fbe44bdfcf",
            "36c607e0352742559d272e9793408dba",
            "c2657b15f9c847c089fd26ec4df7fa71",
            "300b31a85cac40fb89d69ca152da3384"
          ]
        },
        "id": "kodGR1vV26bX",
        "outputId": "51df7c39-3d2e-4d38-feae-ea4ef4ed805b"
      },
      "outputs": [
        {
          "output_type": "stream",
          "name": "stderr",
          "text": [
            "/usr/local/lib/python3.11/dist-packages/huggingface_hub/utils/_auth.py:94: UserWarning: \n",
            "The secret `HF_TOKEN` does not exist in your Colab secrets.\n",
            "To authenticate with the Hugging Face Hub, create a token in your settings tab (https://huggingface.co/settings/tokens), set it as secret in your Google Colab and restart your session.\n",
            "You will be able to reuse this secret in all of your notebooks.\n",
            "Please note that authentication is recommended but still optional to access public models or datasets.\n",
            "  warnings.warn(\n"
          ]
        },
        {
          "output_type": "display_data",
          "data": {
            "text/plain": [
              "model.safetensors:   0%|          | 0.00/86.5M [00:00<?, ?B/s]"
            ],
            "application/vnd.jupyter.widget-view+json": {
              "version_major": 2,
              "version_minor": 0,
              "model_id": "03057f9d231945d5be103b45f5f0f495"
            }
          },
          "metadata": {}
        },
        {
          "output_type": "stream",
          "name": "stdout",
          "text": [
            "Best model updated at epoch 1 (Val Loss: 0.1745)\n",
            "Epoch 1/20 | Train Loss: 0.1598 | Val Loss: 0.1745 | Val Acc: 0.5600 | LR: 0.001000\n",
            "Epoch 2/20 | Train Loss: 0.1500 | Val Loss: 0.2650 | Val Acc: 0.5250 | LR: 0.001000\n",
            "Epoch 3/20 | Train Loss: 0.1485 | Val Loss: 0.2194 | Val Acc: 0.5200 | LR: 0.001000\n",
            "Epoch 4/20 | Train Loss: 0.1421 | Val Loss: 0.2107 | Val Acc: 0.5000 | LR: 0.001000\n",
            "Epoch 5/20 | Train Loss: 0.1506 | Val Loss: 0.1935 | Val Acc: 0.5000 | LR: 0.001000\n",
            "Epoch 6/20 | Train Loss: 0.1516 | Val Loss: 0.1957 | Val Acc: 0.5000 | LR: 0.001000\n",
            "Epoch 7/20 | Train Loss: 0.1485 | Val Loss: 0.2024 | Val Acc: 0.5000 | LR: 0.001000\n",
            "Epoch 8/20 | Train Loss: 0.1482 | Val Loss: 0.2040 | Val Acc: 0.5000 | LR: 0.001000\n",
            "Epoch 9/20 | Train Loss: 0.1483 | Val Loss: 0.2054 | Val Acc: 0.5000 | LR: 0.001000\n",
            "Epoch 10/20 | Train Loss: 0.1482 | Val Loss: 0.2057 | Val Acc: 0.5000 | LR: 0.001000\n",
            "Epoch 11/20 | Train Loss: 0.1482 | Val Loss: 0.2051 | Val Acc: 0.5000 | LR: 0.001000\n",
            "Epoch 12/20 | Train Loss: 0.1482 | Val Loss: 0.2063 | Val Acc: 0.5000 | LR: 0.001000\n",
            "Epoch 13/20 | Train Loss: 0.1482 | Val Loss: 0.2044 | Val Acc: 0.5000 | LR: 0.001000\n",
            "Epoch 14/20 | Train Loss: 0.1483 | Val Loss: 0.2053 | Val Acc: 0.5000 | LR: 0.001000\n",
            "Epoch 15/20 | Train Loss: 0.1482 | Val Loss: 0.2044 | Val Acc: 0.5000 | LR: 0.001000\n",
            "Epoch 16/20 | Train Loss: 0.1483 | Val Loss: 0.2058 | Val Acc: 0.5000 | LR: 0.001000\n",
            "Epoch 17/20 | Train Loss: 0.1481 | Val Loss: 0.2058 | Val Acc: 0.5000 | LR: 0.001000\n",
            "Epoch 18/20 | Train Loss: 0.1482 | Val Loss: 0.2067 | Val Acc: 0.5000 | LR: 0.001000\n",
            "Epoch 19/20 | Train Loss: 0.1484 | Val Loss: 0.2059 | Val Acc: 0.5000 | LR: 0.001000\n",
            "Epoch 20/20 | Train Loss: 0.1484 | Val Loss: 0.2042 | Val Acc: 0.5000 | LR: 0.000100\n"
          ]
        }
      ],
      "source": [
        "import torch.nn.functional as F\n",
        "from torch import nn, optim\n",
        "from torch.optim import lr_scheduler\n",
        "\n",
        "# 디바이스 설정\n",
        "device = torch.device(\"cuda\" if torch.cuda.is_available() else \"cpu\")\n",
        "\n",
        "# 손실 함수\n",
        "criterion_cls = FocalLoss()\n",
        "\n",
        "# 모델 초기화 (양방향 크로스어텐션 모델)\n",
        "model = CrossAttentionBothEyeClassifier(dropout_p=0.3).to(device)\n",
        "\n",
        "# 옵티마이저 및 스케줄러\n",
        "optimizer = optim.AdamW(model.parameters(), lr=1e-3, weight_decay=1e-4)\n",
        "scheduler = lr_scheduler.StepLR(optimizer, step_size=20, gamma=0.1)\n",
        "\n",
        "# 학습 설정\n",
        "epochs = 20\n",
        "best_val_loss = float('inf')\n",
        "\n",
        "train_losses = []\n",
        "val_losses = []\n",
        "val_accuracies = []\n",
        "\n",
        "for epoch in range(epochs):\n",
        "    model.train()\n",
        "    running_loss = 0.0\n",
        "\n",
        "    for left_imgs, right_imgs, labels in train_loader:\n",
        "        left_imgs, right_imgs, labels = left_imgs.to(device), right_imgs.to(device), labels.to(device)\n",
        "\n",
        "        optimizer.zero_grad()\n",
        "        outputs = model(left_imgs, right_imgs)\n",
        "        loss = criterion_cls(outputs, labels)\n",
        "        loss.backward()\n",
        "        optimizer.step()\n",
        "\n",
        "        running_loss += loss.item()\n",
        "\n",
        "    avg_train_loss = running_loss / len(train_loader)\n",
        "    train_losses.append(avg_train_loss)\n",
        "\n",
        "    # Validation\n",
        "    model.eval()\n",
        "    val_loss = 0.0\n",
        "    correct = 0\n",
        "    total = 0\n",
        "\n",
        "    with torch.no_grad():\n",
        "        for left_imgs, right_imgs, labels in val_loader:\n",
        "            left_imgs, right_imgs, labels = left_imgs.to(device), right_imgs.to(device), labels.to(device)\n",
        "\n",
        "            outputs = model(left_imgs, right_imgs)\n",
        "            loss = criterion_cls(outputs, labels)\n",
        "            val_loss += loss.item()\n",
        "\n",
        "            preds = torch.argmax(outputs, dim=1)\n",
        "            correct += (preds == labels).sum().item()\n",
        "            total += labels.size(0)\n",
        "\n",
        "    avg_val_loss = val_loss / len(val_loader)\n",
        "    val_accuracy = correct / total\n",
        "    val_losses.append(avg_val_loss)\n",
        "    val_accuracies.append(val_accuracy)\n",
        "\n",
        "    scheduler.step()\n",
        "\n",
        "    # Best 모델 저장\n",
        "    if avg_val_loss < best_val_loss:\n",
        "        best_val_loss = avg_val_loss\n",
        "        torch.save(model.state_dict(), '/content/drive/MyDrive/cv_project/01unimodal/best_crossattention_both_model.pth')\n",
        "        print(f\"Best model updated at epoch {epoch+1} (Val Loss: {best_val_loss:.4f})\")\n",
        "\n",
        "    print(f\"Epoch {epoch+1}/{epochs} | Train Loss: {avg_train_loss:.4f} | \"\n",
        "          f\"Val Loss: {avg_val_loss:.4f} | Val Acc: {val_accuracy:.4f} | LR: {scheduler.get_last_lr()[0]:.6f}\")\n"
      ]
    },
    {
      "cell_type": "markdown",
      "metadata": {
        "id": "XEKIhLhxtlxb"
      },
      "source": [
        "### [9] 손실 json 파일 저장"
      ]
    },
    {
      "cell_type": "code",
      "execution_count": 9,
      "metadata": {
        "colab": {
          "base_uri": "https://localhost:8080/"
        },
        "id": "71-kmNlknnrR",
        "outputId": "f59722f9-2620-4e64-f0f8-f5f85e0fada8"
      },
      "outputs": [
        {
          "output_type": "stream",
          "name": "stdout",
          "text": [
            "loss_history_crossattention_both_model.json 저장 완료!\n"
          ]
        }
      ],
      "source": [
        "import json\n",
        "\n",
        "# 저장할 경로\n",
        "save_path = '/content/drive/MyDrive/cv_project/01unimodal/loss_history_crossattention_both_model.json'\n",
        "\n",
        "# 저장할 손실 딕셔너리\n",
        "loss_history = {\n",
        "    'train_loss': train_losses,\n",
        "    'val_loss': val_losses,\n",
        "    'val_accuracy': val_accuracies\n",
        "}\n",
        "\n",
        "# JSON 저장\n",
        "with open(save_path, 'w') as f:\n",
        "    json.dump(loss_history, f, indent=2)\n",
        "\n",
        "print(\"loss_history_crossattention_both_model.json 저장 완료!\")\n"
      ]
    },
    {
      "cell_type": "markdown",
      "metadata": {
        "id": "RkvtQTFht6Ej"
      },
      "source": [
        "### [10] loss 그래프"
      ]
    },
    {
      "cell_type": "code",
      "execution_count": 10,
      "metadata": {
        "colab": {
          "base_uri": "https://localhost:8080/",
          "height": 797
        },
        "id": "3upX2SPttX6B",
        "outputId": "6902fad0-bfcf-4cd6-a149-540a400ca921"
      },
      "outputs": [
        {
          "output_type": "display_data",
          "data": {
            "text/plain": [
              "<Figure size 1000x400 with 1 Axes>"
            ],
            "image/png": "[encoded data removed]"
          },
          "metadata": {}
        },
        {
          "output_type": "display_data",
          "data": {
            "text/plain": [
              "<Figure size 1000x400 with 1 Axes>"
            ],
            "image/png": "[encoded data removed]"
          },
          "metadata": {}
        }
      ],
      "source": [
        "import json\n",
        "import matplotlib.pyplot as plt\n",
        "\n",
        "# JSON 불러오기\n",
        "load_path = '/content/drive/MyDrive/cv_project/01unimodal/loss_history_crossattention_both_model.json'\n",
        "\n",
        "with open(load_path, 'r') as f:\n",
        "    loss_history = json.load(f)\n",
        "\n",
        "# 리스트 추출\n",
        "train_losses = loss_history['train_loss']\n",
        "val_losses = loss_history['val_loss']\n",
        "val_accuracies = loss_history['val_accuracy']\n",
        "\n",
        "# 손실 그래프\n",
        "plt.figure(figsize=(10, 4))\n",
        "plt.plot(train_losses, label='Train Loss', linestyle='--')\n",
        "plt.plot(val_losses, label='Validation Loss')\n",
        "plt.xlabel('Epoch')\n",
        "plt.ylabel('Loss')\n",
        "plt.title('CrossAttention Model - Loss per Epoch')\n",
        "plt.legend()\n",
        "plt.grid(True)\n",
        "plt.tight_layout()\n",
        "plt.show()\n",
        "\n",
        "# 정확도 그래프\n",
        "plt.figure(figsize=(10, 4))\n",
        "plt.plot(val_accuracies, label='Validation Accuracy', color='green')\n",
        "plt.xlabel('Epoch')\n",
        "plt.ylabel('Accuracy')\n",
        "plt.title('CrossAttention Model - Accuracy per Epoch')\n",
        "plt.legend()\n",
        "plt.grid(True)\n",
        "plt.tight_layout()\n",
        "plt.show()\n"
      ]
    },
    {
      "cell_type": "markdown",
      "metadata": {
        "id": "g_q8067CwqDr"
      },
      "source": [
        "### [11] 예측 수행"
      ]
    },
    {
      "cell_type": "code",
      "execution_count": 11,
      "metadata": {
        "colab": {
          "base_uri": "https://localhost:8080/"
        },
        "id": "zsGOxtLZtdk3",
        "outputId": "f6086a45-91f6-4db8-9dc2-d974784aa757"
      },
      "outputs": [
        {
          "output_type": "stream",
          "name": "stderr",
          "text": [
            "Predicting: 100%|██████████| 7/7 [01:32<00:00, 13.24s/it]"
          ]
        },
        {
          "output_type": "stream",
          "name": "stdout",
          "text": [
            "예측 결과 저장 완료: /content/drive/MyDrive/cv_project/01unimodal/predict_result_crossattention_both_model.json\n"
          ]
        },
        {
          "output_type": "stream",
          "name": "stderr",
          "text": [
            "\n"
          ]
        }
      ],
      "source": [
        "from tqdm import tqdm\n",
        "import json\n",
        "import torch\n",
        "\n",
        "# 모델 로드\n",
        "model = CrossAttentionBothEyeClassifier(dropout_p=0.3).to(device)\n",
        "model.load_state_dict(torch.load('/content/drive/MyDrive/cv_project/01unimodal/best_crossattention_both_model.pth'))\n",
        "model.eval()\n",
        "\n",
        "# 예측 수행\n",
        "results = []\n",
        "\n",
        "with torch.no_grad():\n",
        "    for left_imgs, right_imgs, labels in tqdm(test_loader, desc=\"Predicting\"):\n",
        "        left_imgs = left_imgs.to(device)\n",
        "        right_imgs = right_imgs.to(device)\n",
        "\n",
        "        outputs = model(left_imgs, right_imgs)\n",
        "        probs = torch.softmax(outputs, dim=1)\n",
        "        preds = torch.argmax(probs, dim=1)\n",
        "\n",
        "        for true, pred, prob in zip(labels.cpu(), preds.cpu(), probs[:, 1].cpu()):\n",
        "            results.append({\n",
        "                \"true_label\": int(true.item()),\n",
        "                \"pred_label\": int(pred.item()),\n",
        "                \"prob_thickened\": float(prob.item())  # class 1 (고위험군) 확률\n",
        "            })\n",
        "\n",
        "# 결과 저장\n",
        "output_path = \"/content/drive/MyDrive/cv_project/01unimodal/predict_result_crossattention_both_model.json\"\n",
        "with open(output_path, \"w\") as f:\n",
        "    json.dump(results, f, indent=2)\n",
        "\n",
        "print(f\"예측 결과 저장 완료: {output_path}\")\n"
      ]
    },
    {
      "cell_type": "markdown",
      "source": [
        "### [12] 평가"
      ],
      "metadata": {
        "id": "agRrgFAxiWdz"
      }
    },
    {
      "cell_type": "code",
      "execution_count": 12,
      "metadata": {
        "colab": {
          "base_uri": "https://localhost:8080/",
          "height": 816
        },
        "id": "J39p7Ms9udDS",
        "outputId": "317ec674-155e-482c-8bcb-5143011518db"
      },
      "outputs": [
        {
          "output_type": "stream",
          "name": "stdout",
          "text": [
            "[CrossAttentionBothEyeClassifier Evaluation]\n",
            "정확도 (Accuracy): 0.5800\n",
            "AUC-ROC: 0.8636\n",
            "\n",
            "분류 리포트:\n",
            "              precision    recall  f1-score   support\n",
            "\n",
            "      Normal       1.00      0.16      0.28        50\n",
            "   Thickened       0.54      1.00      0.70        50\n",
            "\n",
            "    accuracy                           0.58       100\n",
            "   macro avg       0.77      0.58      0.49       100\n",
            "weighted avg       0.77      0.58      0.49       100\n",
            "\n",
            "Confusion Matrix:\n",
            "[[ 8 42]\n",
            " [ 0 50]]\n"
          ]
        },
        {
          "output_type": "display_data",
          "data": {
            "text/plain": [
              "<Figure size 600x500 with 1 Axes>"
            ],
            "image/png": "[encoded data removed]"
          },
          "metadata": {}
        }
      ],
      "source": [
        "import json\n",
        "import numpy as np\n",
        "from sklearn.metrics import (\n",
        "    roc_curve, roc_auc_score, classification_report, confusion_matrix\n",
        ")\n",
        "import matplotlib.pyplot as plt\n",
        "\n",
        "# 예측 결과 불러오기\n",
        "with open(\"/content/drive/MyDrive/cv_project/01unimodal/predict_result_crossattention_both_model.json\", \"r\") as f:\n",
        "    results = json.load(f)\n",
        "\n",
        "# 분류 관련 데이터 추출\n",
        "y_true = [r[\"true_label\"] for r in results]\n",
        "y_pred = [r[\"pred_label\"] for r in results]\n",
        "y_prob = [r[\"prob_thickened\"] for r in results]\n",
        "\n",
        "# === 분류 평가 === #\n",
        "fpr, tpr, _ = roc_curve(y_true, y_prob)\n",
        "auc_score = roc_auc_score(y_true, y_prob)\n",
        "accuracy = np.mean(np.array(y_true) == np.array(y_pred))\n",
        "\n",
        "print(\"[CrossAttentionBothEyeClassifier Evaluation]\")\n",
        "print(f\"정확도 (Accuracy): {accuracy:.4f}\")\n",
        "print(f\"AUC-ROC: {auc_score:.4f}\")\n",
        "print(\"\\n분류 리포트:\")\n",
        "print(classification_report(y_true, y_pred, target_names=[\"Normal\", \"Thickened\"]))\n",
        "print(\"Confusion Matrix:\")\n",
        "print(confusion_matrix(y_true, y_pred))\n",
        "\n",
        "# === ROC Curve === #\n",
        "plt.figure(figsize=(6, 5))\n",
        "plt.plot(fpr, tpr, label=f\"AUC = {auc_score:.4f}\")\n",
        "plt.plot([0, 1], [0, 1], 'k--')\n",
        "plt.xlabel(\"False Positive Rate\")\n",
        "plt.ylabel(\"True Positive Rate\")\n",
        "plt.title(\"ROC Curve (CrossAttention Both-Eye Classifier)\")\n",
        "plt.legend()\n",
        "plt.grid(True)\n",
        "plt.tight_layout()\n",
        "plt.show()\n"
      ]
    },
    {
      "cell_type": "code",
      "source": [],
      "metadata": {
        "id": "4CZLSmDubbjA"
      },
      "execution_count": null,
      "outputs": []
    }
  ],
  "metadata": {
    "colab": {
      "machine_shape": "hm",
      "provenance": [],
      "gpuType": "L4"
    },
    "kernelspec": {
      "display_name": "Python 3",
      "name": "python3"
    },
    "language_info": {
      "name": "python"
    },
    "accelerator": "GPU",
    "widgets": {
      "application/vnd.jupyter.widget-state+json": {
        "03057f9d231945d5be103b45f5f0f495": {
          "model_module": "@jupyter-widgets/controls",
          "model_name": "HBoxModel",
          "model_module_version": "1.5.0",
          "state": {
            "_dom_classes": [],
            "_model_module": "@jupyter-widgets/controls",
            "_model_module_version": "1.5.0",
            "_model_name": "HBoxModel",
            "_view_count": null,
            "_view_module": "@jupyter-widgets/controls",
            "_view_module_version": "1.5.0",
            "_view_name": "HBoxView",
            "box_style": "",
            "children": [
              "IPY_MODEL_1ed5f2908ec94988b7ee524b76e7744d",
              "IPY_MODEL_6ef60cb6ffa74594ba7ccc1a666714ba",
              "IPY_MODEL_bc355950b3e1410cab9b5ecb913b27bf"
            ],
            "layout": "IPY_MODEL_8789303411924de7a2d66c30d9b4b6d9"
          }
        },
        "1ed5f2908ec94988b7ee524b76e7744d": {
          "model_module": "@jupyter-widgets/controls",
          "model_name": "HTMLModel",
          "model_module_version": "1.5.0",
          "state": {
            "_dom_classes": [],
            "_model_module": "@jupyter-widgets/controls",
            "_model_module_version": "1.5.0",
            "_model_name": "HTMLModel",
            "_view_count": null,
            "_view_module": "@jupyter-widgets/controls",
            "_view_module_version": "1.5.0",
            "_view_name": "HTMLView",
            "description": "",
            "description_tooltip": null,
            "layout": "IPY_MODEL_3e3f80e840194782a317cbd67dc05457",
            "placeholder": "​",
            "style": "IPY_MODEL_7fb31cb04d604120bc978d5119294792",
            "value": "model.safetensors: 100%"
          }
        },
        "6ef60cb6ffa74594ba7ccc1a666714ba": {
          "model_module": "@jupyter-widgets/controls",
          "model_name": "FloatProgressModel",
          "model_module_version": "1.5.0",
          "state": {
            "_dom_classes": [],
            "_model_module": "@jupyter-widgets/controls",
            "_model_module_version": "1.5.0",
            "_model_name": "FloatProgressModel",
            "_view_count": null,
            "_view_module": "@jupyter-widgets/controls",
            "_view_module_version": "1.5.0",
            "_view_name": "ProgressView",
            "bar_style": "success",
            "description": "",
            "description_tooltip": null,
            "layout": "IPY_MODEL_a88c6650cbad4918968281fbe44bdfcf",
            "max": 86523256,
            "min": 0,
            "orientation": "horizontal",
            "style": "IPY_MODEL_36c607e0352742559d272e9793408dba",
            "value": 86523256
          }
        },
        "bc355950b3e1410cab9b5ecb913b27bf": {
          "model_module": "@jupyter-widgets/controls",
          "model_name": "HTMLModel",
          "model_module_version": "1.5.0",
          "state": {
            "_dom_classes": [],
            "_model_module": "@jupyter-widgets/controls",
            "_model_module_version": "1.5.0",
            "_model_name": "HTMLModel",
            "_view_count": null,
            "_view_module": "@jupyter-widgets/controls",
            "_view_module_version": "1.5.0",
            "_view_name": "HTMLView",
            "description": "",
            "description_tooltip": null,
            "layout": "IPY_MODEL_c2657b15f9c847c089fd26ec4df7fa71",
            "placeholder": "​",
            "style": "IPY_MODEL_300b31a85cac40fb89d69ca152da3384",
            "value": " 86.5M/86.5M [00:00&lt;00:00, 259MB/s]"
          }
        },
        "8789303411924de7a2d66c30d9b4b6d9": {
          "model_module": "@jupyter-widgets/base",
          "model_name": "LayoutModel",
          "model_module_version": "1.2.0",
          "state": {
            "_model_module": "@jupyter-widgets/base",
            "_model_module_version": "1.2.0",
            "_model_name": "LayoutModel",
            "_view_count": null,
            "_view_module": "@jupyter-widgets/base",
            "_view_module_version": "1.2.0",
            "_view_name": "LayoutView",
            "align_content": null,
            "align_items": null,
            "align_self": null,
            "border": null,
            "bottom": null,
            "display": null,
            "flex": null,
            "flex_flow": null,
            "grid_area": null,
            "grid_auto_columns": null,
            "grid_auto_flow": null,
            "grid_auto_rows": null,
            "grid_column": null,
            "grid_gap": null,
            "grid_row": null,
            "grid_template_areas": null,
            "grid_template_columns": null,
            "grid_template_rows": null,
            "height": null,
            "justify_content": null,
            "justify_items": null,
            "left": null,
            "margin": null,
            "max_height": null,
            "max_width": null,
            "min_height": null,
            "min_width": null,
            "object_fit": null,
            "object_position": null,
            "order": null,
            "overflow": null,
            "overflow_x": null,
            "overflow_y": null,
            "padding": null,
            "right": null,
            "top": null,
            "visibility": null,
            "width": null
          }
        },
        "3e3f80e840194782a317cbd67dc05457": {
          "model_module": "@jupyter-widgets/base",
          "model_name": "LayoutModel",
          "model_module_version": "1.2.0",
          "state": {
            "_model_module": "@jupyter-widgets/base",
            "_model_module_version": "1.2.0",
            "_model_name": "LayoutModel",
            "_view_count": null,
            "_view_module": "@jupyter-widgets/base",
            "_view_module_version": "1.2.0",
            "_view_name": "LayoutView",
            "align_content": null,
            "align_items": null,
            "align_self": null,
            "border": null,
            "bottom": null,
            "display": null,
            "flex": null,
            "flex_flow": null,
            "grid_area": null,
            "grid_auto_columns": null,
            "grid_auto_flow": null,
            "grid_auto_rows": null,
            "grid_column": null,
            "grid_gap": null,
            "grid_row": null,
            "grid_template_areas": null,
            "grid_template_columns": null,
            "grid_template_rows": null,
            "height": null,
            "justify_content": null,
            "justify_items": null,
            "left": null,
            "margin": null,
            "max_height": null,
            "max_width": null,
            "min_height": null,
            "min_width": null,
            "object_fit": null,
            "object_position": null,
            "order": null,
            "overflow": null,
            "overflow_x": null,
            "overflow_y": null,
            "padding": null,
            "right": null,
            "top": null,
            "visibility": null,
            "width": null
          }
        },
        "7fb31cb04d604120bc978d5119294792": {
          "model_module": "@jupyter-widgets/controls",
          "model_name": "DescriptionStyleModel",
          "model_module_version": "1.5.0",
          "state": {
            "_model_module": "@jupyter-widgets/controls",
            "_model_module_version": "1.5.0",
            "_model_name": "DescriptionStyleModel",
            "_view_count": null,
            "_view_module": "@jupyter-widgets/base",
            "_view_module_version": "1.2.0",
            "_view_name": "StyleView",
            "description_width": ""
          }
        },
        "a88c6650cbad4918968281fbe44bdfcf": {
          "model_module": "@jupyter-widgets/base",
          "model_name": "LayoutModel",
          "model_module_version": "1.2.0",
          "state": {
            "_model_module": "@jupyter-widgets/base",
            "_model_module_version": "1.2.0",
            "_model_name": "LayoutModel",
            "_view_count": null,
            "_view_module": "@jupyter-widgets/base",
            "_view_module_version": "1.2.0",
            "_view_name": "LayoutView",
            "align_content": null,
            "align_items": null,
            "align_self": null,
            "border": null,
            "bottom": null,
            "display": null,
            "flex": null,
            "flex_flow": null,
            "grid_area": null,
            "grid_auto_columns": null,
            "grid_auto_flow": null,
            "grid_auto_rows": null,
            "grid_column": null,
            "grid_gap": null,
            "grid_row": null,
            "grid_template_areas": null,
            "grid_template_columns": null,
            "grid_template_rows": null,
            "height": null,
            "justify_content": null,
            "justify_items": null,
            "left": null,
            "margin": null,
            "max_height": null,
            "max_width": null,
            "min_height": null,
            "min_width": null,
            "object_fit": null,
            "object_position": null,
            "order": null,
            "overflow": null,
            "overflow_x": null,
            "overflow_y": null,
            "padding": null,
            "right": null,
            "top": null,
            "visibility": null,
            "width": null
          }
        },
        "36c607e0352742559d272e9793408dba": {
          "model_module": "@jupyter-widgets/controls",
          "model_name": "ProgressStyleModel",
          "model_module_version": "1.5.0",
          "state": {
            "_model_module": "@jupyter-widgets/controls",
            "_model_module_version": "1.5.0",
            "_model_name": "ProgressStyleModel",
            "_view_count": null,
            "_view_module": "@jupyter-widgets/base",
            "_view_module_version": "1.2.0",
            "_view_name": "StyleView",
            "bar_color": null,
            "description_width": ""
          }
        },
        "c2657b15f9c847c089fd26ec4df7fa71": {
          "model_module": "@jupyter-widgets/base",
          "model_name": "LayoutModel",
          "model_module_version": "1.2.0",
          "state": {
            "_model_module": "@jupyter-widgets/base",
            "_model_module_version": "1.2.0",
            "_model_name": "LayoutModel",
            "_view_count": null,
            "_view_module": "@jupyter-widgets/base",
            "_view_module_version": "1.2.0",
            "_view_name": "LayoutView",
            "align_content": null,
            "align_items": null,
            "align_self": null,
            "border": null,
            "bottom": null,
            "display": null,
            "flex": null,
            "flex_flow": null,
            "grid_area": null,
            "grid_auto_columns": null,
            "grid_auto_flow": null,
            "grid_auto_rows": null,
            "grid_column": null,
            "grid_gap": null,
            "grid_row": null,
            "grid_template_areas": null,
            "grid_template_columns": null,
            "grid_template_rows": null,
            "height": null,
            "justify_content": null,
            "justify_items": null,
            "left": null,
            "margin": null,
            "max_height": null,
            "max_width": null,
            "min_height": null,
            "min_width": null,
            "object_fit": null,
            "object_position": null,
            "order": null,
            "overflow": null,
            "overflow_x": null,
            "overflow_y": null,
            "padding": null,
            "right": null,
            "top": null,
            "visibility": null,
            "width": null
          }
        },
        "300b31a85cac40fb89d69ca152da3384": {
          "model_module": "@jupyter-widgets/controls",
          "model_name": "DescriptionStyleModel",
          "model_module_version": "1.5.0",
          "state": {
            "_model_module": "@jupyter-widgets/controls",
            "_model_module_version": "1.5.0",
            "_model_name": "DescriptionStyleModel",
            "_view_count": null,
            "_view_module": "@jupyter-widgets/base",
            "_view_module_version": "1.2.0",
            "_view_name": "StyleView",
            "description_width": ""
          }
        }
      }
    }
  },
  "nbformat": 4,
  "nbformat_minor": 0
}