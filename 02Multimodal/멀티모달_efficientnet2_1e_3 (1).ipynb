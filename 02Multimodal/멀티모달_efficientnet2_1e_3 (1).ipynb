{
  "cells": [
    {
      "cell_type": "markdown",
      "source": [
        "### [1] 패키지 불러오기"
      ],
      "metadata": {
        "id": "8eCyFsJgzeCf"
      }
    },
    {
      "cell_type": "code",
      "source": [
        "import os\n",
        "import json\n",
        "import torch\n",
        "import torch.nn as nn\n",
        "import torch.nn.functional as F\n",
        "import timm\n",
        "from torch.utils.data import DataLoader, Dataset\n",
        "from torchvision import transforms\n",
        "import torch.optim as optim\n",
        "from torch.optim import lr_scheduler\n",
        "from PIL import Image"
      ],
      "metadata": {
        "id": "oHROc_uf4ix7"
      },
      "execution_count": 1,
      "outputs": []
    },
    {
      "cell_type": "markdown",
      "source": [
        "### [2] Data transform 정의"
      ],
      "metadata": {
        "id": "Epb_upZUz68i"
      }
    },
    {
      "cell_type": "code",
      "execution_count": 2,
      "metadata": {
        "id": "nJH0sQWIruYx"
      },
      "outputs": [],
      "source": [
        "import torchvision.transforms as transforms\n",
        "\n",
        "# 사이즈 설정\n",
        "size = [230, 230]\n",
        "center_size = [224, 224]\n",
        "\n",
        "# 학습용 Transform\n",
        "TrainTransform = transforms.Compose([\n",
        "    transforms.Resize(size),\n",
        "    transforms.CenterCrop(center_size),\n",
        "    transforms.RandomRotation(20),\n",
        "    transforms.RandomHorizontalFlip(),\n",
        "    transforms.RandomVerticalFlip(),\n",
        "    transforms.ColorJitter(brightness=0.25, contrast=0.25, saturation=0.25, hue=0.02),\n",
        "    transforms.ToTensor(),\n",
        "    transforms.Normalize(mean=[0.485, 0.456, 0.406], std=[0.229, 0.224, 0.225])\n",
        "])\n",
        "\n",
        "# 검증/테스트용 Transform\n",
        "ValidTransform = transforms.Compose([\n",
        "    transforms.Resize(size),\n",
        "    transforms.CenterCrop(center_size),\n",
        "    transforms.ToTensor(),\n",
        "    transforms.Normalize(mean=[0.485, 0.456, 0.406], std=[0.229, 0.224, 0.225])\n",
        "])\n"
      ]
    },
    {
      "cell_type": "markdown",
      "metadata": {
        "id": "E39LCz-hseVB"
      },
      "source": [
        "### [3] Eye dataset 클래스"
      ]
    },
    {
      "cell_type": "code",
      "execution_count": 38,
      "metadata": {
        "id": "jjsK0mh2sXot"
      },
      "outputs": [],
      "source": [
        "import os\n",
        "import json\n",
        "from PIL import Image\n",
        "from torch.utils.data import Dataset\n",
        "import torch\n",
        "\n",
        "class NewEyeDataset(Dataset):\n",
        "    def __init__(self, data, image_path, transform=None):\n",
        "        self.data = data\n",
        "        self.image_path = image_path\n",
        "        self.transform = transform\n",
        "\n",
        "    def __len__(self):\n",
        "        return len(self.data)\n",
        "\n",
        "    def __getitem__(self, idx):\n",
        "        item = self.data[idx]\n",
        "\n",
        "        left_img = Image.open(os.path.join(self.image_path, item['left_eye'])).convert('RGB')\n",
        "        right_img = Image.open(os.path.join(self.image_path, item['right_eye'])).convert('RGB')\n",
        "\n",
        "        if self.transform:\n",
        "            left_img = self.transform(left_img)\n",
        "            right_img = self.transform(right_img)\n",
        "\n",
        "        label = torch.tensor(item['label'], dtype=torch.long)\n",
        "\n",
        "        return left_img, right_img, label\n",
        "\n",
        "    @classmethod\n",
        "    def from_json(cls, json_file, image_path, group_value=1, include_0_9mm=True, transform=None):\n",
        "        with open(json_file, 'r') as f:\n",
        "            raw_data = json.load(f)\n",
        "\n",
        "        usable_data = [\n",
        "            item for item in raw_data.values()\n",
        "            if item['group'] == group_value and (include_0_9mm or item['thickness'] != 0.9)\n",
        "        ]\n",
        "\n",
        "        print(f\"usable samples for group {group_value}: {len(usable_data)}\")\n",
        "        return cls(usable_data, image_path, transform)\n",
        ""
      ]
    },
    {
      "cell_type": "markdown",
      "source": [
        "### [4] 구글 드라이브 연동"
      ],
      "metadata": {
        "id": "M0kEZVwg0NrT"
      }
    },
    {
      "cell_type": "code",
      "source": [
        "from google.colab import drive\n",
        "drive.mount('/content/drive')"
      ],
      "metadata": {
        "colab": {
          "base_uri": "https://localhost:8080/"
        },
        "id": "VIpnFYkNt4-U",
        "outputId": "0f45e3d0-93ea-415f-f282-3d4d63427e01"
      },
      "execution_count": 4,
      "outputs": [
        {
          "output_type": "stream",
          "name": "stdout",
          "text": [
            "Mounted at /content/drive\n"
          ]
        }
      ]
    },
    {
      "cell_type": "markdown",
      "source": [
        "### [5] train_loader, val_loader, test_loader 구성"
      ],
      "metadata": {
        "id": "Lbb3Lgqb0Sw2"
      }
    },
    {
      "cell_type": "code",
      "source": [
        "from torch.utils.data import DataLoader\n",
        "\n",
        "# 경로 설정\n",
        "json_path = '/content/drive/MyDrive/cv_project/dataset/data_info.json'\n",
        "image_path = '/content/drive/MyDrive/cv_project/dataset/train_images/Fundus_CIMT_2903 Dataset'\n",
        "\n",
        "# 데이터셋 생성\n",
        "train_dataset = NewEyeDataset.from_json(json_file=json_path, image_path=image_path, group_value=1, transform=TrainTransform)\n",
        "val_dataset = NewEyeDataset.from_json(json_file=json_path, image_path=image_path, group_value=2, transform=ValidTransform)\n",
        "test_dataset = NewEyeDataset.from_json(json_file=json_path, image_path=image_path, group_value=3, transform=ValidTransform)\n",
        "\n",
        "# 최적화된 데이터로더\n",
        "train_loader = DataLoader(train_dataset, batch_size=16, shuffle=True, num_workers=2, pin_memory=True)\n",
        "val_loader = DataLoader(val_dataset, batch_size=16, shuffle=False, num_workers=2, pin_memory=True)\n",
        "test_loader = DataLoader(test_dataset, batch_size=16, shuffle=False, num_workers=2, pin_memory=True)\n"
      ],
      "metadata": {
        "colab": {
          "base_uri": "https://localhost:8080/"
        },
        "id": "ohdRvVYMtQ26",
        "outputId": "690556e1-be14-4999-da7f-be705bf860f1"
      },
      "execution_count": 39,
      "outputs": [
        {
          "output_type": "stream",
          "name": "stdout",
          "text": [
            "usable samples for group 1: 2603\n",
            "usable samples for group 2: 200\n",
            "usable samples for group 3: 100\n"
          ]
        }
      ]
    },
    {
      "cell_type": "markdown",
      "source": [
        "### [6] 모델 정의"
      ],
      "metadata": {
        "id": "L8BVVQwl0bgO"
      }
    },
    {
      "cell_type": "code",
      "source": [
        "import torch.nn as nn\n",
        "import timm\n",
        "import torch\n",
        "\n",
        "class SiameseEfficientNetV2Classifier(nn.Module):\n",
        "    def __init__(self, dropout_p=0.3):\n",
        "        super(SiameseEfficientNetV2Classifier, self).__init__()\n",
        "        self.backbone = timm.create_model('tf_efficientnetv2_s.in1k', pretrained=True, num_classes=0)\n",
        "        self.dropout = nn.Dropout(dropout_p)\n",
        "\n",
        "        # EfficientNetV2 output feature size = 1280\n",
        "        self.classifier = nn.Sequential(\n",
        "            nn.Linear(1280 * 2, 512),\n",
        "            nn.ReLU(),\n",
        "            nn.Dropout(dropout_p),\n",
        "            nn.Linear(512, 2)  # Binary classification\n",
        "        )\n",
        "\n",
        "    def forward(self, left, right):\n",
        "        left_feat = self.backbone(left)    # (batch, 1280)\n",
        "        right_feat = self.backbone(right)  # (batch, 1280)\n",
        "\n",
        "        combined = torch.cat((left_feat, right_feat), dim=1)  # (batch, 2560)\n",
        "        combined = self.dropout(combined)\n",
        "\n",
        "        output = self.classifier(combined)\n",
        "        return output\n",
        ""
      ],
      "metadata": {
        "id": "ywGbN0T2t35V"
      },
      "execution_count": 40,
      "outputs": []
    },
    {
      "cell_type": "markdown",
      "source": [
        "### [7] FocalLoss 클래스 정의"
      ],
      "metadata": {
        "id": "TRbNvRWG007C"
      }
    },
    {
      "cell_type": "code",
      "source": [
        "import torch\n",
        "import torch.nn as nn\n",
        "import torch.nn.functional as F\n",
        "\n",
        "class FocalLoss(nn.Module):\n",
        "    def __init__(self, alpha=1, gamma=2, reduction='mean'):\n",
        "        super(FocalLoss, self).__init__()\n",
        "        self.alpha = alpha\n",
        "        self.gamma = gamma\n",
        "        self.reduction = reduction\n",
        "\n",
        "    def forward(self, inputs, targets):\n",
        "        CE_loss = F.cross_entropy(inputs, targets, reduction='none')\n",
        "        pt = torch.exp(-CE_loss)\n",
        "        focal_loss = self.alpha * (1 - pt) ** self.gamma * CE_loss\n",
        "\n",
        "        if self.reduction == 'mean':\n",
        "            return focal_loss.mean()\n",
        "        elif self.reduction == 'sum':\n",
        "            return focal_loss.sum()\n",
        "        else:\n",
        "            return focal_loss\n"
      ],
      "metadata": {
        "id": "8ak20Qk-v4Dn"
      },
      "execution_count": 41,
      "outputs": []
    },
    {
      "cell_type": "markdown",
      "source": [
        "### [8] 학습 루프 + loss 그래프"
      ],
      "metadata": {
        "id": "OM2Tn1wj07di"
      }
    },
    {
      "cell_type": "code",
      "source": [
        "import json\n",
        "import matplotlib.pyplot as plt\n",
        "import torch\n",
        "import torch.nn as nn\n",
        "import torch.optim as optim\n",
        "from torch.optim import lr_scheduler\n",
        "\n",
        "# 디바이스 설정\n",
        "device = torch.device(\"cuda\" if torch.cuda.is_available() else \"cpu\")\n",
        "\n",
        "# 모델 초기화\n",
        "model = SiameseEfficientNetV2Classifier(dropout_p=0.3).to(device)\n",
        "\n",
        "# 손실 함수\n",
        "criterion = FocalLoss()\n",
        "\n",
        "# 옵티마이저 (AdamW)\n",
        "optimizer = optim.AdamW(model.parameters(), lr=1e-3, weight_decay=1e-4)\n",
        "\n",
        "# 학습률 스케줄러\n",
        "scheduler = lr_scheduler.StepLR(optimizer, step_size=20, gamma=0.1)\n",
        "\n",
        "# 하이퍼파라미터\n",
        "epochs = 20\n",
        "best_val_loss = float('inf')\n",
        "\n",
        "# 손실 저장 리스트\n",
        "train_losses = []\n",
        "val_losses = []\n",
        "val_accuracies = []\n",
        "\n",
        "# 학습 루프\n",
        "for epoch in range(epochs):\n",
        "    model.train()\n",
        "    running_loss = 0.0\n",
        "\n",
        "    for left, right, labels in train_loader:\n",
        "        left, right, labels = left.to(device), right.to(device), labels.to(device)\n",
        "\n",
        "        optimizer.zero_grad()\n",
        "        outputs = model(left, right)\n",
        "        loss = criterion(outputs, labels)\n",
        "        loss.backward()\n",
        "        optimizer.step()\n",
        "\n",
        "        running_loss += loss.item()\n",
        "\n",
        "    # Validation\n",
        "    model.eval()\n",
        "    val_loss = 0.0\n",
        "    correct = 0\n",
        "    total = 0\n",
        "\n",
        "    with torch.no_grad():\n",
        "        for left, right, labels in val_loader:\n",
        "            left, right, labels = left.to(device), right.to(device), labels.to(device)\n",
        "\n",
        "            outputs = model(left, right)\n",
        "            loss = criterion(outputs, labels)\n",
        "            val_loss += loss.item()\n",
        "\n",
        "            preds = torch.argmax(outputs, dim=1)\n",
        "            correct += (preds == labels).sum().item()\n",
        "            total += labels.size(0)\n",
        "\n",
        "    val_accuracy = correct / total\n",
        "    avg_train_loss = running_loss / len(train_loader)\n",
        "    avg_val_loss = val_loss / len(val_loader)\n",
        "\n",
        "    train_losses.append(avg_train_loss)\n",
        "    val_losses.append(avg_val_loss)\n",
        "    val_accuracies.append(val_accuracy)\n",
        "\n",
        "    scheduler.step()\n",
        "\n",
        "    # Best 모델 저장\n",
        "    if avg_val_loss < best_val_loss:\n",
        "        best_val_loss = avg_val_loss\n",
        "        torch.save(model.state_dict(), '/content/drive/MyDrive/cv_project/01unimodal/best_effnetv23_1e-3.pth')\n",
        "        print(f\"Best model updated at epoch {epoch+1} (Val Loss: {best_val_loss:.4f})\")\n",
        "\n",
        "    print(f\"Epoch {epoch+1}/{epochs} | Train Loss: {avg_train_loss:.4f} | Val Loss: {avg_val_loss:.4f} | \"\n",
        "          f\"Val Acc: {val_accuracy:.4f} | LR: {scheduler.get_last_lr()[0]:.6f}\")\n",
        "\n",
        "# 손실 기록 저장\n",
        "loss_history = {\n",
        "    'train_loss': train_losses,\n",
        "    'val_loss': val_losses,\n",
        "    'val_accuracy': val_accuracies\n",
        "}\n",
        "\n",
        "with open('/content/drive/MyDrive/cv_project/01unimodal/loss_history_best_effnetv23_1e-3.json', 'w') as f:\n",
        "    json.dump(loss_history, f, indent=2)\n",
        "\n",
        "print(\"loss_history_best_effnetv23_1e-3.json 저장 완료!\")\n"
      ],
      "metadata": {
        "id": "wRRHK-56wxkC",
        "colab": {
          "base_uri": "https://localhost:8080/"
        },
        "outputId": "391de9eb-e8f9-44f4-b035-9151b1b08ce9"
      },
      "execution_count": 46,
      "outputs": [
        {
          "output_type": "stream",
          "name": "stdout",
          "text": [
            "Best model updated at epoch 1 (Val Loss: 0.1647)\n",
            "Epoch 1/20 | Train Loss: 0.1443 | Val Loss: 0.1647 | Val Acc: 0.6950 | LR: 0.001000\n",
            "Epoch 2/20 | Train Loss: 0.1322 | Val Loss: 0.1729 | Val Acc: 0.5400 | LR: 0.001000\n",
            "Epoch 3/20 | Train Loss: 0.1305 | Val Loss: 0.1817 | Val Acc: 0.6350 | LR: 0.001000\n",
            "Best model updated at epoch 4 (Val Loss: 0.1527)\n",
            "Epoch 4/20 | Train Loss: 0.1270 | Val Loss: 0.1527 | Val Acc: 0.7250 | LR: 0.001000\n",
            "Epoch 5/20 | Train Loss: 0.1236 | Val Loss: 0.1747 | Val Acc: 0.5850 | LR: 0.001000\n",
            "Epoch 6/20 | Train Loss: 0.1238 | Val Loss: 0.1832 | Val Acc: 0.5950 | LR: 0.001000\n",
            "Epoch 7/20 | Train Loss: 0.1198 | Val Loss: 0.1727 | Val Acc: 0.6850 | LR: 0.001000\n",
            "Epoch 8/20 | Train Loss: 0.1223 | Val Loss: 0.2005 | Val Acc: 0.6400 | LR: 0.001000\n",
            "Epoch 9/20 | Train Loss: 0.1205 | Val Loss: 0.1649 | Val Acc: 0.7050 | LR: 0.001000\n",
            "Epoch 10/20 | Train Loss: 0.1209 | Val Loss: 0.1575 | Val Acc: 0.6750 | LR: 0.001000\n",
            "Epoch 11/20 | Train Loss: 0.1202 | Val Loss: 0.1981 | Val Acc: 0.6650 | LR: 0.001000\n",
            "Epoch 12/20 | Train Loss: 0.1203 | Val Loss: 0.1900 | Val Acc: 0.6900 | LR: 0.001000\n",
            "Epoch 13/20 | Train Loss: 0.1221 | Val Loss: 0.1588 | Val Acc: 0.6900 | LR: 0.001000\n",
            "Epoch 14/20 | Train Loss: 0.1226 | Val Loss: 0.1598 | Val Acc: 0.6350 | LR: 0.001000\n",
            "Epoch 15/20 | Train Loss: 0.1204 | Val Loss: 0.2012 | Val Acc: 0.5850 | LR: 0.001000\n",
            "Epoch 16/20 | Train Loss: 0.1230 | Val Loss: 0.1852 | Val Acc: 0.6600 | LR: 0.001000\n",
            "Best model updated at epoch 17 (Val Loss: 0.1473)\n",
            "Epoch 17/20 | Train Loss: 0.1188 | Val Loss: 0.1473 | Val Acc: 0.6950 | LR: 0.001000\n",
            "Epoch 18/20 | Train Loss: 0.1213 | Val Loss: 0.1674 | Val Acc: 0.6600 | LR: 0.001000\n",
            "Epoch 19/20 | Train Loss: 0.1213 | Val Loss: 0.1537 | Val Acc: 0.6900 | LR: 0.001000\n",
            "Epoch 20/20 | Train Loss: 0.1201 | Val Loss: 0.1631 | Val Acc: 0.6650 | LR: 0.000100\n",
            "loss_history_best_effnetv23_1e-3.json 저장 완료!\n"
          ]
        }
      ]
    },
    {
      "cell_type": "code",
      "source": [
        "# 학습 종료 후 그래프 시각화\n",
        "plt.figure(figsize=(8, 5))\n",
        "plt.plot(train_losses, label='Train Loss')\n",
        "plt.plot(val_losses, label='Validation Loss')\n",
        "plt.xlabel('Epoch')\n",
        "plt.ylabel('Loss')\n",
        "plt.title('Training vs Validation Loss')\n",
        "plt.legend()\n",
        "plt.grid(True)\n",
        "plt.show()\n"
      ],
      "metadata": {
        "colab": {
          "base_uri": "https://localhost:8080/",
          "height": 487
        },
        "id": "09w34TLU_C3u",
        "outputId": "814efc25-90df-4b50-fed4-d0162000b049"
      },
      "execution_count": 47,
      "outputs": [
        {
          "output_type": "display_data",
          "data": {
            "text/plain": [
              "<Figure size 800x500 with 1 Axes>"
            ],
            "image/png": "[encoded data removed]"
          },
          "metadata": {}
        }
      ]
    },
    {
      "cell_type": "markdown",
      "source": [
        "### [9] predict_result.json 저장"
      ],
      "metadata": {
        "id": "0QXYSyEW1dvW"
      }
    },
    {
      "cell_type": "code",
      "source": [
        "from tqdm import tqdm\n",
        "import torch\n",
        "import json\n",
        "\n",
        "# 모델 로드\n",
        "model = SiameseEfficientNetV2Classifier(dropout_p=0.3).to(device)\n",
        "model.load_state_dict(torch.load('/content/drive/MyDrive/cv_project/01unimodal/best_effnetv23_1e-3.pth'))\n",
        "model.eval()\n",
        "\n",
        "# 예측 수행\n",
        "results = []\n",
        "\n",
        "with torch.no_grad():\n",
        "    for left, right, labels in tqdm(test_loader, desc=\"Predicting\"):\n",
        "        left, right = left.to(device), right.to(device)\n",
        "        outputs = model(left, right)\n",
        "        probs = torch.softmax(outputs, dim=1)\n",
        "        preds = torch.argmax(probs, dim=1)\n",
        "\n",
        "        for true, pred, prob in zip(labels.cpu(), preds.cpu(), probs[:, 1].cpu()):\n",
        "            results.append({\n",
        "                \"true_label\": int(true.item()),\n",
        "                \"pred_label\": int(pred.item()),\n",
        "                \"prob_thickened\": float(prob.item())  # class 1 (두꺼워진) 확률\n",
        "            })\n",
        "\n",
        "# 결과 저장\n",
        "output_path = \"/content/drive/MyDrive/cv_project/01unimodal/predict_result_best_effnetv23_1e-3.json\"\n",
        "with open(output_path, \"w\") as f:\n",
        "    json.dump(results, f, indent=2)\n",
        "\n",
        "print(f\"예측 결과 저장 완료: {output_path}\")\n"
      ],
      "metadata": {
        "colab": {
          "base_uri": "https://localhost:8080/"
        },
        "id": "LStZ3-lzydnR",
        "outputId": "72adf21f-4699-49dc-c7c1-9d84bf9dc861"
      },
      "execution_count": 48,
      "outputs": [
        {
          "output_type": "stream",
          "name": "stderr",
          "text": [
            "Predicting: 100%|██████████| 7/7 [00:01<00:00,  4.05it/s]"
          ]
        },
        {
          "output_type": "stream",
          "name": "stdout",
          "text": [
            "예측 결과 저장 완료: /content/drive/MyDrive/cv_project/01unimodal/predict_result_best_effnetv23_1e-3.json\n"
          ]
        },
        {
          "output_type": "stream",
          "name": "stderr",
          "text": [
            "\n"
          ]
        }
      ]
    },
    {
      "cell_type": "markdown",
      "source": [
        "### [10] 평가 + AUC Curve 그리기"
      ],
      "metadata": {
        "id": "1RoExT701lNO"
      }
    },
    {
      "cell_type": "code",
      "source": [
        "import json\n",
        "import numpy as np\n",
        "from sklearn.metrics import roc_curve, roc_auc_score, classification_report, confusion_matrix\n",
        "import matplotlib.pyplot as plt\n",
        "\n",
        "# 예측 결과 불러오기\n",
        "with open(\"/content/drive/MyDrive/cv_project/01unimodal/predict_result_best_effnetv23_1e-3.json\", \"r\") as f:\n",
        "    results = json.load(f)\n",
        "\n",
        "# true, pred, prob 분리\n",
        "y_true = [r[\"true_label\"] for r in results]\n",
        "y_pred = [r[\"pred_label\"] for r in results]\n",
        "y_prob = [r[\"prob_thickened\"] for r in results]\n",
        "\n",
        "# AUC-ROC 계산\n",
        "fpr, tpr, thresholds = roc_curve(y_true, y_prob)\n",
        "auc_score = roc_auc_score(y_true, y_prob)\n",
        "\n",
        "# ROC Curve 그리기\n",
        "plt.figure(figsize=(8, 6))\n",
        "plt.plot(fpr, tpr, label=f\"AUC = {auc_score:.4f}\")\n",
        "plt.plot([0, 1], [0, 1], linestyle='--', color='gray')\n",
        "plt.xlabel(\"False Positive Rate\")\n",
        "plt.ylabel(\"True Positive Rate\")\n",
        "plt.title(\"ROC Curve (SiameseEffNetV2 Classifier)\")\n",
        "plt.legend()\n",
        "plt.grid(True)\n",
        "plt.tight_layout()\n",
        "plt.show()\n",
        "\n",
        "# 추가 성능 출력\n",
        "accuracy = np.mean(np.array(y_true) == np.array(y_pred))\n",
        "print(f\"정확도 (Accuracy): {accuracy:.4f}\")\n",
        "print(f\"AUC-ROC: {auc_score:.4f}\")\n",
        "print(\"\\n분류 리포트:\")\n",
        "print(classification_report(y_true, y_pred, target_names=[\"Normal\", \"Thickened\"]))\n",
        "print(\"\\nConfusion Matrix:\")\n",
        "print(confusion_matrix(y_true, y_pred))\n"
      ],
      "metadata": {
        "colab": {
          "base_uri": "https://localhost:8080/",
          "height": 916
        },
        "id": "K1CaQ28jWhJc",
        "outputId": "6558d2e3-64c4-4a37-c2fc-66b1fc9336f5"
      },
      "execution_count": 49,
      "outputs": [
        {
          "output_type": "display_data",
          "data": {
            "text/plain": [
              "<Figure size 800x600 with 1 Axes>"
            ],
            "image/png": "[encoded data removed]"
          },
          "metadata": {}
        },
        {
          "output_type": "stream",
          "name": "stdout",
          "text": [
            "정확도 (Accuracy): 0.7800\n",
            "AUC-ROC: 0.8568\n",
            "\n",
            "분류 리포트:\n",
            "              precision    recall  f1-score   support\n",
            "\n",
            "      Normal       0.97      0.58      0.72        50\n",
            "   Thickened       0.70      0.98      0.82        50\n",
            "\n",
            "    accuracy                           0.78       100\n",
            "   macro avg       0.83      0.78      0.77       100\n",
            "weighted avg       0.83      0.78      0.77       100\n",
            "\n",
            "\n",
            "Confusion Matrix:\n",
            "[[29 21]\n",
            " [ 1 49]]\n"
          ]
        }
      ]
    },
    {
      "cell_type": "markdown",
      "source": [
        "\n",
        "\n",
        "---\n",
        "\n",
        "\n",
        "## 전체 성능 요약\n",
        "[단일모달 모델]\n",
        "- 정확도 (Accuracy): 75.00%\n",
        "- AUC-ROC: 82.58%\n",
        "\n",
        "[현재 모델]\n",
        "- 학습률: 1e-4\n",
        "- 정확도 (Accuracy): 77.00%\n",
        "- AUC-ROC: 85.08%"
      ],
      "metadata": {
        "id": "sO2DfaP-1CS9"
      }
    },
    {
      "cell_type": "code",
      "source": [],
      "metadata": {
        "id": "SQ1YX4KD6jZ7"
      },
      "execution_count": null,
      "outputs": []
    }
  ],
  "metadata": {
    "accelerator": "GPU",
    "colab": {
      "gpuType": "L4",
      "machine_shape": "hm",
      "provenance": []
    },
    "kernelspec": {
      "display_name": "Python 3",
      "name": "python3"
    },
    "language_info": {
      "name": "python"
    }
  },
  "nbformat": 4,
  "nbformat_minor": 0
}