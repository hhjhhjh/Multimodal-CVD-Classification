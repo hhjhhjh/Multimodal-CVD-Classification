{
 "cells": [
  {
   "cell_type": "markdown",
   "metadata": {
    "id": "8eCyFsJgzeCf"
   },
   "source": [
    "### [1] 패키지 불러오기 "
   ]
  },
  {
   "cell_type": "code",
   "execution_count": null,
   "metadata": {
    "id": "oHROc_uf4ix7"
   },
   "outputs": [],
   "source": [
    "import os\n",
    "import json\n",
    "import torch\n",
    "import torch.nn as nn\n",
    "import torch.nn.functional as F\n",
    "import timm\n",
    "from torch.utils.data import DataLoader, Dataset\n",
    "from torchvision import transforms\n",
    "import torch.optim as optim\n",
    "from torch.optim import lr_scheduler\n",
    "from PIL import Image"
   ]
  },
  {
   "cell_type": "markdown",
   "metadata": {
    "id": "Epb_upZUz68i"
   },
   "source": [
    "### [2] Data transform 정의"
   ]
  },
  {
   "cell_type": "code",
   "execution_count": null,
   "metadata": {
    "id": "nJH0sQWIruYx"
   },
   "outputs": [],
   "source": [
    "import torchvision.transforms as transforms\n",
    "\n",
    "# 사이즈 설정\n",
    "size = [230, 230]\n",
    "center_size = [224, 224]\n",
    "\n",
    "# 학습용 Transform\n",
    "TrainTransform = transforms.Compose([\n",
    "    transforms.Resize(size),\n",
    "    transforms.CenterCrop(center_size),\n",
    "    transforms.RandomRotation(20),\n",
    "    transforms.RandomHorizontalFlip(),\n",
    "    transforms.RandomVerticalFlip(),\n",
    "    transforms.ColorJitter(brightness=0.25, contrast=0.25, saturation=0.25, hue=0.02),\n",
    "    transforms.ToTensor(),\n",
    "    transforms.Normalize(mean=[0.485, 0.456, 0.406], std=[0.229, 0.224, 0.225])\n",
    "])\n",
    "\n",
    "# 검증/테스트용 Transform\n",
    "ValidTransform = transforms.Compose([\n",
    "    transforms.Resize(size),\n",
    "    transforms.CenterCrop(center_size),\n",
    "    transforms.ToTensor(),\n",
    "    transforms.Normalize(mean=[0.485, 0.456, 0.406], std=[0.229, 0.224, 0.225])\n",
    "])\n"
   ]
  },
  {
   "cell_type": "markdown",
   "metadata": {
    "id": "E39LCz-hseVB"
   },
   "source": [
    "### [3] Eye dataset 클래스"
   ]
  },
  {
   "cell_type": "code",
   "execution_count": null,
   "metadata": {
    "id": "jjsK0mh2sXot"
   },
   "outputs": [],
   "source": [
    "import os\n",
    "import json\n",
    "from PIL import Image\n",
    "from torch.utils.data import Dataset\n",
    "import torch\n",
    "\n",
    "class NewEyeDataset(Dataset):\n",
    "    def __init__(self, data, image_path, transform=None):\n",
    "        self.data = data\n",
    "        self.image_path = image_path\n",
    "        self.transform = transform\n",
    "\n",
    "    def __len__(self):\n",
    "        return len(self.data)\n",
    "\n",
    "    def __getitem__(self, idx):\n",
    "        item = self.data[idx]\n",
    "\n",
    "        left_img = Image.open(os.path.join(self.image_path, item['left_eye'])).convert('RGB')\n",
    "        right_img = Image.open(os.path.join(self.image_path, item['right_eye'])).convert('RGB')\n",
    "\n",
    "        if self.transform:\n",
    "            left_img = self.transform(left_img)\n",
    "            right_img = self.transform(right_img)\n",
    "\n",
    "        label = torch.tensor(item['label'], dtype=torch.long)\n",
    "\n",
    "        return left_img, right_img, label\n",
    "\n",
    "    @classmethod\n",
    "    def from_json(cls, json_file, image_path, group_value=1, include_0_9mm=True, transform=None):\n",
    "        with open(json_file, 'r') as f:\n",
    "            raw_data = json.load(f)\n",
    "\n",
    "        usable_data = [\n",
    "            item for item in raw_data.values()\n",
    "            if item['group'] == group_value and (include_0_9mm or item['thickness'] != 0.9)\n",
    "        ]\n",
    "\n",
    "        print(f\"usable samples for group {group_value}: {len(usable_data)}\")\n",
    "        return cls(usable_data, image_path, transform)\n"
   ]
  },
  {
   "cell_type": "markdown",
   "metadata": {
    "id": "M0kEZVwg0NrT"
   },
   "source": [
    "### [4] 구글 드라이브 연동"
   ]
  },
  {
   "cell_type": "code",
   "execution_count": null,
   "metadata": {
    "colab": {
     "base_uri": "https://localhost:8080/"
    },
    "id": "VIpnFYkNt4-U",
    "outputId": "6dcf53c9-88bc-4b38-b0ab-88b2f671d328"
   },
   "outputs": [
    {
     "name": "stdout",
     "output_type": "stream",
     "text": [
      "Mounted at /content/drive\n"
     ]
    }
   ],
   "source": [
    "from google.colab import drive\n",
    "drive.mount('/content/drive')"
   ]
  },
  {
   "cell_type": "markdown",
   "metadata": {
    "id": "Lbb3Lgqb0Sw2"
   },
   "source": [
    "### [5] train_loader, val_loader, test_loader 구성"
   ]
  },
  {
   "cell_type": "code",
   "execution_count": null,
   "metadata": {
    "colab": {
     "base_uri": "https://localhost:8080/"
    },
    "id": "ohdRvVYMtQ26",
    "outputId": "5f6132d7-4039-4660-e443-1e080f7e8549"
   },
   "outputs": [
    {
     "name": "stdout",
     "output_type": "stream",
     "text": [
      "usable samples for group 1: 2603\n",
      "usable samples for group 2: 200\n",
      "usable samples for group 3: 100\n"
     ]
    }
   ],
   "source": [
    "from torch.utils.data import DataLoader\n",
    "\n",
    "# 경로 설정\n",
    "json_path = '/content/drive/MyDrive/cv_project/dataset/data_info.json'\n",
    "image_path = '/content/drive/MyDrive/cv_project/dataset/train_images/Fundus_CIMT_2903 Dataset'\n",
    "\n",
    "# 데이터셋 생성\n",
    "train_dataset = NewEyeDataset.from_json(json_file=json_path, image_path=image_path, group_value=1, transform=TrainTransform)\n",
    "val_dataset = NewEyeDataset.from_json(json_file=json_path, image_path=image_path, group_value=2, transform=ValidTransform)\n",
    "test_dataset = NewEyeDataset.from_json(json_file=json_path, image_path=image_path, group_value=3, transform=ValidTransform)\n",
    "\n",
    "# 최적화된 데이터로더\n",
    "train_loader = DataLoader(train_dataset, batch_size=16, shuffle=True, num_workers=2, pin_memory=True)\n",
    "val_loader = DataLoader(val_dataset, batch_size=16, shuffle=False, num_workers=2, pin_memory=True)\n",
    "test_loader = DataLoader(test_dataset, batch_size=16, shuffle=False, num_workers=2, pin_memory=True)\n"
   ]
  },
  {
   "cell_type": "markdown",
   "metadata": {
    "id": "L8BVVQwl0bgO"
   },
   "source": [
    "### [6] SiameseSeResNeXtdropout 모델 정의"
   ]
  },
  {
   "cell_type": "code",
   "execution_count": null,
   "metadata": {
    "id": "ywGbN0T2t35V"
   },
   "outputs": [],
   "source": [
    "import torch\n",
    "import torch.nn as nn\n",
    "import timm\n",
    "\n",
    "class SiameseSeResNeXtdropout(nn.Module):\n",
    "    def __init__(self):\n",
    "        super(SiameseSeResNeXtdropout, self).__init__()\n",
    "        # backbone 변경: seresnext50_32x4d.racm_in1k\n",
    "        self.backbone = timm.create_model('seresnext50_32x4d.racm_in1k', pretrained=True, num_classes=0)\n",
    "\n",
    "        # backbone feature dimension은 2048 → 두 개 concatenate하면 4096\n",
    "        self.dropout = nn.Dropout(0.5)\n",
    "\n",
    "        self.classifier = nn.Sequential(\n",
    "            nn.Linear(4096, 512),\n",
    "            nn.ReLU(),\n",
    "            nn.Dropout(0.3),\n",
    "            nn.Linear(512, 2)  # Binary classification (Normal / Thickened)\n",
    "        )\n",
    "\n",
    "    def forward(self, left, right):\n",
    "        left_feat = self.backbone(left)    # (batch, 2048)\n",
    "        right_feat = self.backbone(right)  # (batch, 2048)\n",
    "\n",
    "        combined = torch.cat((left_feat, right_feat), dim=1)  # (batch, 4096)\n",
    "        combined = self.dropout(combined)  # backbone feature 뒤에 dropout(0.5)\n",
    "\n",
    "        output = self.classifier(combined)\n",
    "\n",
    "        return output\n"
   ]
  },
  {
   "cell_type": "markdown",
   "metadata": {
    "id": "TRbNvRWG007C"
   },
   "source": [
    "### [7] FocalLoss 클래스 정의"
   ]
  },
  {
   "cell_type": "code",
   "execution_count": null,
   "metadata": {
    "id": "8ak20Qk-v4Dn"
   },
   "outputs": [],
   "source": [
    "import torch\n",
    "import torch.nn as nn\n",
    "import torch.nn.functional as F\n",
    "\n",
    "class FocalLoss(nn.Module):\n",
    "    def __init__(self, alpha=1, gamma=2, reduction='mean'):\n",
    "        super(FocalLoss, self).__init__()\n",
    "        self.alpha = alpha\n",
    "        self.gamma = gamma\n",
    "        self.reduction = reduction\n",
    "\n",
    "    def forward(self, inputs, targets):\n",
    "        CE_loss = F.cross_entropy(inputs, targets, reduction='none')\n",
    "        pt = torch.exp(-CE_loss)\n",
    "        focal_loss = self.alpha * (1 - pt) ** self.gamma * CE_loss\n",
    "\n",
    "        if self.reduction == 'mean':\n",
    "            return focal_loss.mean()\n",
    "        elif self.reduction == 'sum':\n",
    "            return focal_loss.sum()\n",
    "        else:\n",
    "            return focal_loss\n"
   ]
  },
  {
   "cell_type": "markdown",
   "metadata": {
    "id": "OM2Tn1wj07di"
   },
   "source": [
    "### [8] 학습 루프 + loss 그래프"
   ]
  },
  {
   "cell_type": "code",
   "execution_count": null,
   "metadata": {
    "colab": {
     "base_uri": "https://localhost:8080/",
     "height": 1000,
     "referenced_widgets": [
      "c0e18ae423c949a6ad4c92dbdaf8a513",
      "9dfe4966d29149feacb697ca7a116f2f",
      "5d2dd7a21d3944cea514fb0887ed0934",
      "d2dabfc29cc24cafbde583fc24530e77",
      "810f01ddd580436aa3828bfcc2fe6b59",
      "db6a092d96754324adc357e8eb9dadbd",
      "c19a390fb7734616811219cc3c700e55",
      "a71bfc95f154431db98516c76879e955",
      "7f99b1a8d2284cc59b3e530a21c89f36",
      "33176394d0634234a8244c0e9c1365bf",
      "4d0fdc18ab0145b18b52b0e8e467dc0e"
     ]
    },
    "id": "wRRHK-56wxkC",
    "outputId": "9b4d9120-064a-4ab9-9733-aa90790e719f"
   },
   "outputs": [
    {
     "name": "stderr",
     "output_type": "stream",
     "text": [
      "/usr/local/lib/python3.11/dist-packages/huggingface_hub/utils/_auth.py:94: UserWarning: \n",
      "The secret `HF_TOKEN` does not exist in your Colab secrets.\n",
      "To authenticate with the Hugging Face Hub, create a token in your settings tab (https://huggingface.co/settings/tokens), set it as secret in your Google Colab and restart your session.\n",
      "You will be able to reuse this secret in all of your notebooks.\n",
      "Please note that authentication is recommended but still optional to access public models or datasets.\n",
      "  warnings.warn(\n"
     ]
    },
    {
     "data": {
      "application/vnd.jupyter.widget-view+json": {
       "model_id": "c0e18ae423c949a6ad4c92dbdaf8a513",
       "version_major": 2,
       "version_minor": 0
      },
      "text/plain": [
       "model.safetensors:   0%|          | 0.00/111M [00:00<?, ?B/s]"
      ]
     },
     "metadata": {},
     "output_type": "display_data"
    },
    {
     "name": "stdout",
     "output_type": "stream",
     "text": [
      "Best model updated at epoch 1 (Val Loss: 0.1804)\n",
      "Epoch 1/50 | Train Loss: 0.1415 | Val Loss: 0.1804 | Val Acc: 0.5000 | LR: 0.001000\n",
      "Epoch 2/50 | Train Loss: 0.1296 | Val Loss: 0.1815 | Val Acc: 0.6450 | LR: 0.001000\n",
      "Epoch 3/50 | Train Loss: 0.1240 | Val Loss: 0.1806 | Val Acc: 0.6350 | LR: 0.001000\n",
      "Best model updated at epoch 4 (Val Loss: 0.1436)\n",
      "Epoch 4/50 | Train Loss: 0.1243 | Val Loss: 0.1436 | Val Acc: 0.7350 | LR: 0.001000\n",
      "Epoch 5/50 | Train Loss: 0.1208 | Val Loss: 0.1577 | Val Acc: 0.6900 | LR: 0.001000\n",
      "Epoch 6/50 | Train Loss: 0.1261 | Val Loss: 0.3222 | Val Acc: 0.6650 | LR: 0.001000\n",
      "Epoch 7/50 | Train Loss: 0.1275 | Val Loss: 0.1544 | Val Acc: 0.6950 | LR: 0.001000\n",
      "Epoch 8/50 | Train Loss: 0.1222 | Val Loss: 0.1546 | Val Acc: 0.6650 | LR: 0.001000\n",
      "Epoch 9/50 | Train Loss: 0.1219 | Val Loss: 0.2071 | Val Acc: 0.6950 | LR: 0.001000\n",
      "Epoch 10/50 | Train Loss: 0.1207 | Val Loss: 0.1633 | Val Acc: 0.6850 | LR: 0.001000\n",
      "Epoch 11/50 | Train Loss: 0.1187 | Val Loss: 0.1451 | Val Acc: 0.6850 | LR: 0.001000\n",
      "Epoch 12/50 | Train Loss: 0.1193 | Val Loss: 0.1736 | Val Acc: 0.6300 | LR: 0.001000\n",
      "Epoch 13/50 | Train Loss: 0.1182 | Val Loss: 0.1715 | Val Acc: 0.6750 | LR: 0.001000\n",
      "Epoch 14/50 | Train Loss: 0.1189 | Val Loss: 0.1753 | Val Acc: 0.6600 | LR: 0.001000\n",
      "Epoch 15/50 | Train Loss: 0.1176 | Val Loss: 0.1760 | Val Acc: 0.6650 | LR: 0.001000\n",
      "Epoch 16/50 | Train Loss: 0.1165 | Val Loss: 0.1714 | Val Acc: 0.6750 | LR: 0.001000\n",
      "Best model updated at epoch 17 (Val Loss: 0.1390)\n",
      "Epoch 17/50 | Train Loss: 0.1171 | Val Loss: 0.1390 | Val Acc: 0.7000 | LR: 0.001000\n",
      "Epoch 18/50 | Train Loss: 0.1210 | Val Loss: 0.1541 | Val Acc: 0.6650 | LR: 0.001000\n",
      "Epoch 19/50 | Train Loss: 0.1203 | Val Loss: 0.1776 | Val Acc: 0.6650 | LR: 0.001000\n",
      "Epoch 20/50 | Train Loss: 0.1156 | Val Loss: 0.1548 | Val Acc: 0.7150 | LR: 0.000100\n",
      "Epoch 21/50 | Train Loss: 0.1153 | Val Loss: 0.1917 | Val Acc: 0.6700 | LR: 0.000100\n",
      "Epoch 22/50 | Train Loss: 0.1084 | Val Loss: 0.2153 | Val Acc: 0.6750 | LR: 0.000100\n",
      "Epoch 23/50 | Train Loss: 0.1078 | Val Loss: 0.1830 | Val Acc: 0.6800 | LR: 0.000100\n",
      "Epoch 24/50 | Train Loss: 0.1044 | Val Loss: 0.1974 | Val Acc: 0.6800 | LR: 0.000100\n",
      "Epoch 25/50 | Train Loss: 0.1025 | Val Loss: 0.2034 | Val Acc: 0.6900 | LR: 0.000100\n",
      "Epoch 26/50 | Train Loss: 0.0992 | Val Loss: 0.2353 | Val Acc: 0.6550 | LR: 0.000100\n",
      "Epoch 27/50 | Train Loss: 0.1018 | Val Loss: 0.1858 | Val Acc: 0.7000 | LR: 0.000100\n",
      "Epoch 28/50 | Train Loss: 0.0984 | Val Loss: 0.2245 | Val Acc: 0.6800 | LR: 0.000100\n",
      "Epoch 29/50 | Train Loss: 0.0985 | Val Loss: 0.2136 | Val Acc: 0.6750 | LR: 0.000100\n",
      "Epoch 30/50 | Train Loss: 0.0990 | Val Loss: 0.1931 | Val Acc: 0.6750 | LR: 0.000100\n",
      "Epoch 31/50 | Train Loss: 0.0963 | Val Loss: 0.2182 | Val Acc: 0.6600 | LR: 0.000100\n",
      "Epoch 32/50 | Train Loss: 0.0940 | Val Loss: 0.2288 | Val Acc: 0.6700 | LR: 0.000100\n",
      "Epoch 33/50 | Train Loss: 0.0948 | Val Loss: 0.2104 | Val Acc: 0.6600 | LR: 0.000100\n",
      "Epoch 34/50 | Train Loss: 0.0917 | Val Loss: 0.2616 | Val Acc: 0.6400 | LR: 0.000100\n",
      "Epoch 35/50 | Train Loss: 0.0902 | Val Loss: 0.2299 | Val Acc: 0.6600 | LR: 0.000100\n",
      "Epoch 36/50 | Train Loss: 0.0905 | Val Loss: 0.2751 | Val Acc: 0.6350 | LR: 0.000100\n",
      "Epoch 37/50 | Train Loss: 0.0892 | Val Loss: 0.2688 | Val Acc: 0.6650 | LR: 0.000100\n",
      "Epoch 38/50 | Train Loss: 0.0856 | Val Loss: 0.2540 | Val Acc: 0.6600 | LR: 0.000100\n",
      "Epoch 39/50 | Train Loss: 0.0861 | Val Loss: 0.2945 | Val Acc: 0.6400 | LR: 0.000100\n",
      "Epoch 40/50 | Train Loss: 0.0825 | Val Loss: 0.2864 | Val Acc: 0.6450 | LR: 0.000010\n",
      "Epoch 41/50 | Train Loss: 0.0790 | Val Loss: 0.2948 | Val Acc: 0.6500 | LR: 0.000010\n",
      "Epoch 42/50 | Train Loss: 0.0794 | Val Loss: 0.2740 | Val Acc: 0.6500 | LR: 0.000010\n",
      "Epoch 43/50 | Train Loss: 0.0805 | Val Loss: 0.3408 | Val Acc: 0.6450 | LR: 0.000010\n",
      "Epoch 44/50 | Train Loss: 0.0800 | Val Loss: 0.3260 | Val Acc: 0.6500 | LR: 0.000010\n",
      "Epoch 45/50 | Train Loss: 0.0779 | Val Loss: 0.2637 | Val Acc: 0.6600 | LR: 0.000010\n",
      "Epoch 46/50 | Train Loss: 0.0787 | Val Loss: 0.2931 | Val Acc: 0.6500 | LR: 0.000010\n",
      "Epoch 47/50 | Train Loss: 0.0787 | Val Loss: 0.3179 | Val Acc: 0.6450 | LR: 0.000010\n",
      "Epoch 48/50 | Train Loss: 0.0763 | Val Loss: 0.3188 | Val Acc: 0.6450 | LR: 0.000010\n",
      "Epoch 49/50 | Train Loss: 0.0796 | Val Loss: 0.2791 | Val Acc: 0.6650 | LR: 0.000010\n",
      "Epoch 50/50 | Train Loss: 0.0788 | Val Loss: 0.2897 | Val Acc: 0.6650 | LR: 0.000010\n",
      "loss_history.json 저장 완료!\n"
     ]
    }
   ],
   "source": [
    "import matplotlib.pyplot as plt\n",
    "\n",
    "# 디바이스 설정\n",
    "device = torch.device(\"cuda\" if torch.cuda.is_available() else \"cpu\")\n",
    "\n",
    "# 모델 초기화\n",
    "model = SiameseSeResNeXtdropout().to(device)\n",
    "\n",
    "# 손실 함수\n",
    "criterion = FocalLoss()\n",
    "\n",
    "# 옵티마이저 (AdamW)\n",
    "optimizer = optim.AdamW(model.parameters(), lr=0.001, weight_decay=1e-4)\n",
    "\n",
    "# 학습률 스케줄러\n",
    "scheduler = lr_scheduler.StepLR(optimizer, step_size=20, gamma=0.1)\n",
    "\n",
    "# 하이퍼파라미터\n",
    "epochs = 50\n",
    "best_val_loss = float('inf')\n",
    "\n",
    "# 손실 저장 리스트\n",
    "train_losses = []\n",
    "val_losses = []\n",
    "\n",
    "# 학습 루프\n",
    "for epoch in range(epochs):\n",
    "    model.train()\n",
    "    running_loss = 0.0\n",
    "\n",
    "    for left, right, labels in train_loader:\n",
    "        left, right, labels = left.to(device), right.to(device), labels.to(device)\n",
    "\n",
    "        optimizer.zero_grad()\n",
    "        outputs = model(left, right)\n",
    "        loss = criterion(outputs, labels)\n",
    "        loss.backward()\n",
    "        optimizer.step()\n",
    "\n",
    "        running_loss += loss.item()\n",
    "\n",
    "    # Validation\n",
    "    model.eval()\n",
    "    val_loss = 0.0\n",
    "    correct = 0\n",
    "    total = 0\n",
    "\n",
    "    with torch.no_grad():\n",
    "        for left, right, labels in val_loader:\n",
    "            left, right, labels = left.to(device), right.to(device), labels.to(device)\n",
    "\n",
    "            outputs = model(left, right)\n",
    "            loss = criterion(outputs, labels)\n",
    "            val_loss += loss.item()\n",
    "\n",
    "            preds = torch.argmax(outputs, dim=1)\n",
    "            correct += (preds == labels).sum().item()\n",
    "            total += labels.size(0)\n",
    "\n",
    "    val_accuracy = correct / total\n",
    "    train_loss = running_loss / len(train_loader)\n",
    "    val_loss /= len(val_loader)\n",
    "\n",
    "    train_losses.append(train_loss)\n",
    "    val_losses.append(val_loss)\n",
    "\n",
    "    scheduler.step()\n",
    "\n",
    "    # Best 모델 저장 (loss 기준)\n",
    "    if val_loss < best_val_loss:\n",
    "        best_val_loss = val_loss\n",
    "        torch.save(model.state_dict(), '/content/drive/MyDrive/cv_project/01unimodal/best_unimodal_model.pth')\n",
    "        print(f\"Best model updated at epoch {epoch+1} (Val Loss: {best_val_loss:.4f})\")\n",
    "\n",
    "    # 출력\n",
    "    print(f\"Epoch {epoch+1}/{epochs} | Train Loss: {train_loss:.4f} | Val Loss: {val_loss:.4f} | Val Acc: {val_accuracy:.4f} | LR: {scheduler.get_last_lr()[0]:.6f}\")\n",
    "\n",
    "# 딕셔너리로 정리\n",
    "loss_history = {\n",
    "    'train_loss': train_losses,\n",
    "    'val_loss': val_losses\n",
    "}\n",
    "\n",
    "# JSON으로 저장\n",
    "with open('/content/drive/MyDrive/cv_project/01unimodal/loss_history.json', 'w') as f:\n",
    "    json.dump(loss_history, f, indent=2)\n",
    "\n",
    "print(\"loss_history.json 저장 완료!\")"
   ]
  },
  {
   "cell_type": "code",
   "execution_count": null,
   "metadata": {
    "colab": {
     "base_uri": "https://localhost:8080/",
     "height": 450
    },
    "id": "cAergRM8loVK",
    "outputId": "b38098e7-92f3-4682-8842-7ca947d246d9"
   },
   "outputs": [
    {
     "data": {
      "image/png": "[encoded data removed]",
      "text/plain": [
       "<Figure size 800x500 with 1 Axes>"
      ]
     },
     "metadata": {},
     "output_type": "display_data"
    }
   ],
   "source": [
    "# 학습 종료 후 그래프 시각화\n",
    "plt.figure(figsize=(8, 5))\n",
    "plt.plot(train_losses, label='Train Loss')\n",
    "plt.plot(val_losses, label='Validation Loss')\n",
    "plt.xlabel('Epoch')\n",
    "plt.ylabel('Loss')\n",
    "plt.title('Training vs Validation Loss')\n",
    "plt.legend()\n",
    "plt.grid(True)\n",
    "plt.show()"
   ]
  },
  {
   "cell_type": "markdown",
   "metadata": {
    "id": "0QXYSyEW1dvW"
   },
   "source": [
    "### [9] predict_result.json 저장"
   ]
  },
  {
   "cell_type": "code",
   "execution_count": null,
   "metadata": {
    "colab": {
     "base_uri": "https://localhost:8080/"
    },
    "id": "LStZ3-lzydnR",
    "outputId": "3f3855d3-8fec-407e-eda9-68d9722b1e19"
   },
   "outputs": [
    {
     "name": "stderr",
     "output_type": "stream",
     "text": [
      "Predicting: 100%|██████████| 7/7 [00:01<00:00,  4.01it/s]"
     ]
    },
    {
     "name": "stdout",
     "output_type": "stream",
     "text": [
      "예측 결과 저장 완료: /content/drive/MyDrive/cv_project/01unimodal/predict_result.json\n"
     ]
    },
    {
     "name": "stderr",
     "output_type": "stream",
     "text": [
      "\n"
     ]
    }
   ],
   "source": [
    "from tqdm import tqdm\n",
    "\n",
    "# 테스트셋 로드 (이미 test_loader는 있음)\n",
    "\n",
    "# 모델 로드\n",
    "model = SiameseSeResNeXtdropout().to(device)\n",
    "model.load_state_dict(torch.load('/content/drive/MyDrive/cv_project/01unimodal/best_unimodal_model.pth'))\n",
    "model.eval()\n",
    "\n",
    "# 예측 수행\n",
    "results = []\n",
    "with torch.no_grad():\n",
    "    for left, right, labels in tqdm(test_loader, desc=\"Predicting\"):\n",
    "        left, right = left.to(device), right.to(device)\n",
    "        outputs = model(left, right)\n",
    "        probs = torch.softmax(outputs, dim=1)\n",
    "        preds = torch.argmax(probs, dim=1)\n",
    "\n",
    "        for true, pred, prob in zip(labels.cpu(), preds.cpu(), probs[:, 1].cpu()):\n",
    "            results.append({\n",
    "                \"true\": int(true.item()),\n",
    "                \"pred\": int(pred.item()),\n",
    "                \"prob_thickened\": float(prob.item())\n",
    "            })\n",
    "\n",
    "# 결과 저장\n",
    "output_path = \"/content/drive/MyDrive/cv_project/01unimodal/predict_result.json\"\n",
    "with open(output_path, \"w\") as f:\n",
    "    json.dump(results, f, indent=2)\n",
    "\n",
    "print(f\"예측 결과 저장 완료: {output_path}\")\n"
   ]
  },
  {
   "cell_type": "markdown",
   "metadata": {
    "id": "1RoExT701lNO"
   },
   "source": [
    "### [10] 평가 + AUC Curve 그리기"
   ]
  },
  {
   "cell_type": "code",
   "execution_count": null,
   "metadata": {
    "colab": {
     "base_uri": "https://localhost:8080/",
     "height": 836
    },
    "id": "K1CaQ28jWhJc",
    "outputId": "32fdee59-9980-4e24-cda1-3e259bd8733b"
   },
   "outputs": [
    {
     "data": {
      "image/png": "[encoded data removed]",
      "text/plain": [
       "<Figure size 800x600 with 1 Axes>"
      ]
     },
     "metadata": {},
     "output_type": "display_data"
    },
    {
     "name": "stdout",
     "output_type": "stream",
     "text": [
      "정확도 (Accuracy): 0.7800\n",
      "AUC-ROC: 0.8440\n",
      "\n",
      "분류 리포트:\n",
      "              precision    recall  f1-score   support\n",
      "\n",
      "      Normal       0.89      0.64      0.74        50\n",
      "   Thickened       0.72      0.92      0.81        50\n",
      "\n",
      "    accuracy                           0.78       100\n",
      "   macro avg       0.80      0.78      0.78       100\n",
      "weighted avg       0.80      0.78      0.78       100\n",
      "\n",
      "\n",
      "Confusion Matrix:\n",
      "[[32 18]\n",
      " [ 4 46]]\n"
     ]
    }
   ],
   "source": [
    "import json\n",
    "import numpy as np\n",
    "from sklearn.metrics import roc_curve, roc_auc_score, classification_report, confusion_matrix\n",
    "import matplotlib.pyplot as plt\n",
    "\n",
    "# 예측 결과 불러오기\n",
    "with open(\"/content/drive/MyDrive/cv_project/01unimodal/predict_result.json\", \"r\") as f:\n",
    "    results = json.load(f)\n",
    "\n",
    "# true, pred, prob 분리\n",
    "y_true = [r[\"true\"] for r in results]\n",
    "y_pred = [r[\"pred\"] for r in results]\n",
    "y_prob = [r[\"prob_thickened\"] for r in results]\n",
    "\n",
    "# AUC-ROC 계산\n",
    "fpr, tpr, thresholds = roc_curve(y_true, y_prob)\n",
    "auc_score = roc_auc_score(y_true, y_prob)\n",
    "\n",
    "# ROC Curve 그리기\n",
    "plt.figure(figsize=(8,6))\n",
    "plt.plot(fpr, tpr, label=f\"AUC = {auc_score:.4f}\")\n",
    "plt.plot([0, 1], [0, 1], linestyle='--', color='gray')\n",
    "plt.xlabel(\"False Positive Rate\")\n",
    "plt.ylabel(\"True Positive Rate\")\n",
    "plt.title(\"ROC Curve (Unimodal Best Model)\")\n",
    "plt.legend()\n",
    "plt.grid()\n",
    "plt.show()\n",
    "\n",
    "# 추가 성능 출력\n",
    "print(f\"정확도 (Accuracy): {np.mean(np.array(y_true) == np.array(y_pred)):.4f}\")\n",
    "print(f\"AUC-ROC: {auc_score:.4f}\")\n",
    "print(\"\\n분류 리포트:\")\n",
    "print(classification_report(y_true, y_pred, target_names=[\"Normal\", \"Thickened\"]))\n",
    "print(\"\\nConfusion Matrix:\")\n",
    "print(confusion_matrix(y_true, y_pred))\n"
   ]
  },
  {
   "cell_type": "markdown",
   "metadata": {
    "id": "sO2DfaP-1CS9"
   },
   "source": [
    "\n",
    "\n",
    "---\n",
    "\n",
    "\n",
    "## 전체 성능 요약\n",
    "[단일모달 모델]\n",
    "- 정확도 (Accuracy): 75.00%\n",
    "- AUC-ROC: 82.58%\n",
    "\n",
    "[이전 모델]\n",
    "- 정확도 (Accuracy): 81.00%\n",
    "- AUC-ROC: 89.80%\n",
    "\n",
    "[현재 모델]\n",
    "- 정확도 (Accuracy): 78.00%\n",
    "- AUC-ROC: 84.40%"
   ]
  },
  {
   "cell_type": "code",
   "execution_count": null,
   "metadata": {
    "id": "uXOR_4t1W8Pg"
   },
   "outputs": [],
   "source": []
  }
 ],
 "metadata": {
  "accelerator": "GPU",
  "colab": {
   "gpuType": "A100",
   "machine_shape": "hm",
   "provenance": []
  },
  "kernelspec": {
   "display_name": "Python 3",
   "name": "python3"
  },
  "language_info": {
   "name": "python"
  }
 },
 "nbformat": 4,
 "nbformat_minor": 0
}
