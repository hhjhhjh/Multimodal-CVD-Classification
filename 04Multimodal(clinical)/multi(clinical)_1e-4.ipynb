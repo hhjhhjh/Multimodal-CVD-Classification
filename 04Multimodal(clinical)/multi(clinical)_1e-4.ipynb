{
 "cells": [
  {
   "cell_type": "markdown",
   "metadata": {
    "id": "fYe-STF4K0Nm"
   },
   "source": [
    "### [1] 패키지 불러오기"
   ]
  },
  {
   "cell_type": "code",
   "execution_count": 1,
   "metadata": {
    "id": "ZCliJVgDGqAr"
   },
   "outputs": [],
   "source": [
    "import os\n",
    "import json\n",
    "import torch\n",
    "import torch.nn as nn\n",
    "import torch.nn.functional as F\n",
    "import timm\n",
    "from torch.utils.data import DataLoader, Dataset\n",
    "from torchvision import transforms\n",
    "import torch.optim as optim\n",
    "from torch.optim import lr_scheduler\n",
    "from PIL import Image"
   ]
  },
  {
   "cell_type": "markdown",
   "metadata": {
    "id": "fQHkazDQLWWZ"
   },
   "source": [
    "### [2] Data transform 정의"
   ]
  },
  {
   "cell_type": "code",
   "execution_count": 2,
   "metadata": {
    "id": "AYzstUPaK7l0"
   },
   "outputs": [],
   "source": [
    "import torchvision.transforms as transforms\n",
    "\n",
    "# 이미지 전처리\n",
    "size = [230, 230]\n",
    "center_size = [224, 224]\n",
    "\n",
    "TrainTransform = transforms.Compose([\n",
    "    transforms.Resize(size),\n",
    "    transforms.CenterCrop(center_size),\n",
    "    transforms.RandomRotation(20),\n",
    "    transforms.RandomHorizontalFlip(),\n",
    "    transforms.RandomVerticalFlip(),\n",
    "    transforms.ColorJitter(brightness=0.25, contrast=0.25, saturation=0.25, hue=0.02),\n",
    "    transforms.ToTensor(),\n",
    "    transforms.Normalize(mean=[0.485, 0.456, 0.406], std=[0.229, 0.224, 0.225])\n",
    "])\n",
    "\n",
    "ValidTransform = transforms.Compose([\n",
    "    transforms.Resize(size),\n",
    "    transforms.CenterCrop(center_size),\n",
    "    transforms.ToTensor(),\n",
    "    transforms.Normalize(mean=[0.485, 0.456, 0.406], std=[0.229, 0.224, 0.225])\n",
    "])\n"
   ]
  },
  {
   "cell_type": "markdown",
   "metadata": {
    "id": "d-YaiotiNJce"
   },
   "source": [
    "### [3] 구글 드라이브 연동"
   ]
  },
  {
   "cell_type": "code",
   "execution_count": 3,
   "metadata": {
    "colab": {
     "base_uri": "https://localhost:8080/"
    },
    "id": "_803JhzXOHOI",
    "outputId": "1e358525-f1c8-4dc4-d98c-01b006a67107"
   },
   "outputs": [
    {
     "name": "stdout",
     "output_type": "stream",
     "text": [
      "Mounted at /content/drive\n"
     ]
    }
   ],
   "source": [
    "from google.colab import drive\n",
    "drive.mount('/content/drive')"
   ]
  },
  {
   "cell_type": "markdown",
   "metadata": {
    "id": "h3tlIa-FP9cJ"
   },
   "source": [
    "### [4] MultimodalEyeDataset 클래스 정의"
   ]
  },
  {
   "cell_type": "code",
   "execution_count": 4,
   "metadata": {
    "id": "7DxmKDAgMmog"
   },
   "outputs": [],
   "source": [
    "class MultimodalEyeDataset(Dataset):\n",
    "    def __init__(self, data, image_path, transform=None):\n",
    "        self.data = data\n",
    "        self.image_path = image_path\n",
    "        self.transform = transform\n",
    "\n",
    "    def __len__(self):\n",
    "        return len(self.data)\n",
    "\n",
    "    def __getitem__(self, idx):\n",
    "        item = self.data[idx]\n",
    "\n",
    "        # 이미지 불러오기\n",
    "        left_img = Image.open(os.path.join(self.image_path, item['left_eye'])).convert('RGB')\n",
    "        right_img = Image.open(os.path.join(self.image_path, item['right_eye'])).convert('RGB')\n",
    "\n",
    "        if self.transform:\n",
    "            left_img = self.transform(left_img)\n",
    "            right_img = self.transform(right_img)\n",
    "\n",
    "        # 임상정보: gender -> one-hot 인코딩, norm_age\n",
    "        norm_age = torch.tensor(item['age'], dtype=torch.float32)\n",
    "        gender = item['gender']  # 0 or 1\n",
    "        gender_one_hot = torch.tensor([1, 0], dtype=torch.float32) if gender == 0 else torch.tensor([0, 1], dtype=torch.float32)\n",
    "\n",
    "        clinical = torch.cat([norm_age.unsqueeze(0), gender_one_hot])  # shape: [3]\n",
    "\n",
    "        label = torch.tensor(item['label'], dtype=torch.long)\n",
    "\n",
    "        return left_img, right_img, clinical, label\n",
    "\n",
    "    @classmethod\n",
    "    def from_json(cls, json_file, image_path, group_value=1, include_0_9mm=True, transform=None):\n",
    "        with open(json_file, 'r') as f:\n",
    "            raw_data = json.load(f)\n",
    "\n",
    "        usable_data = [\n",
    "            item for item in raw_data.values()\n",
    "            if item['group'] == group_value and (include_0_9mm or item['thickness'] != 0.9)\n",
    "        ]\n",
    "\n",
    "        print(f\"usable multimodal samples for group {group_value}: {len(usable_data)}\")\n",
    "        return cls(usable_data, image_path, transform)\n"
   ]
  },
  {
   "cell_type": "markdown",
   "metadata": {
    "id": "0HJXHFF2RhKk"
   },
   "source": [
    "### [5] train_loader, val_loader, test_loader 구성"
   ]
  },
  {
   "cell_type": "code",
   "execution_count": 5,
   "metadata": {
    "colab": {
     "base_uri": "https://localhost:8080/"
    },
    "id": "-U8B0rz7Moj2",
    "outputId": "fdf87e43-b93d-4c0e-80be-93c5aa2eb535"
   },
   "outputs": [
    {
     "name": "stdout",
     "output_type": "stream",
     "text": [
      "usable multimodal samples for group 1: 2603\n",
      "usable multimodal samples for group 2: 200\n",
      "usable multimodal samples for group 3: 100\n"
     ]
    }
   ],
   "source": [
    "# 경로 설정\n",
    "json_file = '/content/drive/MyDrive/cv_project/dataset/data_info.json'\n",
    "image_path = '/content/drive/MyDrive/cv_project/dataset/train_images/Fundus_CIMT_2903 Dataset'\n",
    "\n",
    "# 학습용 데이터셋 (group 1)\n",
    "train_dataset = MultimodalEyeDataset.from_json(\n",
    "    json_file=json_file,\n",
    "    image_path=image_path,\n",
    "    group_value=1,\n",
    "    include_0_9mm=True,\n",
    "    transform=TrainTransform\n",
    ")\n",
    "\n",
    "# 검증용 데이터셋 (group 2)\n",
    "val_dataset = MultimodalEyeDataset.from_json(\n",
    "    json_file=json_file,\n",
    "    image_path=image_path,\n",
    "    group_value=2,\n",
    "    include_0_9mm=True,\n",
    "    transform=ValidTransform\n",
    ")\n",
    "\n",
    "# 테스트용 데이터셋 (group 3)\n",
    "test_dataset = MultimodalEyeDataset.from_json(\n",
    "    json_file=json_file,\n",
    "    image_path=image_path,\n",
    "    group_value=3,\n",
    "    include_0_9mm=True,\n",
    "    transform=ValidTransform\n",
    ")\n",
    "\n",
    "from torch.utils.data import DataLoader\n",
    "\n",
    "# 최적화 설정: num_workers=2, pin_memory=True\n",
    "train_loader = DataLoader(train_dataset, batch_size=16, shuffle=True, num_workers=2, pin_memory=True)\n",
    "val_loader = DataLoader(val_dataset, batch_size=16, shuffle=False, num_workers=2, pin_memory=True)\n",
    "test_loader = DataLoader(test_dataset, batch_size=16, shuffle=False, num_workers=2, pin_memory=True)\n"
   ]
  },
  {
   "cell_type": "markdown",
   "metadata": {
    "id": "WYaqKWgpWLbF"
   },
   "source": [
    "### [6] Multimodal 모델 클래스 정의"
   ]
  },
  {
   "cell_type": "code",
   "execution_count": 6,
   "metadata": {
    "id": "ya23MB8DQh8A"
   },
   "outputs": [],
   "source": [
    "import torch\n",
    "import torch.nn as nn\n",
    "import timm\n",
    "\n",
    "class MultimodalModel(nn.Module):\n",
    "    def __init__(self, dropout_p=0.3):\n",
    "        super(MultimodalModel, self).__init__()\n",
    "\n",
    "        # 이미지 backbone: 좌/우 이미지 처리\n",
    "        self.backbone = timm.create_model('seresnext50_32x4d.racm_in1k', pretrained=True, num_classes=0)\n",
    "        self.dropout = nn.Dropout(dropout_p)\n",
    "\n",
    "        # 임상정보 FC: [gender one-hot 인코딩, norm_age] → 128\n",
    "        self.clinical_fc = nn.Sequential(\n",
    "            nn.Linear(3, 128),  # 3차원 입력\n",
    "            nn.ReLU(),\n",
    "            nn.Dropout(dropout_p)\n",
    "        )\n",
    "\n",
    "        # 최종 분류기: 이미지(2048*2) + clinical(128) → 2-class output\n",
    "        self.classifier = nn.Sequential(\n",
    "            nn.Linear(2048 * 2 + 128, 512),\n",
    "            nn.ReLU(),\n",
    "            nn.Dropout(dropout_p),\n",
    "            nn.Linear(512, 2)\n",
    "        )\n",
    "\n",
    "    def forward(self, left, right, clinical):\n",
    "        # 이미지 feature 추출\n",
    "        left_feat = self.backbone(left)   # (B, 2048), B = Batch size\n",
    "        right_feat = self.backbone(right) # (B, 2048)\n",
    "        image_feat = torch.cat([left_feat, right_feat], dim=1)  # (B, 4096)\n",
    "        image_feat = self.dropout(image_feat)\n",
    "\n",
    "        # 임상 feature 임베딩\n",
    "        clinical_feat = self.clinical_fc(clinical)  # (B, 128)\n",
    "\n",
    "        # 결합 후 분류\n",
    "        fused = torch.cat([image_feat, clinical_feat], dim=1)  # (B, 4224)\n",
    "        output = self.classifier(fused)  # (B, 2)\n",
    "\n",
    "        return output\n"
   ]
  },
  {
   "cell_type": "markdown",
   "metadata": {
    "id": "S6fDEuzqWrY-"
   },
   "source": [
    "### [7] FocalLoss 클래스 정의"
   ]
  },
  {
   "cell_type": "code",
   "execution_count": 7,
   "metadata": {
    "id": "sq7XF_t6Wz2g"
   },
   "outputs": [],
   "source": [
    "class FocalLoss(nn.Module):\n",
    "    def __init__(self, alpha=1, gamma=2, reduction='mean'):\n",
    "        super(FocalLoss, self).__init__()\n",
    "        self.alpha = alpha\n",
    "        self.gamma = gamma\n",
    "        self.reduction = reduction\n",
    "        self.ce = nn.CrossEntropyLoss(reduction='none')\n",
    "\n",
    "    def forward(self, inputs, targets):\n",
    "        ce_loss = self.ce(inputs, targets)\n",
    "        pt = torch.exp(-ce_loss)\n",
    "        focal_loss = self.alpha * (1 - pt) ** self.gamma * ce_loss\n",
    "        return focal_loss.mean() if self.reduction == 'mean' else focal_loss.sum()\n"
   ]
  },
  {
   "cell_type": "markdown",
   "metadata": {
    "id": "inf_XPo3XiZZ"
   },
   "source": [
    "### [8] 학습 루프 + loss 그래프"
   ]
  },
  {
   "cell_type": "code",
   "execution_count": 8,
   "metadata": {
    "colab": {
     "base_uri": "https://localhost:8080/",
     "height": 1000,
     "referenced_widgets": [
      "c7a9c70daff6435c83a8f176944c2d7f",
      "cdaf2c11f8a34547b6410b4ef9d980c0",
      "dfd43e9e633e4a2599a9ffc1cb2ce12c",
      "c7c9c3a75c974e68a83488407708c58c",
      "db8f45c922b64fffb2928cc721acd5c2",
      "5bea729696c44054b35a1f2e9bc69e0c",
      "c4310188c3944da8b0fa5f1b4784b576",
      "c1621322ff224a01a6dadd75c74c47ac",
      "cd790679edd14c5399e6101fc2a602eb",
      "9fe1719b77bf4619926c553f28040f17",
      "218f0b9ea41549098f59729a0a9cb839"
     ]
    },
    "id": "CHi7gqo-Wbml",
    "outputId": "dc2a0ef3-386e-4bb8-c6d5-aec660fc13b8"
   },
   "outputs": [
    {
     "name": "stderr",
     "output_type": "stream",
     "text": [
      "/usr/local/lib/python3.11/dist-packages/huggingface_hub/utils/_auth.py:94: UserWarning: \n",
      "The secret `HF_TOKEN` does not exist in your Colab secrets.\n",
      "To authenticate with the Hugging Face Hub, create a token in your settings tab (https://huggingface.co/settings/tokens), set it as secret in your Google Colab and restart your session.\n",
      "You will be able to reuse this secret in all of your notebooks.\n",
      "Please note that authentication is recommended but still optional to access public models or datasets.\n",
      "  warnings.warn(\n"
     ]
    },
    {
     "data": {
      "application/vnd.jupyter.widget-view+json": {
       "model_id": "c7a9c70daff6435c83a8f176944c2d7f",
       "version_major": 2,
       "version_minor": 0
      },
      "text/plain": [
       "model.safetensors:   0%|          | 0.00/111M [00:00<?, ?B/s]"
      ]
     },
     "metadata": {},
     "output_type": "display_data"
    },
    {
     "name": "stdout",
     "output_type": "stream",
     "text": [
      "Best model updated at epoch 1 (Val Loss: 0.2422)\n",
      "Epoch 1/50 | Train Loss: 0.1300 | Val Loss: 0.2422 | Val Acc: 0.6350 | LR: 0.000100\n",
      "Best model updated at epoch 2 (Val Loss: 0.1551)\n",
      "Epoch 2/50 | Train Loss: 0.1195 | Val Loss: 0.1551 | Val Acc: 0.7200 | LR: 0.000100\n",
      "Best model updated at epoch 3 (Val Loss: 0.1504)\n",
      "Epoch 3/50 | Train Loss: 0.1149 | Val Loss: 0.1504 | Val Acc: 0.6750 | LR: 0.000100\n",
      "Epoch 4/50 | Train Loss: 0.1109 | Val Loss: 0.1525 | Val Acc: 0.6700 | LR: 0.000100\n",
      "Epoch 5/50 | Train Loss: 0.1087 | Val Loss: 0.1644 | Val Acc: 0.6650 | LR: 0.000100\n",
      "Best model updated at epoch 6 (Val Loss: 0.1414)\n",
      "Epoch 6/50 | Train Loss: 0.1066 | Val Loss: 0.1414 | Val Acc: 0.7200 | LR: 0.000100\n",
      "Epoch 7/50 | Train Loss: 0.1000 | Val Loss: 0.1756 | Val Acc: 0.6450 | LR: 0.000100\n",
      "Epoch 8/50 | Train Loss: 0.1003 | Val Loss: 0.1544 | Val Acc: 0.7300 | LR: 0.000100\n",
      "Epoch 9/50 | Train Loss: 0.0937 | Val Loss: 0.2138 | Val Acc: 0.6450 | LR: 0.000100\n",
      "Epoch 10/50 | Train Loss: 0.0878 | Val Loss: 0.1530 | Val Acc: 0.7450 | LR: 0.000100\n",
      "Epoch 11/50 | Train Loss: 0.0858 | Val Loss: 0.2248 | Val Acc: 0.6950 | LR: 0.000100\n",
      "Epoch 12/50 | Train Loss: 0.0799 | Val Loss: 0.1979 | Val Acc: 0.6950 | LR: 0.000100\n",
      "Epoch 13/50 | Train Loss: 0.0765 | Val Loss: 0.2021 | Val Acc: 0.7150 | LR: 0.000100\n",
      "Epoch 14/50 | Train Loss: 0.0685 | Val Loss: 0.2769 | Val Acc: 0.6250 | LR: 0.000100\n",
      "Epoch 15/50 | Train Loss: 0.0632 | Val Loss: 0.3409 | Val Acc: 0.6550 | LR: 0.000100\n",
      "Epoch 16/50 | Train Loss: 0.0565 | Val Loss: 0.3123 | Val Acc: 0.6750 | LR: 0.000100\n",
      "Epoch 17/50 | Train Loss: 0.0536 | Val Loss: 0.3475 | Val Acc: 0.6350 | LR: 0.000100\n",
      "Epoch 18/50 | Train Loss: 0.0495 | Val Loss: 0.2891 | Val Acc: 0.6800 | LR: 0.000100\n",
      "Epoch 19/50 | Train Loss: 0.0390 | Val Loss: 0.5049 | Val Acc: 0.6700 | LR: 0.000100\n",
      "Epoch 20/50 | Train Loss: 0.0389 | Val Loss: 0.3698 | Val Acc: 0.6950 | LR: 0.000010\n",
      "Epoch 21/50 | Train Loss: 0.0310 | Val Loss: 0.3979 | Val Acc: 0.6950 | LR: 0.000010\n",
      "Epoch 22/50 | Train Loss: 0.0290 | Val Loss: 0.4304 | Val Acc: 0.6850 | LR: 0.000010\n",
      "Epoch 23/50 | Train Loss: 0.0280 | Val Loss: 0.4871 | Val Acc: 0.6950 | LR: 0.000010\n",
      "Epoch 24/50 | Train Loss: 0.0244 | Val Loss: 0.5039 | Val Acc: 0.6700 | LR: 0.000010\n",
      "Epoch 25/50 | Train Loss: 0.0180 | Val Loss: 0.5103 | Val Acc: 0.6750 | LR: 0.000010\n",
      "Epoch 26/50 | Train Loss: 0.0199 | Val Loss: 0.6263 | Val Acc: 0.6800 | LR: 0.000010\n",
      "Epoch 27/50 | Train Loss: 0.0192 | Val Loss: 0.5922 | Val Acc: 0.6750 | LR: 0.000010\n",
      "Epoch 28/50 | Train Loss: 0.0173 | Val Loss: 0.5992 | Val Acc: 0.6700 | LR: 0.000010\n",
      "Epoch 29/50 | Train Loss: 0.0154 | Val Loss: 0.5444 | Val Acc: 0.6850 | LR: 0.000010\n",
      "Epoch 30/50 | Train Loss: 0.0149 | Val Loss: 0.5694 | Val Acc: 0.6850 | LR: 0.000010\n",
      "Epoch 31/50 | Train Loss: 0.0181 | Val Loss: 0.6010 | Val Acc: 0.6850 | LR: 0.000010\n",
      "Epoch 32/50 | Train Loss: 0.0153 | Val Loss: 0.5752 | Val Acc: 0.6950 | LR: 0.000010\n",
      "Epoch 33/50 | Train Loss: 0.0122 | Val Loss: 0.5763 | Val Acc: 0.7050 | LR: 0.000010\n",
      "Epoch 34/50 | Train Loss: 0.0155 | Val Loss: 0.6199 | Val Acc: 0.6900 | LR: 0.000010\n",
      "Epoch 35/50 | Train Loss: 0.0135 | Val Loss: 0.6982 | Val Acc: 0.6850 | LR: 0.000010\n",
      "Epoch 36/50 | Train Loss: 0.0152 | Val Loss: 0.6250 | Val Acc: 0.6750 | LR: 0.000010\n",
      "Epoch 37/50 | Train Loss: 0.0134 | Val Loss: 0.6980 | Val Acc: 0.6950 | LR: 0.000010\n",
      "Epoch 38/50 | Train Loss: 0.0104 | Val Loss: 0.6822 | Val Acc: 0.6950 | LR: 0.000010\n",
      "Epoch 39/50 | Train Loss: 0.0107 | Val Loss: 0.7092 | Val Acc: 0.6800 | LR: 0.000010\n",
      "Epoch 40/50 | Train Loss: 0.0093 | Val Loss: 0.6633 | Val Acc: 0.6800 | LR: 0.000001\n",
      "Epoch 41/50 | Train Loss: 0.0098 | Val Loss: 0.7082 | Val Acc: 0.6850 | LR: 0.000001\n",
      "Epoch 42/50 | Train Loss: 0.0092 | Val Loss: 0.6895 | Val Acc: 0.6800 | LR: 0.000001\n",
      "Epoch 43/50 | Train Loss: 0.0094 | Val Loss: 0.7379 | Val Acc: 0.6800 | LR: 0.000001\n",
      "Epoch 44/50 | Train Loss: 0.0115 | Val Loss: 0.7829 | Val Acc: 0.6800 | LR: 0.000001\n",
      "Epoch 45/50 | Train Loss: 0.0110 | Val Loss: 0.7531 | Val Acc: 0.6800 | LR: 0.000001\n",
      "Epoch 46/50 | Train Loss: 0.0090 | Val Loss: 0.7314 | Val Acc: 0.6700 | LR: 0.000001\n",
      "Epoch 47/50 | Train Loss: 0.0117 | Val Loss: 0.6629 | Val Acc: 0.6750 | LR: 0.000001\n",
      "Epoch 48/50 | Train Loss: 0.0083 | Val Loss: 0.7049 | Val Acc: 0.6900 | LR: 0.000001\n",
      "Epoch 49/50 | Train Loss: 0.0095 | Val Loss: 0.6937 | Val Acc: 0.6750 | LR: 0.000001\n",
      "Epoch 50/50 | Train Loss: 0.0106 | Val Loss: 0.7272 | Val Acc: 0.6850 | LR: 0.000001\n",
      "loss_history.json 저장 완료!\n"
     ]
    }
   ],
   "source": [
    "import torch\n",
    "import torch.nn.functional as F\n",
    "from torch.nn import CrossEntropyLoss\n",
    "from torch.optim.lr_scheduler import StepLR\n",
    "import json\n",
    "\n",
    "# 디바이스 설정\n",
    "device = torch.device(\"cuda\" if torch.cuda.is_available() else \"cpu\")\n",
    "\n",
    "# 모델 초기화\n",
    "model = MultimodalModel().to(device)\n",
    "\n",
    "# 손실 함수\n",
    "criterion = FocalLoss()\n",
    "\n",
    "# 옵티마이저 (AdamW)\n",
    "optimizer = optim.AdamW(model.parameters(), lr=1e-4, weight_decay=1e-4)\n",
    "\n",
    "# 학습률 스케줄러\n",
    "scheduler = lr_scheduler.StepLR(optimizer, step_size=20, gamma=0.1)\n",
    "\n",
    "# 하이퍼파라미터\n",
    "epochs = 50\n",
    "best_val_loss = float('inf')\n",
    "\n",
    "# 손실 기록 리스트\n",
    "train_losses = []\n",
    "val_losses = []\n",
    "\n",
    "# 학습 루프\n",
    "for epoch in range(epochs):\n",
    "    model.train()\n",
    "    running_loss = 0.0\n",
    "\n",
    "    for left, right, clinical, labels in train_loader:\n",
    "        left, right, clinical, labels = left.to(device), right.to(device), clinical.to(device), labels.to(device)\n",
    "\n",
    "        optimizer.zero_grad()\n",
    "        outputs = model(left, right, clinical)\n",
    "        loss = criterion(outputs, labels)\n",
    "        loss.backward()\n",
    "        optimizer.step()\n",
    "\n",
    "        running_loss += loss.item()\n",
    "\n",
    "    # Validation\n",
    "    model.eval()\n",
    "    val_loss = 0.0\n",
    "    correct = 0\n",
    "    total = 0\n",
    "\n",
    "    with torch.no_grad():\n",
    "        for left, right, clinical, labels in val_loader:\n",
    "            left, right, clinical, labels = left.to(device), right.to(device), clinical.to(device), labels.to(device)\n",
    "\n",
    "            outputs = model(left, right, clinical)\n",
    "            loss = criterion(outputs, labels)\n",
    "            val_loss += loss.item()\n",
    "\n",
    "            preds = torch.argmax(outputs, dim=1)\n",
    "            correct += (preds == labels).sum().item()\n",
    "            total += labels.size(0)\n",
    "\n",
    "    val_accuracy = correct / total\n",
    "    train_loss = running_loss / len(train_loader)\n",
    "    val_loss /= len(val_loader)\n",
    "\n",
    "    train_losses.append(train_loss)\n",
    "    val_losses.append(val_loss)\n",
    "\n",
    "    scheduler.step()\n",
    "\n",
    "    # Best 모델 저장 (Val Loss 기준)\n",
    "    if val_loss < best_val_loss:\n",
    "        best_val_loss = val_loss\n",
    "        torch.save(model.state_dict(), '/content/drive/MyDrive/cv_project/02multimodal/best_multimodal_model_1e-4.pth')\n",
    "        print(f\"Best model updated at epoch {epoch+1} (Val Loss: {best_val_loss:.4f})\")\n",
    "\n",
    "    # Epoch 출력\n",
    "    print(f\"Epoch {epoch+1}/{epochs} | Train Loss: {train_loss:.4f} | Val Loss: {val_loss:.4f} | Val Acc: {val_accuracy:.4f} | LR: {scheduler.get_last_lr()[0]:.6f}\")\n",
    "\n",
    "# Loss를 JSON으로 저장\n",
    "loss_history = {\n",
    "    'train_loss': train_losses,\n",
    "    'val_loss': val_losses\n",
    "}\n",
    "\n",
    "with open('/content/drive/MyDrive/cv_project/02multimodal/loss_history_1e-4.json', 'w') as f:\n",
    "    json.dump(loss_history, f, indent=2)\n",
    "\n",
    "print(\"loss_history.json 저장 완료!\")"
   ]
  },
  {
   "cell_type": "code",
   "execution_count": 9,
   "metadata": {
    "colab": {
     "base_uri": "https://localhost:8080/",
     "height": 487
    },
    "id": "aNaano_w83py",
    "outputId": "cb7f4373-f534-411b-edfa-fa004fc28e4d"
   },
   "outputs": [
    {
     "data": {
      "image/png": "[encoded data removed]",
      "text/plain": [
       "<Figure size 800x500 with 1 Axes>"
      ]
     },
     "metadata": {},
     "output_type": "display_data"
    }
   ],
   "source": [
    "import matplotlib.pyplot as plt\n",
    "\n",
    "# Loss 그래프 시각화\n",
    "plt.figure(figsize=(8, 5))\n",
    "plt.plot(train_losses, label='Train Loss')\n",
    "plt.plot(val_losses, label='Validation Loss')\n",
    "plt.xlabel('Epoch')\n",
    "plt.ylabel('Loss')\n",
    "plt.title('Multimodal Training vs Validation Loss')\n",
    "plt.legend()\n",
    "plt.grid(True)\n",
    "plt.show()"
   ]
  },
  {
   "cell_type": "markdown",
   "metadata": {
    "id": "RoPrPVu2vsih"
   },
   "source": [
    "### [9] predict_result.json 저장"
   ]
  },
  {
   "cell_type": "code",
   "execution_count": 10,
   "metadata": {
    "colab": {
     "base_uri": "https://localhost:8080/"
    },
    "id": "oMbsyv2cXo7y",
    "outputId": "97e4625e-9b56-41e1-b5c4-7210b72f4868"
   },
   "outputs": [
    {
     "name": "stderr",
     "output_type": "stream",
     "text": [
      "100%|██████████| 7/7 [01:43<00:00, 14.83s/it]"
     ]
    },
    {
     "name": "stdout",
     "output_type": "stream",
     "text": [
      "저장 완료: /content/drive/MyDrive/cv_project/02multimodal/predict_result_1e-4.json\n"
     ]
    },
    {
     "name": "stderr",
     "output_type": "stream",
     "text": [
      "\n"
     ]
    }
   ],
   "source": [
    "import torch\n",
    "import torch.nn.functional as F\n",
    "import json\n",
    "from tqdm import tqdm\n",
    "\n",
    "# best 모델 불러오기\n",
    "model = MultimodalModel(dropout_p=0.3).to(device)\n",
    "model.load_state_dict(torch.load('/content/drive/MyDrive/cv_project/02multimodal/best_multimodal_model_1e-4.pth'))\n",
    "model.eval()\n",
    "\n",
    "predict_result = {}\n",
    "\n",
    "with torch.no_grad():\n",
    "    for i, (left, right, clinical, labels) in enumerate(tqdm(test_loader)):\n",
    "        left, right, clinical, labels = left.to(device), right.to(device), clinical.to(device), labels.to(device)\n",
    "        outputs = model(left, right, clinical)\n",
    "        probs = F.softmax(outputs, dim=1)\n",
    "        preds = torch.argmax(probs, dim=1)\n",
    "\n",
    "        # 배치 단위로 결과 저장\n",
    "        for j in range(len(labels)):\n",
    "            sample_idx = i * test_loader.batch_size + j\n",
    "            sample_id = list(test_dataset.data)[sample_idx]  # test_dataset.data는 dict list\n",
    "            predict_result[sample_id['left_eye'].split('_')[0]] = {\n",
    "                'label': int(labels[j].cpu().item()),\n",
    "                'pred': int(preds[j].cpu().item()),\n",
    "                'score': probs[j].cpu().tolist()\n",
    "            }\n",
    "\n",
    "# JSON 저장\n",
    "save_path = '/content/drive/MyDrive/cv_project/02multimodal/predict_result_1e-4.json'\n",
    "with open(save_path, 'w') as f:\n",
    "    json.dump(predict_result, f, indent=2)\n",
    "\n",
    "print(f\"저장 완료: {save_path}\")\n"
   ]
  },
  {
   "cell_type": "markdown",
   "metadata": {
    "id": "I-SFzNjFxLqO"
   },
   "source": [
    "### [10] 평가 + AUC Curve 그리기"
   ]
  },
  {
   "cell_type": "code",
   "execution_count": 11,
   "metadata": {
    "colab": {
     "base_uri": "https://localhost:8080/",
     "height": 762
    },
    "id": "xapjkXTWw0Af",
    "outputId": "e2a2fa09-1a0d-4660-f115-c666976b5efa"
   },
   "outputs": [
    {
     "name": "stdout",
     "output_type": "stream",
     "text": [
      "정확도 (Accuracy): 0.7800\n",
      "AUC-ROC: 0.8812\n",
      "\n",
      "분류 리포트:\n",
      "              precision    recall  f1-score   support\n",
      "\n",
      "      Normal       0.91      0.62      0.74        50\n",
      "   Thickened       0.71      0.94      0.81        50\n",
      "\n",
      "    accuracy                           0.78       100\n",
      "   macro avg       0.81      0.78      0.77       100\n",
      "weighted avg       0.81      0.78      0.77       100\n",
      "\n",
      "Confusion Matrix:\n",
      "[[31 19]\n",
      " [ 3 47]]\n"
     ]
    },
    {
     "data": {
      "image/png": "[encoded data removed]",
      "text/plain": [
       "<Figure size 640x480 with 1 Axes>"
      ]
     },
     "metadata": {},
     "output_type": "display_data"
    }
   ],
   "source": [
    "import json\n",
    "import numpy as np\n",
    "import matplotlib.pyplot as plt\n",
    "from sklearn.metrics import (\n",
    "    accuracy_score, roc_auc_score, classification_report, confusion_matrix,\n",
    "    roc_curve, auc\n",
    ")\n",
    "\n",
    "# 결과 불러오기\n",
    "with open('/content/drive/MyDrive/cv_project/02multimodal/predict_result_1e-4.json', 'r') as f:\n",
    "    results = json.load(f)\n",
    "\n",
    "# y값 추출\n",
    "y_true = [item['label'] for item in results.values()]\n",
    "y_pred = [item['pred'] for item in results.values()]\n",
    "y_score = [item['score'][1] for item in results.values()]  # thickened 확률\n",
    "\n",
    "# 평가 지표 계산\n",
    "acc = accuracy_score(y_true, y_pred)\n",
    "roc_auc = roc_auc_score(y_true, y_score)\n",
    "report = classification_report(y_true, y_pred, target_names=['Normal', 'Thickened'])\n",
    "cm = confusion_matrix(y_true, y_pred)\n",
    "\n",
    "# 출력\n",
    "print(f\"정확도 (Accuracy): {acc:.4f}\")\n",
    "print(f\"AUC-ROC: {roc_auc:.4f}\")\n",
    "print(\"\\n분류 리포트:\")\n",
    "print(report)\n",
    "print(\"Confusion Matrix:\")\n",
    "print(cm)\n",
    "\n",
    "# AUC-ROC 그래프 시각화\n",
    "fpr, tpr, _ = roc_curve(y_true, y_score)\n",
    "plt.figure()\n",
    "plt.plot(fpr, tpr, color='darkorange', lw=2,\n",
    "         label=f'ROC curve (area = {roc_auc:.4f})')\n",
    "plt.plot([0, 1], [0, 1], color='navy', lw=2, linestyle='--')\n",
    "plt.xlim([-0.01, 1.0])\n",
    "plt.ylim([0.0, 1.01])\n",
    "plt.xlabel('False Positive Rate')\n",
    "plt.ylabel('True Positive Rate')\n",
    "plt.title('Receiver Operating Characteristic - Multimodal Model')\n",
    "plt.legend(loc=\"lower right\")\n",
    "plt.grid(True)\n",
    "plt.show()\n"
   ]
  },
  {
   "cell_type": "markdown",
   "metadata": {
    "id": "dQiKf9thyjAy"
   },
   "source": [
    "\n",
    "\n",
    "---\n",
    "\n",
    "\n",
    "## 전체 성능 요약\n",
    "[멀티모달 모델]\n",
    "- 정확도 (Accuracy): 81.00%\n",
    "- AUC-ROC: 90.41%\n",
    "\n",
    "[현재 모델]\n",
    "- 학습률: 1e-4\n",
    "- 정확도 (Accuracy): 78.00%\n",
    "- AUC-ROC: 88.12%\n"
   ]
  },
  {
   "cell_type": "code",
   "execution_count": null,
   "metadata": {
    "id": "RimY4yY_x1GE"
   },
   "outputs": [],
   "source": []
  }
 ],
 "metadata": {
  "accelerator": "GPU",
  "colab": {
   "gpuType": "T4",
   "machine_shape": "hm",
   "provenance": []
  },
  "kernelspec": {
   "display_name": "Python 3",
   "name": "python3"
  },
  "language_info": {
   "name": "python"
  }
 },
 "nbformat": 4,
 "nbformat_minor": 0
}
