{
  "cells": [
    {
      "cell_type": "markdown",
      "source": [
        "### [1] 패키지 불러오기"
      ],
      "metadata": {
        "id": "8eCyFsJgzeCf"
      }
    },
    {
      "cell_type": "code",
      "source": [
        "import os\n",
        "import json\n",
        "import torch\n",
        "import torch.nn as nn\n",
        "import torch.nn.functional as F\n",
        "import timm\n",
        "from torch.utils.data import DataLoader, Dataset\n",
        "from torchvision import transforms\n",
        "import torch.optim as optim\n",
        "from torch.optim import lr_scheduler\n",
        "from PIL import Image"
      ],
      "metadata": {
        "id": "oHROc_uf4ix7"
      },
      "execution_count": 1,
      "outputs": []
    },
    {
      "cell_type": "markdown",
      "source": [
        "### [2] Data transform 정의"
      ],
      "metadata": {
        "id": "Epb_upZUz68i"
      }
    },
    {
      "cell_type": "code",
      "execution_count": 2,
      "metadata": {
        "id": "nJH0sQWIruYx"
      },
      "outputs": [],
      "source": [
        "import torchvision.transforms as transforms\n",
        "\n",
        "# 사이즈 설정\n",
        "size = [230, 230]\n",
        "center_size = [224, 224]\n",
        "\n",
        "# 학습용 Transform\n",
        "TrainTransform = transforms.Compose([\n",
        "    transforms.Resize(size),\n",
        "    transforms.CenterCrop(center_size),\n",
        "    transforms.RandomRotation(20),\n",
        "    transforms.RandomHorizontalFlip(),\n",
        "    transforms.RandomVerticalFlip(),\n",
        "    transforms.ColorJitter(brightness=0.25, contrast=0.25, saturation=0.25, hue=0.02),\n",
        "    transforms.ToTensor(),\n",
        "    transforms.Normalize(mean=[0.485, 0.456, 0.406], std=[0.229, 0.224, 0.225])\n",
        "])\n",
        "\n",
        "# 검증/테스트용 Transform\n",
        "ValidTransform = transforms.Compose([\n",
        "    transforms.Resize(size),\n",
        "    transforms.CenterCrop(center_size),\n",
        "    transforms.ToTensor(),\n",
        "    transforms.Normalize(mean=[0.485, 0.456, 0.406], std=[0.229, 0.224, 0.225])\n",
        "])\n"
      ]
    },
    {
      "cell_type": "markdown",
      "metadata": {
        "id": "E39LCz-hseVB"
      },
      "source": [
        "### [3] Eye dataset 클래스"
      ]
    },
    {
      "cell_type": "code",
      "execution_count": 3,
      "metadata": {
        "id": "jjsK0mh2sXot"
      },
      "outputs": [],
      "source": [
        "class MultimodalEyeDataset(Dataset):\n",
        "    def __init__(self, data, image_path, transform=None):\n",
        "        self.data = data\n",
        "        self.image_path = image_path\n",
        "        self.transform = transform\n",
        "\n",
        "    def __len__(self):\n",
        "        return len(self.data)\n",
        "\n",
        "    def __getitem__(self, idx):\n",
        "        item = self.data[idx]\n",
        "\n",
        "        # 이미지 불러오기\n",
        "        left_img = Image.open(os.path.join(self.image_path, item['left_eye'])).convert('RGB')\n",
        "        right_img = Image.open(os.path.join(self.image_path, item['right_eye'])).convert('RGB')\n",
        "\n",
        "        if self.transform:\n",
        "            left_img = self.transform(left_img)\n",
        "            right_img = self.transform(right_img)\n",
        "\n",
        "        # 임상정보: gender -> one-hot 인코딩, norm_age\n",
        "        norm_age = torch.tensor(item['age'], dtype=torch.float32)\n",
        "        gender = item['gender']  # 0 or 1\n",
        "        gender_one_hot = torch.tensor([1, 0], dtype=torch.float32) if gender == 0 else torch.tensor([0, 1], dtype=torch.float32)\n",
        "\n",
        "        clinical = torch.cat([norm_age.unsqueeze(0), gender_one_hot])  # shape: [3]\n",
        "\n",
        "        label = torch.tensor(item['label'], dtype=torch.long)\n",
        "\n",
        "        return left_img, right_img, clinical, label\n",
        "\n",
        "    @classmethod\n",
        "    def from_json(cls, json_file, image_path, group_value=1, include_0_9mm=True, transform=None):\n",
        "        with open(json_file, 'r') as f:\n",
        "            raw_data = json.load(f)\n",
        "\n",
        "        usable_data = [\n",
        "            item for item in raw_data.values()\n",
        "            if item['group'] == group_value and (include_0_9mm or item['thickness'] != 0.9)\n",
        "        ]\n",
        "\n",
        "        print(f\"usable multimodal samples for group {group_value}: {len(usable_data)}\")\n",
        "        return cls(usable_data, image_path, transform)\n"
      ]
    },
    {
      "cell_type": "markdown",
      "source": [
        "### [4] 구글 드라이브 연동"
      ],
      "metadata": {
        "id": "M0kEZVwg0NrT"
      }
    },
    {
      "cell_type": "code",
      "source": [
        "from google.colab import drive\n",
        "drive.mount('/content/drive')"
      ],
      "metadata": {
        "colab": {
          "base_uri": "https://localhost:8080/"
        },
        "id": "VIpnFYkNt4-U",
        "outputId": "d03e0b3c-52b3-4764-b879-e45df8b7c5bb"
      },
      "execution_count": 4,
      "outputs": [
        {
          "output_type": "stream",
          "name": "stdout",
          "text": [
            "Mounted at /content/drive\n"
          ]
        }
      ]
    },
    {
      "cell_type": "markdown",
      "source": [
        "### [5] train_loader, val_loader, test_loader 구성"
      ],
      "metadata": {
        "id": "Lbb3Lgqb0Sw2"
      }
    },
    {
      "cell_type": "code",
      "source": [
        "# 경로 설정\n",
        "json_file = '/content/drive/MyDrive/cv_project/dataset/data_info.json'\n",
        "image_path = '/content/drive/MyDrive/cv_project/dataset/train_images/Fundus_CIMT_2903 Dataset'\n",
        "\n",
        "# 학습용 데이터셋 (group 1)\n",
        "train_dataset = MultimodalEyeDataset.from_json(\n",
        "    json_file=json_file,\n",
        "    image_path=image_path,\n",
        "    group_value=1,\n",
        "    include_0_9mm=True,\n",
        "    transform=TrainTransform\n",
        ")\n",
        "\n",
        "# 검증용 데이터셋 (group 2)\n",
        "val_dataset = MultimodalEyeDataset.from_json(\n",
        "    json_file=json_file,\n",
        "    image_path=image_path,\n",
        "    group_value=2,\n",
        "    include_0_9mm=True,\n",
        "    transform=ValidTransform\n",
        ")\n",
        "\n",
        "# 테스트용 데이터셋 (group 3)\n",
        "test_dataset = MultimodalEyeDataset.from_json(\n",
        "    json_file=json_file,\n",
        "    image_path=image_path,\n",
        "    group_value=3,\n",
        "    include_0_9mm=True,\n",
        "    transform=ValidTransform\n",
        ")\n",
        "\n",
        "from torch.utils.data import DataLoader\n",
        "\n",
        "# 최적화 설정: num_workers=2, pin_memory=True\n",
        "train_loader = DataLoader(train_dataset, batch_size=16, shuffle=True, num_workers=2, pin_memory=True)\n",
        "val_loader = DataLoader(val_dataset, batch_size=16, shuffle=False, num_workers=2, pin_memory=True)\n",
        "test_loader = DataLoader(test_dataset, batch_size=16, shuffle=False, num_workers=2, pin_memory=True)\n"
      ],
      "metadata": {
        "colab": {
          "base_uri": "https://localhost:8080/"
        },
        "id": "ohdRvVYMtQ26",
        "outputId": "6cb8f413-e60c-42c8-b899-ae07399cfe96"
      },
      "execution_count": 5,
      "outputs": [
        {
          "output_type": "stream",
          "name": "stdout",
          "text": [
            "usable multimodal samples for group 1: 2603\n",
            "usable multimodal samples for group 2: 200\n",
            "usable multimodal samples for group 3: 100\n"
          ]
        }
      ]
    },
    {
      "cell_type": "markdown",
      "source": [
        "### [6] 모델 정의"
      ],
      "metadata": {
        "id": "L8BVVQwl0bgO"
      }
    },
    {
      "cell_type": "code",
      "source": [
        "import torch\n",
        "import torch.nn as nn\n",
        "import timm\n",
        "\n",
        "class SiameseEfficientNetV2MultimodalClassifier(nn.Module):\n",
        "    def __init__(self, dropout_p=0.3):\n",
        "        super(SiameseEfficientNetV2MultimodalClassifier, self).__init__()\n",
        "\n",
        "        # EfficientNetV2 백본 (feature extractor)\n",
        "        self.backbone = timm.create_model('tf_efficientnetv2_s.in1k', pretrained=True, num_classes=0)\n",
        "        self.dropout = nn.Dropout(dropout_p)\n",
        "\n",
        "        # 임상정보 임베딩\n",
        "        self.clinical_fc = nn.Sequential(\n",
        "            nn.Linear(3, 128),  # 성별 one-hot (2) + 정규화 나이 (1)\n",
        "            nn.ReLU(),\n",
        "            nn.Dropout(dropout_p)\n",
        "        )\n",
        "\n",
        "        # 분류기: 이미지 feature + 임상 feature\n",
        "        self.classifier = nn.Sequential(\n",
        "            nn.Linear(1280 * 2 + 128, 512),  # 왼쪽 + 오른쪽 이미지 + 임상\n",
        "            nn.ReLU(),\n",
        "            nn.Dropout(dropout_p),\n",
        "            nn.Linear(512, 2)  # 이진 분류\n",
        "        )\n",
        "\n",
        "    def forward(self, left, right, clinical):\n",
        "        # 왼쪽, 오른쪽 이미지 피처 추출\n",
        "        left_feat = self.backbone(left)     # (B, 1280)\n",
        "        right_feat = self.backbone(right)   # (B, 1280)\n",
        "        image_feat = torch.cat([left_feat, right_feat], dim=1)  # (B, 2560)\n",
        "        image_feat = self.dropout(image_feat)\n",
        "\n",
        "        # 임상정보 임베딩\n",
        "        clinical_feat = self.clinical_fc(clinical)  # (B, 128)\n",
        "\n",
        "        # 최종 feature 결합\n",
        "        fused = torch.cat([image_feat, clinical_feat], dim=1)  # (B, 2688)\n",
        "        output = self.classifier(fused)  # (B, 2)\n",
        "\n",
        "        return output\n"
      ],
      "metadata": {
        "id": "ywGbN0T2t35V"
      },
      "execution_count": 6,
      "outputs": []
    },
    {
      "cell_type": "markdown",
      "source": [
        "### [7] FocalLoss 클래스 정의"
      ],
      "metadata": {
        "id": "TRbNvRWG007C"
      }
    },
    {
      "cell_type": "code",
      "source": [
        "import torch\n",
        "import torch.nn as nn\n",
        "import torch.nn.functional as F\n",
        "\n",
        "class FocalLoss(nn.Module):\n",
        "    def __init__(self, alpha=1, gamma=2, reduction='mean'):\n",
        "        super(FocalLoss, self).__init__()\n",
        "        self.alpha = alpha\n",
        "        self.gamma = gamma\n",
        "        self.reduction = reduction\n",
        "\n",
        "    def forward(self, inputs, targets):\n",
        "        CE_loss = F.cross_entropy(inputs, targets, reduction='none')\n",
        "        pt = torch.exp(-CE_loss)\n",
        "        focal_loss = self.alpha * (1 - pt) ** self.gamma * CE_loss\n",
        "\n",
        "        if self.reduction == 'mean':\n",
        "            return focal_loss.mean()\n",
        "        elif self.reduction == 'sum':\n",
        "            return focal_loss.sum()\n",
        "        else:\n",
        "            return focal_loss\n"
      ],
      "metadata": {
        "id": "8ak20Qk-v4Dn"
      },
      "execution_count": 7,
      "outputs": []
    },
    {
      "cell_type": "markdown",
      "source": [
        "### [8] 학습 루프 + loss 그래프"
      ],
      "metadata": {
        "id": "OM2Tn1wj07di"
      }
    },
    {
      "cell_type": "code",
      "source": [
        "import json\n",
        "import matplotlib.pyplot as plt\n",
        "import torch\n",
        "import torch.nn as nn\n",
        "import torch.optim as optim\n",
        "from torch.optim import lr_scheduler\n",
        "\n",
        "# 디바이스 설정\n",
        "device = torch.device(\"cuda\" if torch.cuda.is_available() else \"cpu\")\n",
        "\n",
        "# 모델 초기화\n",
        "model = SiameseEfficientNetV2MultimodalClassifier(dropout_p=0.3).to(device)\n",
        "\n",
        "# 손실 함수\n",
        "criterion = FocalLoss()\n",
        "\n",
        "# 옵티마이저 (AdamW)\n",
        "optimizer = optim.AdamW(model.parameters(), lr=1e-3, weight_decay=1e-4)\n",
        "\n",
        "# 학습률 스케줄러\n",
        "scheduler = lr_scheduler.StepLR(optimizer, step_size=20, gamma=0.1)\n",
        "\n",
        "# 하이퍼파라미터\n",
        "epochs = 20\n",
        "best_val_loss = float('inf')\n",
        "\n",
        "# 손실 저장 리스트\n",
        "train_losses = []\n",
        "val_losses = []\n",
        "val_accuracies = []\n",
        "\n",
        "# 학습 루프\n",
        "for epoch in range(epochs):\n",
        "    model.train()\n",
        "    running_loss = 0.0\n",
        "\n",
        "    for left, right, clinical, labels in train_loader:\n",
        "        left, right = left.to(device), right.to(device)\n",
        "        clinical, labels = clinical.to(device), labels.to(device)\n",
        "\n",
        "        optimizer.zero_grad()\n",
        "        outputs = model(left, right, clinical)\n",
        "        loss = criterion(outputs, labels)\n",
        "        loss.backward()\n",
        "        optimizer.step()\n",
        "\n",
        "        running_loss += loss.item()\n",
        "\n",
        "    # Validation\n",
        "    model.eval()\n",
        "    val_loss = 0.0\n",
        "    correct = 0\n",
        "    total = 0\n",
        "\n",
        "    with torch.no_grad():\n",
        "        for left, right, clinical, labels in val_loader:\n",
        "            left, right = left.to(device), right.to(device)\n",
        "            clinical, labels = clinical.to(device), labels.to(device)\n",
        "\n",
        "            outputs = model(left, right, clinical)\n",
        "            loss = criterion(outputs, labels)\n",
        "            val_loss += loss.item()\n",
        "\n",
        "            preds = torch.argmax(outputs, dim=1)\n",
        "            correct += (preds == labels).sum().item()\n",
        "            total += labels.size(0)\n",
        "\n",
        "    val_accuracy = correct / total\n",
        "    avg_train_loss = running_loss / len(train_loader)\n",
        "    avg_val_loss = val_loss / len(val_loader)\n",
        "\n",
        "    train_losses.append(avg_train_loss)\n",
        "    val_losses.append(avg_val_loss)\n",
        "    val_accuracies.append(val_accuracy)\n",
        "\n",
        "    scheduler.step()\n",
        "\n",
        "    # Best 모델 저장\n",
        "    if avg_val_loss < best_val_loss:\n",
        "        best_val_loss = avg_val_loss\n",
        "        torch.save(model.state_dict(), '/content/drive/MyDrive/cv_project/01unimodal/best_effnetv2_multimodal2_1e-3.pth')\n",
        "        print(f\"Best model updated at epoch {epoch+1} (Val Loss: {best_val_loss:.4f})\")\n",
        "\n",
        "    print(f\"Epoch {epoch+1}/{epochs} | Train Loss: {avg_train_loss:.4f} | Val Loss: {avg_val_loss:.4f} | \"\n",
        "          f\"Val Acc: {val_accuracy:.4f} | LR: {scheduler.get_last_lr()[0]:.6f}\")\n",
        "\n",
        "# 손실 기록 저장\n",
        "loss_history = {\n",
        "    'train_loss': train_losses,\n",
        "    'val_loss': val_losses,\n",
        "    'val_accuracy': val_accuracies\n",
        "}\n",
        "\n",
        "with open('/content/drive/MyDrive/cv_project/01unimodal/loss_history_effnetv2_multimodal2_1e-3.json', 'w') as f:\n",
        "    json.dump(loss_history, f, indent=2)\n",
        "\n",
        "print(\"loss_history_effnetv2_multimodal2_1e-3.json 저장 완료!\")\n"
      ],
      "metadata": {
        "id": "wRRHK-56wxkC",
        "colab": {
          "base_uri": "https://localhost:8080/"
        },
        "outputId": "e2582328-65ca-4fbd-cddc-3e7f532fc934"
      },
      "execution_count": 12,
      "outputs": [
        {
          "output_type": "stream",
          "name": "stdout",
          "text": [
            "Best model updated at epoch 1 (Val Loss: 0.1335)\n",
            "Epoch 1/20 | Train Loss: 0.1393 | Val Loss: 0.1335 | Val Acc: 0.7600 | LR: 0.001000\n",
            "Epoch 2/20 | Train Loss: 0.1169 | Val Loss: 0.1981 | Val Acc: 0.5200 | LR: 0.001000\n",
            "Best model updated at epoch 3 (Val Loss: 0.1217)\n",
            "Epoch 3/20 | Train Loss: 0.1160 | Val Loss: 0.1217 | Val Acc: 0.8000 | LR: 0.001000\n",
            "Epoch 4/20 | Train Loss: 0.1122 | Val Loss: 0.1485 | Val Acc: 0.7250 | LR: 0.001000\n",
            "Epoch 5/20 | Train Loss: 0.1113 | Val Loss: 0.1563 | Val Acc: 0.6750 | LR: 0.001000\n",
            "Epoch 6/20 | Train Loss: 0.1103 | Val Loss: 0.1680 | Val Acc: 0.6900 | LR: 0.001000\n",
            "Epoch 7/20 | Train Loss: 0.1097 | Val Loss: 0.1617 | Val Acc: 0.6650 | LR: 0.001000\n",
            "Epoch 8/20 | Train Loss: 0.1094 | Val Loss: 0.1724 | Val Acc: 0.6600 | LR: 0.001000\n",
            "Epoch 9/20 | Train Loss: 0.1116 | Val Loss: 0.1469 | Val Acc: 0.7050 | LR: 0.001000\n",
            "Epoch 10/20 | Train Loss: 0.1107 | Val Loss: 0.1489 | Val Acc: 0.7050 | LR: 0.001000\n",
            "Epoch 11/20 | Train Loss: 0.1120 | Val Loss: 0.1391 | Val Acc: 0.7250 | LR: 0.001000\n",
            "Epoch 12/20 | Train Loss: 0.1088 | Val Loss: 0.1706 | Val Acc: 0.6650 | LR: 0.001000\n",
            "Epoch 13/20 | Train Loss: 0.1099 | Val Loss: 0.1420 | Val Acc: 0.7350 | LR: 0.001000\n",
            "Epoch 14/20 | Train Loss: 0.1095 | Val Loss: 0.1559 | Val Acc: 0.7100 | LR: 0.001000\n",
            "Epoch 15/20 | Train Loss: 0.1091 | Val Loss: 0.1435 | Val Acc: 0.7100 | LR: 0.001000\n",
            "Epoch 16/20 | Train Loss: 0.1103 | Val Loss: 0.1464 | Val Acc: 0.6850 | LR: 0.001000\n",
            "Epoch 17/20 | Train Loss: 0.1099 | Val Loss: 0.1390 | Val Acc: 0.7600 | LR: 0.001000\n",
            "Epoch 18/20 | Train Loss: 0.1103 | Val Loss: 0.1645 | Val Acc: 0.7000 | LR: 0.001000\n",
            "Epoch 19/20 | Train Loss: 0.1102 | Val Loss: 0.1526 | Val Acc: 0.7200 | LR: 0.001000\n",
            "Epoch 20/20 | Train Loss: 0.1092 | Val Loss: 0.1698 | Val Acc: 0.6600 | LR: 0.000100\n",
            "loss_history_effnetv2_multimodal2_1e-3.json 저장 완료!\n"
          ]
        }
      ]
    },
    {
      "cell_type": "code",
      "source": [
        "# 학습 종료 후 그래프 시각화\n",
        "plt.figure(figsize=(8, 5))\n",
        "plt.plot(train_losses, label='Train Loss')\n",
        "plt.plot(val_losses, label='Validation Loss')\n",
        "plt.xlabel('Epoch')\n",
        "plt.ylabel('Loss')\n",
        "plt.title('Training vs Validation Loss')\n",
        "plt.legend()\n",
        "plt.grid(True)\n",
        "plt.show()"
      ],
      "metadata": {
        "id": "cAergRM8loVK",
        "colab": {
          "base_uri": "https://localhost:8080/",
          "height": 487
        },
        "outputId": "aa989d1c-2e26-4843-8c55-58a2ba03ce31"
      },
      "execution_count": 13,
      "outputs": [
        {
          "output_type": "display_data",
          "data": {
            "text/plain": [
              "<Figure size 800x500 with 1 Axes>"
            ],
            "image/png": "[encoded data removed]"
          },
          "metadata": {}
        }
      ]
    },
    {
      "cell_type": "markdown",
      "source": [
        "### [9] predict_result.json 저장"
      ],
      "metadata": {
        "id": "0QXYSyEW1dvW"
      }
    },
    {
      "cell_type": "code",
      "source": [
        "from tqdm import tqdm\n",
        "import torch\n",
        "import json\n",
        "\n",
        "# 모델 로드\n",
        "model = SiameseEfficientNetV2MultimodalClassifier(dropout_p=0.3).to(device)\n",
        "model.load_state_dict(torch.load('/content/drive/MyDrive/cv_project/01unimodal/best_effnetv2_multimodal2_1e-3.pth'))\n",
        "model.eval()\n",
        "\n",
        "# 예측 수행\n",
        "results = []\n",
        "\n",
        "with torch.no_grad():\n",
        "    for left, right, clinical, labels in tqdm(test_loader, desc=\"Predicting\"):\n",
        "        left = left.to(device)\n",
        "        right = right.to(device)\n",
        "        clinical = clinical.to(device)\n",
        "\n",
        "        outputs = model(left, right, clinical)\n",
        "        probs = torch.softmax(outputs, dim=1)\n",
        "        preds = torch.argmax(probs, dim=1)\n",
        "\n",
        "        for true, pred, prob in zip(labels.cpu(), preds.cpu(), probs[:, 1].cpu()):\n",
        "            results.append({\n",
        "                \"true_label\": int(true.item()),\n",
        "                \"pred_label\": int(pred.item()),\n",
        "                \"prob_thickened\": float(prob.item())  # class 1 (두꺼워진) 확률\n",
        "            })\n",
        "\n",
        "# 결과 저장\n",
        "output_path = \"/content/drive/MyDrive/cv_project/01unimodal/predict_result_effnetv2_multimodal2_1e-3.json\"\n",
        "with open(output_path, \"w\") as f:\n",
        "    json.dump(results, f, indent=2)\n",
        "\n",
        "print(f\"예측 결과 저장 완료: {output_path}\")\n"
      ],
      "metadata": {
        "colab": {
          "base_uri": "https://localhost:8080/"
        },
        "id": "LStZ3-lzydnR",
        "outputId": "4617c50b-87e5-4d00-f175-dd003fb742bb"
      },
      "execution_count": 14,
      "outputs": [
        {
          "output_type": "stream",
          "name": "stderr",
          "text": [
            "Predicting: 100%|██████████| 7/7 [00:01<00:00,  3.96it/s]"
          ]
        },
        {
          "output_type": "stream",
          "name": "stdout",
          "text": [
            "예측 결과 저장 완료: /content/drive/MyDrive/cv_project/01unimodal/predict_result_effnetv2_multimodal2_1e-3.json\n"
          ]
        },
        {
          "output_type": "stream",
          "name": "stderr",
          "text": [
            "\n"
          ]
        }
      ]
    },
    {
      "cell_type": "markdown",
      "source": [
        "### [10] 평가 + AUC Curve 그리기"
      ],
      "metadata": {
        "id": "1RoExT701lNO"
      }
    },
    {
      "cell_type": "code",
      "source": [
        "import json\n",
        "import numpy as np\n",
        "from sklearn.metrics import roc_curve, roc_auc_score, classification_report, confusion_matrix\n",
        "import matplotlib.pyplot as plt\n",
        "\n",
        "# 예측 결과 불러오기\n",
        "with open(\"/content/drive/MyDrive/cv_project/01unimodal/predict_result_effnetv2_multimodal2_1e-3.json\", \"r\") as f:\n",
        "    results = json.load(f)\n",
        "\n",
        "# true, pred, prob 분리\n",
        "y_true = [r[\"true_label\"] for r in results]\n",
        "y_pred = [r[\"pred_label\"] for r in results]\n",
        "y_prob = [r[\"prob_thickened\"] for r in results]\n",
        "\n",
        "# AUC-ROC 계산\n",
        "fpr, tpr, thresholds = roc_curve(y_true, y_prob)\n",
        "auc_score = roc_auc_score(y_true, y_prob)\n",
        "\n",
        "# ROC Curve 그리기\n",
        "plt.figure(figsize=(8, 6))\n",
        "plt.plot(fpr, tpr, label=f\"AUC = {auc_score:.4f}\")\n",
        "plt.plot([0, 1], [0, 1], linestyle='--', color='gray')\n",
        "plt.xlabel(\"False Positive Rate\")\n",
        "plt.ylabel(\"True Positive Rate\")\n",
        "plt.title(\"ROC Curve (SiameseEffNetV2 Classifier)\")\n",
        "plt.legend()\n",
        "plt.grid(True)\n",
        "plt.tight_layout()\n",
        "plt.show()\n",
        "\n",
        "# 추가 성능 출력\n",
        "accuracy = np.mean(np.array(y_true) == np.array(y_pred))\n",
        "print(f\"정확도 (Accuracy): {accuracy:.4f}\")\n",
        "print(f\"AUC-ROC: {auc_score:.4f}\")\n",
        "print(\"\\n분류 리포트:\")\n",
        "print(classification_report(y_true, y_pred, target_names=[\"Normal\", \"Thickened\"]))\n",
        "print(\"\\nConfusion Matrix:\")\n",
        "print(confusion_matrix(y_true, y_pred))\n"
      ],
      "metadata": {
        "colab": {
          "base_uri": "https://localhost:8080/",
          "height": 916
        },
        "id": "K1CaQ28jWhJc",
        "outputId": "4bcabbba-6f13-4967-f5f4-77121809fd2a"
      },
      "execution_count": 15,
      "outputs": [
        {
          "output_type": "display_data",
          "data": {
            "text/plain": [
              "<Figure size 800x600 with 1 Axes>"
            ],
            "image/png": "[encoded data removed]"
          },
          "metadata": {}
        },
        {
          "output_type": "stream",
          "name": "stdout",
          "text": [
            "정확도 (Accuracy): 0.8500\n",
            "AUC-ROC: 0.9440\n",
            "\n",
            "분류 리포트:\n",
            "              precision    recall  f1-score   support\n",
            "\n",
            "      Normal       0.91      0.78      0.84        50\n",
            "   Thickened       0.81      0.92      0.86        50\n",
            "\n",
            "    accuracy                           0.85       100\n",
            "   macro avg       0.86      0.85      0.85       100\n",
            "weighted avg       0.86      0.85      0.85       100\n",
            "\n",
            "\n",
            "Confusion Matrix:\n",
            "[[39 11]\n",
            " [ 4 46]]\n"
          ]
        }
      ]
    },
    {
      "cell_type": "markdown",
      "source": [
        "\n",
        "\n",
        "---\n",
        "\n",
        "\n",
        "## 전체 성능 요약\n",
        "[단일모달 모델]\n",
        "- 정확도 (Accuracy): 75.00%\n",
        "- AUC-ROC: 82.58%\n",
        "\n",
        "[현재 모델]\n",
        "- 학습률: 1e-4\n",
        "- 정확도 (Accuracy): 77.00%\n",
        "- AUC-ROC: 85.08%"
      ],
      "metadata": {
        "id": "sO2DfaP-1CS9"
      }
    },
    {
      "cell_type": "code",
      "source": [],
      "metadata": {
        "id": "SQ1YX4KD6jZ7"
      },
      "execution_count": null,
      "outputs": []
    }
  ],
  "metadata": {
    "accelerator": "GPU",
    "colab": {
      "gpuType": "L4",
      "machine_shape": "hm",
      "provenance": []
    },
    "kernelspec": {
      "display_name": "Python 3",
      "name": "python3"
    },
    "language_info": {
      "name": "python"
    }
  },
  "nbformat": 4,
  "nbformat_minor": 0
}
